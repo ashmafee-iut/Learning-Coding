{
  "nbformat": 4,
  "nbformat_minor": 0,
  "metadata": {
    "colab": {
      "provenance": [],
      "authorship_tag": "ABX9TyOg1ebFoVmHqOzzuUhvy/Lj",
      "include_colab_link": true
    },
    "kernelspec": {
      "name": "python3",
      "display_name": "Python 3"
    },
    "language_info": {
      "name": "python"
    }
  },
  "cells": [
    {
      "cell_type": "markdown",
      "metadata": {
        "id": "view-in-github",
        "colab_type": "text"
      },
      "source": [
        "<a href=\"https://colab.research.google.com/github/ashmafee-iut/Learning-Coding/blob/main/Import_module_in_python.ipynb\" target=\"_parent\"><img src=\"https://colab.research.google.com/assets/colab-badge.svg\" alt=\"Open In Colab\"/></a>"
      ]
    },
    {
      "cell_type": "markdown",
      "source": [
        " > **What is a Module?**\n",
        "\n",
        "Consider a module to be the same as a code library. A file containing a set of functions you want to include in your application. A module is a file with python code. The code can be in the form of variables, functions, or class defined. The filename becomes the module name. With module functionality, you can break your code into different files instead of writing everything inside one file. A file is considered as a module in python. The function or variables present inside the file can be used in another file by importing the module. Module works as a **namespace** that keeps all the attributes together and keeps the code readable and organized. \n",
        " \n"
      ],
      "metadata": {
        "id": "eJOIVa7G4K3x"
      }
    },
    {
      "cell_type": "markdown",
      "source": [
        " > **namespace** \n",
        "\n",
        "Python namespace is a structure that is used to organize the symbolic names assigned to objects in a Python program.\n",
        "\n",
        "A namespace is a collection of currently defined symbolic names along with information about the object that each name refers. You can think of a namespace as a dictionary in which the **keys** are the **object names** and the **values** are the **objects themselves**. Each key-value pair maps a name to its corresponding object.\n",
        "\n",
        "In a Python program, there are four types of namespaces:\n",
        " - **Built-In**\n",
        "  - The built-in namespace contains the names of all of Python’s built-in objects. These are available at all times when Python is running. You can list the objects in the built-in namespace with the following command:\n",
        "   - **dir(\\_\\_builtins__)**\n",
        " - Global\n",
        "  - The global namespace contains any names defined at the level of the **main program**. Python creates the global namespace when the main program body starts, and it remains in existence until the interpreter terminates.\n",
        " - Local\n",
        "  -  An interpreter creates a new namespace whenever a function executes. That namespace is local to the function and remains in existence until the function terminates.\n",
        " - Enclosing\n",
        "  - When a function/class is called within another function/class, some local namespace from the parent function/class what is referred to an enclosing namespace  \n",
        "\n",
        " \n",
        " \n"
      ],
      "metadata": {
        "id": "uYffzPllQSa5"
      }
    },
    {
      "cell_type": "markdown",
      "source": [
        "> **Create a Module**\n",
        "\n",
        "To create a module just save the code you want in a file with the file extension **.py**\n",
        "\n",
        " > **Importing a Module**\n",
        "\n",
        "Importing refers to allowing a Python file (.py) or a Python module to access the script (.py) from another Python file or module. You can only use functions and properties in this modules so that your program can access them. For instance, if you want to use **mathematical functionalities**, you must import the **math package** first. This is because you must define everything you want to use in a Python file before you use them. Otherwise, Python would give a **NameError**. \n"
      ],
      "metadata": {
        "id": "WXpMkkMgQWzX"
      }
    },
    {
      "cell_type": "markdown",
      "source": [
        "**Import** in python is similar to **#include header_file** in **C/C++**. <u>Python modules can get access to code from another module by importing the file/function using import.</u> The import statement is the most common way of invoking the import machinery, <u>but it is not the only way.</u>\n",
        "\n",
        "\n",
        "\n",
        "> **import module_name**\n",
        "\n",
        "\n",
        "\n",
        "When the **import** is used, it searches for the module initially in the local scope by calling **\\_\\_import__()** function. The value returned by the function is then reflected in the output of the initial code. \n",
        "\n",
        "The import statements do a lot under the hood to import file or module. First, they look for your module or package in sys.modules, where Python stores your previously imported code. If Python cannot find the module there, it will then search through the Python Standard Library for it. If Python still cannot find the module, it will go through your entire storage space, starting with the current directory and the ones listed in your system.path. If the module is found in these places, it will add the module to your program, otherwise, it will give a ModuleNotFoundError."
      ],
      "metadata": {
        "id": "3DHRElTduePk"
      }
    },
    {
      "cell_type": "code",
      "execution_count": null,
      "metadata": {
        "colab": {
          "base_uri": "https://localhost:8080/"
        },
        "id": "P47a7umInV-U",
        "outputId": "6b6c669b-e9a4-422a-9d89-3c4af9b9d9d6"
      },
      "outputs": [
        {
          "output_type": "stream",
          "name": "stdout",
          "text": [
            "Writing my_module.py\n"
          ]
        }
      ],
      "source": [
        "%%writefile my_module.py\n",
        "print(\"My name is COLAB\\n\\n\")\n",
        "print('Imported my_module...\\n\\n')\n",
        "\n",
        "test = 'Test String'\n",
        "\n",
        "\n",
        "def find_index(to_search, target):\n",
        "    '''Find the index of a value in a sequence'''\n",
        "    for i, value in enumerate(to_search):\n",
        "        if value == target:\n",
        "            return i\n",
        "\n",
        "    return -1\n",
        "\n",
        "\n",
        "print('At the end of my_module...\\n\\n')"
      ]
    },
    {
      "cell_type": "code",
      "source": [
        "# If we want to delete previous saved module, use the del operator \n",
        "#\n",
        "# del my_module"
      ],
      "metadata": {
        "id": "9siCijlwok5h"
      },
      "execution_count": null,
      "outputs": []
    },
    {
      "cell_type": "code",
      "source": [
        "import my_module\n",
        "courses = ['History', 'Math', 'Physics', 'CompSci']"
      ],
      "metadata": {
        "colab": {
          "base_uri": "https://localhost:8080/"
        },
        "id": "OjZwAJ5Unw3d",
        "outputId": "de385b80-ce4c-438f-e9b1-f8a42f0eb300"
      },
      "execution_count": null,
      "outputs": [
        {
          "output_type": "stream",
          "name": "stdout",
          "text": [
            "My name is COLAB\n",
            "\n",
            "\n",
            "Imported my_module...\n",
            "\n",
            "\n",
            "At the end of my_module...\n",
            "\n",
            "\n"
          ]
        }
      ]
    },
    {
      "cell_type": "code",
      "source": [
        "index = my_module.find_index(courses, \"Math\")\n",
        "print(index)"
      ],
      "metadata": {
        "colab": {
          "base_uri": "https://localhost:8080/"
        },
        "id": "qh67s1dRobXj",
        "outputId": "17ae6e64-9b44-4230-af73-dfc2558fcb14"
      },
      "execution_count": null,
      "outputs": [
        {
          "output_type": "stream",
          "name": "stdout",
          "text": [
            "1\n"
          ]
        }
      ]
    },
    {
      "cell_type": "code",
      "source": [
        "import my_module as mm\n",
        "index = mm.find_index(courses, \"Math\")\n",
        "print(index)"
      ],
      "metadata": {
        "colab": {
          "base_uri": "https://localhost:8080/"
        },
        "id": "Cdplomj-pX09",
        "outputId": "267faabd-3906-46fd-a87e-aa200eea0271"
      },
      "execution_count": null,
      "outputs": [
        {
          "output_type": "stream",
          "name": "stdout",
          "text": [
            "1\n"
          ]
        }
      ]
    },
    {
      "cell_type": "markdown",
      "source": [
        "You put the name of your code, module, or subpackage for mymodule, and its location for mypackage."
      ],
      "metadata": {
        "id": "9Xfv1Y_tW0or"
      }
    },
    {
      "cell_type": "code",
      "source": [
        "from my_module import find_index as find\n",
        "index = find(courses, \"Math\")\n",
        "print(index)"
      ],
      "metadata": {
        "colab": {
          "base_uri": "https://localhost:8080/"
        },
        "id": "K6QZr5c2puzb",
        "outputId": "298009ee-3abe-4724-bbef-64d284fe6e0f"
      },
      "execution_count": null,
      "outputs": [
        {
          "output_type": "stream",
          "name": "stdout",
          "text": [
            "1\n"
          ]
        }
      ]
    },
    {
      "cell_type": "code",
      "source": [
        "from my_module import test\n",
        "print(test)"
      ],
      "metadata": {
        "colab": {
          "base_uri": "https://localhost:8080/"
        },
        "id": "8TB2eRzOGpql",
        "outputId": "377911b2-f7b6-4591-d544-24d91a83b194"
      },
      "execution_count": null,
      "outputs": [
        {
          "output_type": "stream",
          "name": "stdout",
          "text": [
            "Test String\n"
          ]
        }
      ]
    },
    {
      "cell_type": "markdown",
      "source": [
        "\n",
        "\n",
        "> **import module_name.member_name**\n",
        "\n"
      ],
      "metadata": {
        "id": "ca70ugGayKHH"
      }
    },
    {
      "cell_type": "code",
      "source": [
        "import my_module\n",
        "#index = find(courses, \"Math\")\n",
        "#print(tst_str)"
      ],
      "metadata": {
        "id": "qk-O9Q1Mp_E8"
      },
      "execution_count": null,
      "outputs": []
    },
    {
      "cell_type": "markdown",
      "source": [],
      "metadata": {
        "id": "byD3z6o2ubaU"
      }
    },
    {
      "cell_type": "code",
      "source": [
        "import math\n",
        "pie = math.pi\n",
        "print(\"The value of pi is : \",pie)"
      ],
      "metadata": {
        "colab": {
          "base_uri": "https://localhost:8080/"
        },
        "id": "u03wU8pSzpf9",
        "outputId": "e9a18681-3673-418b-9d6b-a83ef4669602"
      },
      "execution_count": null,
      "outputs": [
        {
          "output_type": "stream",
          "name": "stdout",
          "text": [
            "The value of pi is :  3.141592653589793\n"
          ]
        }
      ]
    },
    {
      "cell_type": "code",
      "source": [
        "\n",
        "from math import pi\n",
        " \n",
        "# Note that in the above example,\n",
        "# we used math.pi. Here we have used\n",
        "# pi directly.\n",
        "print(pi)"
      ],
      "metadata": {
        "colab": {
          "base_uri": "https://localhost:8080/"
        },
        "id": "w8BnKsOyzp4y",
        "outputId": "68aacdf0-cacd-4b5b-9657-1ee9faeb40b3"
      },
      "execution_count": null,
      "outputs": [
        {
          "output_type": "stream",
          "name": "stdout",
          "text": [
            "3.141592653589793\n"
          ]
        }
      ]
    },
    {
      "cell_type": "code",
      "source": [
        "from math import *\n",
        "print(pi)\n",
        "print(factorial(6))"
      ],
      "metadata": {
        "colab": {
          "base_uri": "https://localhost:8080/"
        },
        "id": "im_CzXWAzsri",
        "outputId": "d4359371-6555-4509-db97-080fbdd8f3b3"
      },
      "execution_count": null,
      "outputs": [
        {
          "output_type": "stream",
          "name": "stdout",
          "text": [
            "3.141592653589793\n",
            "720\n"
          ]
        }
      ]
    },
    {
      "cell_type": "code",
      "source": [
        "%%writefile my_module1.py\n",
        "print(\"======================\\n\\n\")\n",
        "print('Imported my_module1...\\n\\n')\n",
        "\n",
        "def greeting(name):\n",
        "  print(\"Hello, \" + name)\n",
        "\n",
        "person = {\n",
        "  \"name\": \"John\",\n",
        "  \"age\": 36,\n",
        "  \"country\": \"Norway\"\n",
        "}\n",
        "\n",
        "print('======================\\n\\n')"
      ],
      "metadata": {
        "colab": {
          "base_uri": "https://localhost:8080/"
        },
        "id": "rBJhgf_TzxBi",
        "outputId": "0ab0e146-766b-4423-b4ad-c20da4af1e9d"
      },
      "execution_count": null,
      "outputs": [
        {
          "output_type": "stream",
          "name": "stdout",
          "text": [
            "Writing my_module1.py\n"
          ]
        }
      ]
    },
    {
      "cell_type": "code",
      "source": [
        "from my_module1 import person\n",
        "\n",
        "print (person[\"age\"])"
      ],
      "metadata": {
        "colab": {
          "base_uri": "https://localhost:8080/"
        },
        "id": "aukpHcjw10Rh",
        "outputId": "c0cc3d89-92b8-47a8-8288-64df3b43d62c"
      },
      "execution_count": null,
      "outputs": [
        {
          "output_type": "stream",
          "name": "stdout",
          "text": [
            "======================\n",
            "\n",
            "\n",
            "Imported my_module1...\n",
            "\n",
            "\n",
            "======================\n",
            "\n",
            "\n",
            "36\n"
          ]
        }
      ]
    },
    {
      "cell_type": "code",
      "source": [
        "import datetime\n",
        "\n",
        "x = datetime.datetime.now()\n",
        "print(x)"
      ],
      "metadata": {
        "colab": {
          "base_uri": "https://localhost:8080/"
        },
        "id": "07PJP4Ra2zta",
        "outputId": "d9e3d1af-ef5b-4dfc-b1d6-9f061968547b"
      },
      "execution_count": null,
      "outputs": [
        {
          "output_type": "stream",
          "name": "stdout",
          "text": [
            "2022-12-16 16:58:17.090494\n"
          ]
        }
      ]
    },
    {
      "cell_type": "markdown",
      "source": [
        "Use **dir()** function to print all variables and function names of the **imported module**"
      ],
      "metadata": {
        "id": "MNb0R0v851YU"
      }
    },
    {
      "cell_type": "code",
      "source": [
        "print(dir(datetime))"
      ],
      "metadata": {
        "colab": {
          "base_uri": "https://localhost:8080/"
        },
        "id": "M0uhYryR30iI",
        "outputId": "185c97bc-b6cf-4d45-fb8c-bac2305e5e49"
      },
      "execution_count": null,
      "outputs": [
        {
          "output_type": "stream",
          "name": "stdout",
          "text": [
            "['MAXYEAR', 'MINYEAR', '__builtins__', '__cached__', '__doc__', '__file__', '__loader__', '__name__', '__package__', '__spec__', 'date', 'datetime', 'datetime_CAPI', 'sys', 'time', 'timedelta', 'timezone', 'tzinfo']\n"
          ]
        }
      ]
    },
    {
      "cell_type": "markdown",
      "source": [
        "**From where the modules are imported:** From a list of directories in a **predefined system path**"
      ],
      "metadata": {
        "id": "w_c0yGj2HhoO"
      }
    },
    {
      "cell_type": "code",
      "source": [
        "import sys\n",
        "\n",
        "print(list(sys.path))\n",
        "\n",
        "print(\"\\n\\nall directories to be checked for modules\\n\\n\")\n",
        "for i in list(sys.path):\n",
        "  print(i)"
      ],
      "metadata": {
        "colab": {
          "base_uri": "https://localhost:8080/"
        },
        "id": "S8ydDuW_5wCC",
        "outputId": "d4ef36c8-7cc7-4e22-8b57-aa5e2853abb5"
      },
      "execution_count": null,
      "outputs": [
        {
          "output_type": "stream",
          "name": "stdout",
          "text": [
            "['/content', '/env/python', '/usr/lib/python38.zip', '/usr/lib/python3.8', '/usr/lib/python3.8/lib-dynload', '', '/usr/local/lib/python3.8/dist-packages', '/usr/lib/python3/dist-packages', '/usr/local/lib/python3.8/dist-packages/IPython/extensions', '/root/.ipython']\n",
            "\n",
            "\n",
            "all directories to be checked for modules\n",
            "\n",
            "\n",
            "/content\n",
            "/env/python\n",
            "/usr/lib/python38.zip\n",
            "/usr/lib/python3.8\n",
            "/usr/lib/python3.8/lib-dynload\n",
            "\n",
            "/usr/local/lib/python3.8/dist-packages\n",
            "/usr/lib/python3/dist-packages\n",
            "/usr/local/lib/python3.8/dist-packages/IPython/extensions\n",
            "/root/.ipython\n"
          ]
        }
      ]
    },
    {
      "cell_type": "markdown",
      "source": [
        "If I want to add another path from where the modules could be imported, at that time we have to add that path with the system path as an environment variable \n"
      ],
      "metadata": {
        "id": "JlhstNzWJmUP"
      }
    },
    {
      "cell_type": "code",
      "source": [
        "import sys\n",
        "\n",
        "#sys.path.append('PATH')"
      ],
      "metadata": {
        "id": "T0U_o2onH22n"
      },
      "execution_count": null,
      "outputs": []
    },
    {
      "cell_type": "markdown",
      "source": [
        "## **Use Standard Library of Modules**"
      ],
      "metadata": {
        "id": "KaK3Sfw-MTL-"
      }
    },
    {
      "cell_type": "code",
      "source": [
        "import random \n",
        "\n",
        "courses = ['History', 'Math', 'Physics', 'CompSci']\n",
        "random_course = random.choice(courses)\n",
        "\n",
        "print(random_course)"
      ],
      "metadata": {
        "colab": {
          "base_uri": "https://localhost:8080/"
        },
        "id": "JCcLs3RxMS3B",
        "outputId": "ff71cf8c-4c93-4429-a64f-dcd401102ee6"
      },
      "execution_count": null,
      "outputs": [
        {
          "output_type": "stream",
          "name": "stdout",
          "text": [
            "Physics\n"
          ]
        }
      ]
    },
    {
      "cell_type": "code",
      "source": [
        "import datetime\n",
        "import calendar\n",
        "\n",
        "today = datetime.date.today()\n",
        "print(today)\n",
        "\n",
        "print(calendar.isleap(2017))"
      ],
      "metadata": {
        "colab": {
          "base_uri": "https://localhost:8080/"
        },
        "id": "N9S1tgQnKACM",
        "outputId": "c27a8e2a-66cf-4ff8-aea4-9e98d009c99c"
      },
      "execution_count": null,
      "outputs": [
        {
          "output_type": "stream",
          "name": "stdout",
          "text": [
            "2022-12-17\n",
            "False\n"
          ]
        }
      ]
    },
    {
      "cell_type": "markdown",
      "source": [
        "To access underlying operating system, we can use os module "
      ],
      "metadata": {
        "id": "gAW6MZjRNbxL"
      }
    },
    {
      "cell_type": "code",
      "source": [
        "import os\n",
        "\n",
        "print(os.getcwd())\n",
        "\n",
        "print(os.__file__)\n"
      ],
      "metadata": {
        "colab": {
          "base_uri": "https://localhost:8080/"
        },
        "id": "P6TNSGgfNI-P",
        "outputId": "b35f9b78-302b-4dd7-9662-2397b3bc4007"
      },
      "execution_count": null,
      "outputs": [
        {
          "output_type": "stream",
          "name": "stdout",
          "text": [
            "/content\n",
            "/usr/lib/python3.8/os.py\n"
          ]
        }
      ]
    },
    {
      "cell_type": "code",
      "source": [
        "!cd /usr/lib/python3.8/os.py"
      ],
      "metadata": {
        "colab": {
          "base_uri": "https://localhost:8080/"
        },
        "id": "hMcQVb_JNmTX",
        "outputId": "7fed81fd-58c2-4bd0-a7d7-bb95e6fef08d"
      },
      "execution_count": null,
      "outputs": [
        {
          "output_type": "stream",
          "name": "stdout",
          "text": [
            "/bin/bash: line 0: cd: /usr/lib/python3.8/os.py: Not a directory\n"
          ]
        }
      ]
    },
    {
      "cell_type": "code",
      "source": [
        "!ls\n"
      ],
      "metadata": {
        "colab": {
          "base_uri": "https://localhost:8080/"
        },
        "id": "N59iKA1VOPBg",
        "outputId": "e87bdc4b-3aa8-489c-c53a-a424ae4ca65c"
      },
      "execution_count": null,
      "outputs": [
        {
          "output_type": "stream",
          "name": "stdout",
          "text": [
            "my_module.py  __pycache__  sample_data\n"
          ]
        }
      ]
    },
    {
      "cell_type": "code",
      "source": [
        "import antigravity"
      ],
      "metadata": {
        "id": "zmUM5c8KOSpg"
      },
      "execution_count": null,
      "outputs": []
    },
    {
      "cell_type": "markdown",
      "source": [
        "**To import from a subdirectory (Absolute Imports)**\n",
        "\n",
        "Absolute imports include the entire path to your script, starting with the program's root folder. While you must separate each folder by a period, you can have it be as long as you need it.\n",
        "\n",
        " > **from package1.firstmodule import firstmodule** \n",
        " > \n",
        " > **import package1.secondmodule.myfunction**"
      ],
      "metadata": {
        "id": "2eFSN84LezFb"
      }
    },
    {
      "cell_type": "markdown",
      "source": [
        "\n",
        " **Absolute imports** can get quite long though. If your project has sub packages in sub packages in sub packages, your import statements can expand beyond a single line of code. When that happens, you are much better off using **relative imports** instead."
      ],
      "metadata": {
        "id": "CecP5w71f4JI"
      }
    },
    {
      "cell_type": "markdown",
      "source": [
        "**Relative Imports**\n",
        "\n",
        "In relative import, the module to be imported is relative to the current location that is the location where the import statement is present.\n",
        "\n",
        " > **Syntax:**\n",
        "\n",
        " > In relative imports, you need to add **a period (.)** before the module name when importing using from.\n",
        "\n",
        " > It will be **2 periods-- (.) and (.)** before the module name if the module is in the one level up from the current location.\n",
        "\n",
        "**Example:** \n",
        "\n",
        " - from  .module1  import  myfunc1\n",
        " - from  .subpkg.module3  import  myfunc3"
      ],
      "metadata": {
        "id": "L7P8nFXlepeC"
      }
    },
    {
      "cell_type": "code",
      "source": [
        "!mkdir my_project"
      ],
      "metadata": {
        "id": "nNE3twgWfomX"
      },
      "execution_count": null,
      "outputs": []
    },
    {
      "cell_type": "code",
      "source": [
        "%%writefile /content/my_project/calculator.py\n",
        "\n",
        "def add(x, y):\n",
        "  return x + y\n",
        "\n",
        "def subtract(x, y):\n",
        "  return x - y\n",
        "\n",
        "def multiplication(x, y):\n",
        "  return x * y\n",
        "\n",
        "def division(x, y):\n",
        "  return x / y"
      ],
      "metadata": {
        "colab": {
          "base_uri": "https://localhost:8080/"
        },
        "id": "nwizAgaoOnmE",
        "outputId": "089564cd-f262-4826-fbc3-efe3d3797d62"
      },
      "execution_count": null,
      "outputs": [
        {
          "output_type": "stream",
          "name": "stdout",
          "text": [
            "Overwriting /content/my_project/calculator.py\n"
          ]
        }
      ]
    },
    {
      "cell_type": "code",
      "source": [
        "# Absolute Import\n",
        "\n",
        "import my_project.calculator as cal "
      ],
      "metadata": {
        "id": "sHePBOOlfG4f"
      },
      "execution_count": null,
      "outputs": []
    },
    {
      "cell_type": "code",
      "source": [
        "print(cal.add(4,5))\n",
        "print(cal.subtract(4,5))\n",
        "print(cal.multiplication(4,5))\n",
        "print(cal.division(4,5))"
      ],
      "metadata": {
        "colab": {
          "base_uri": "https://localhost:8080/"
        },
        "id": "bE1WznMQgM4_",
        "outputId": "0b17102e-fc90-4017-9636-fddc3d51bf51"
      },
      "execution_count": null,
      "outputs": [
        {
          "output_type": "stream",
          "name": "stdout",
          "text": [
            "9\n",
            "-1\n",
            "20\n",
            "0.8\n"
          ]
        }
      ]
    },
    {
      "cell_type": "code",
      "source": [],
      "metadata": {
        "id": "VeF22nEugN_w"
      },
      "execution_count": null,
      "outputs": []
    },
    {
      "cell_type": "markdown",
      "source": [
        "# **Import class from another script/module** "
      ],
      "metadata": {
        "id": "kSIzmFtZA0zE"
      }
    },
    {
      "cell_type": "code",
      "source": [
        "%%writefile MyFile.py\n",
        "\n",
        "class Square:\n",
        "   def __init__(self,val):\n",
        "      self.val=val\n",
        "   def getVal(self):\n",
        "      return self.val*self.val"
      ],
      "metadata": {
        "id": "RoFlOm47MzBW",
        "colab": {
          "base_uri": "https://localhost:8080/"
        },
        "outputId": "b49d7276-3df0-453d-e9d5-f9638eeea1ae"
      },
      "execution_count": null,
      "outputs": [
        {
          "output_type": "stream",
          "name": "stdout",
          "text": [
            "Writing MyFile.py\n"
          ]
        }
      ]
    },
    {
      "cell_type": "code",
      "source": [
        "from MyFile import Square\n",
        " \n",
        "newClass = Square(5)\n",
        "val = newClass.getVal()\n",
        " \n",
        "print(val)"
      ],
      "metadata": {
        "colab": {
          "base_uri": "https://localhost:8080/"
        },
        "id": "t3FM4BafBBGy",
        "outputId": "28aae9f8-9f9d-41e5-d9f6-f5c28a0ec05d"
      },
      "execution_count": null,
      "outputs": [
        {
          "output_type": "stream",
          "name": "stdout",
          "text": [
            "25\n"
          ]
        }
      ]
    },
    {
      "cell_type": "markdown",
      "source": [
        "Call multiple classes "
      ],
      "metadata": {
        "id": "8YKc7t14BVxc"
      }
    },
    {
      "cell_type": "code",
      "source": [
        "%%writefile MyFile_multi.py\n",
        "\n",
        "\n",
        "class Square:\n",
        "   def __init__(self,val):\n",
        "      self.val=val\n",
        "   def getVal(self):\n",
        "      return self.val*self.val\n",
        " \n",
        " \n",
        "class Add_Sub:\n",
        "   def add(self, a, b):\n",
        "      return a + b\n",
        "   def sub(self, a, b):\n",
        "      return a - b"
      ],
      "metadata": {
        "colab": {
          "base_uri": "https://localhost:8080/"
        },
        "id": "2Og45SbQBNJL",
        "outputId": "54bbdad7-79e1-4ada-ef1e-705cdd43278b"
      },
      "execution_count": null,
      "outputs": [
        {
          "output_type": "stream",
          "name": "stdout",
          "text": [
            "Writing MyFile_multi.py\n"
          ]
        }
      ]
    },
    {
      "cell_type": "code",
      "source": [
        "\n",
        "import MyFile_multi\n",
        "\n",
        "\n",
        "# creating object for Square class\n",
        "object1 = MyFile_multi.Square(5)\n",
        "print(f\"From class Square: {object1.getVal()}\")\n",
        "\n",
        "\n",
        "# creating object for Add_Sub class\n",
        "object2 = MyFile_multi.Add_Sub()\n",
        "print(f\"From class Add_Sub: Addition {object2.add(2,3)}\")\n",
        "print(f\"From class Add_Sub: Subtraction {object2.sub(2,3)}\")\n",
        " "
      ],
      "metadata": {
        "colab": {
          "base_uri": "https://localhost:8080/"
        },
        "id": "8IPW3MphBeWJ",
        "outputId": "3052090f-356d-499e-d8eb-71047cd7f614"
      },
      "execution_count": null,
      "outputs": [
        {
          "output_type": "stream",
          "name": "stdout",
          "text": [
            "From class Square: 25\n",
            "From class Add_Sub: Addition 5\n",
            "From class Add_Sub: Subtraction -1\n"
          ]
        }
      ]
    },
    {
      "cell_type": "code",
      "source": [
        "print(dir(MyFile))"
      ],
      "metadata": {
        "colab": {
          "base_uri": "https://localhost:8080/"
        },
        "id": "Ka3McULPBhU5",
        "outputId": "da9a93c9-b45e-4452-d2d2-b3c03267e6d5"
      },
      "execution_count": null,
      "outputs": [
        {
          "output_type": "stream",
          "name": "stdout",
          "text": [
            "['Square', '__builtins__', '__cached__', '__doc__', '__file__', '__loader__', '__name__', '__package__', '__spec__']\n"
          ]
        }
      ]
    },
    {
      "cell_type": "code",
      "source": [
        "%%writefile module.py\n",
        "\n",
        "class GFG:\n",
        "      \n",
        "    # methods\n",
        "    def add(self, a, b):\n",
        "        return a + b\n",
        "    def sub(self, a, b):\n",
        "        return a - b\n",
        "  \n",
        "# explicit function      \n",
        "def method():\n",
        "    print(\"GFG\")"
      ],
      "metadata": {
        "colab": {
          "base_uri": "https://localhost:8080/"
        },
        "id": "Eh_ORSdhB3Bn",
        "outputId": "b59e305b-f7bc-4a4e-fbe4-297595704cef"
      },
      "execution_count": null,
      "outputs": [
        {
          "output_type": "stream",
          "name": "stdout",
          "text": [
            "Writing module.py\n"
          ]
        }
      ]
    },
    {
      "cell_type": "code",
      "source": [
        "import module\n",
        "   \n",
        "# Created a class object\n",
        "object = module.GFG()\n",
        "   \n",
        "# Calling and printing class methods\n",
        "print(object.add(15,5))\n",
        "print(object.sub(15,5))\n",
        "   \n",
        "# Calling the function\n",
        "module.method()"
      ],
      "metadata": {
        "colab": {
          "base_uri": "https://localhost:8080/"
        },
        "id": "42y8O5YMFNwY",
        "outputId": "d9b1575e-3462-4ed2-d984-995db1e40ed4"
      },
      "execution_count": null,
      "outputs": [
        {
          "output_type": "stream",
          "name": "stdout",
          "text": [
            "20\n",
            "10\n",
            "GFG\n"
          ]
        }
      ]
    },
    {
      "cell_type": "code",
      "source": [
        "%%writefile car.py\n",
        "\n",
        "class Car:\n",
        "\tbrand_name = \"BMW\"\n",
        "\tmodel = \"Z4\"\n",
        "\tmanu_year = \"2020\"\n",
        "\n",
        "\tdef __init__(self, brand_name, model, manu_year):\n",
        "\t\tself.brand_name = brand_name\n",
        "\t\tself.model = model\n",
        "\t\tself.manu_year = manu_year\n",
        "\n",
        "\tdef car_details(self):\n",
        "\t\tprint(\"Car brand is \", self.brand_name, \"p\")\n",
        "\t\tprint(\"Car model is \", self.model,  \"p\")\n",
        "\t\tprint(\"Car manufacture year is \", self.manu_year,  \"p\")\n",
        "\t\t\t\n",
        "\t\t\t\n",
        "\tdef get_Car_brand(self):\n",
        "\t\tprint(\"Car brand is \", self.brand_name, \"p\")\n",
        "\n",
        "\tdef get_Car_model(self):\n",
        "\t\tprint(\"Car model is \", self.model, \"p\") "
      ],
      "metadata": {
        "id": "TJHswpeNFPuf",
        "colab": {
          "base_uri": "https://localhost:8080/"
        },
        "outputId": "4d2a3b9c-3daa-4c18-81bc-7177c2783ed4"
      },
      "execution_count": null,
      "outputs": [
        {
          "output_type": "stream",
          "name": "stdout",
          "text": [
            "Overwriting car.py\n"
          ]
        }
      ]
    },
    {
      "cell_type": "code",
      "source": [
        "import car\n",
        "car_det = car.Car(\"BMW\",\"Z5\", 2020)\n",
        "#print(car_det.brand_name)\n",
        "print(\"\\n\\n\")\n",
        "(car_det.car_details())\n",
        "print(\"\\n\\n\")\n",
        "(car_det.get_Car_brand())\n",
        "print(\"\\n\\n\")\n",
        "(car_det.get_Car_model())"
      ],
      "metadata": {
        "colab": {
          "base_uri": "https://localhost:8080/"
        },
        "id": "3nvw62jDW-q-",
        "outputId": "6ce5a5e6-aa7a-4f40-9ac8-d001464f5436"
      },
      "execution_count": null,
      "outputs": [
        {
          "output_type": "stream",
          "name": "stdout",
          "text": [
            "\n",
            "\n",
            "\n",
            "Car brand is  BMW p\n",
            "Car model is  Z5 p\n",
            "Car manufacture year is  2020 p\n",
            "\n",
            "\n",
            "\n",
            "Car brand is  BMW p\n",
            "\n",
            "\n",
            "\n",
            "Car model is  Z5 p\n"
          ]
        }
      ]
    },
    {
      "cell_type": "markdown",
      "source": [
        "# **Create a Package**"
      ],
      "metadata": {
        "id": "Wl0ljfT1QYl7"
      }
    },
    {
      "cell_type": "code",
      "source": [
        "!mkdir my_package "
      ],
      "metadata": {
        "id": "JE5FoA8OcVxa"
      },
      "execution_count": null,
      "outputs": []
    },
    {
      "cell_type": "code",
      "source": [
        "%%writefile /content/my_package/module1.py \n",
        "\n",
        "def mod1_func1():\n",
        "  print(\"Welcome to Module1 function1\")\n",
        "\n",
        "def mod1_func2():\n",
        "  print(\"Welcome to Module1 function2\")\n",
        "\n",
        "def mod1_func3():\n",
        "  print(\"Welcome to Module1 function3\")"
      ],
      "metadata": {
        "colab": {
          "base_uri": "https://localhost:8080/"
        },
        "id": "WQ1M22HfQYPd",
        "outputId": "1e519a94-9f1c-4c0c-c140-7e9e3306527d"
      },
      "execution_count": null,
      "outputs": [
        {
          "output_type": "stream",
          "name": "stdout",
          "text": [
            "Overwriting /content/my_package/module1.py\n"
          ]
        }
      ]
    },
    {
      "cell_type": "code",
      "source": [
        "%%writefile /content/my_package/module2.py\n",
        "\n",
        "def mod2_func1():\n",
        "  print(\"Welcome to Module2 function1\")\n",
        "\n",
        "def mod2_func2():\n",
        "  print(\"Welcome to Module2 function2\")\n",
        "\n",
        "def mod2_func3():\n",
        "  print(\"Welcome to Module2 function3\")"
      ],
      "metadata": {
        "colab": {
          "base_uri": "https://localhost:8080/"
        },
        "id": "kQrUmasPXIzg",
        "outputId": "7dc7035d-c013-455e-dfa4-f1cda718f1bf"
      },
      "execution_count": null,
      "outputs": [
        {
          "output_type": "stream",
          "name": "stdout",
          "text": [
            "Overwriting /content/my_package/module2.py\n"
          ]
        }
      ]
    },
    {
      "cell_type": "code",
      "source": [
        "%%writefile /content/my_package/module3.py\n",
        "\n",
        "def mod3_func1():\n",
        "  print(\"Welcome to Module3 function1\")\n",
        "\n",
        "def mod3_func2():\n",
        "  print(\"Welcome to Module3 function2\")\n",
        "\n",
        "def mod3_func3():\n",
        "  print(\"Welcome to Module3 function3\")"
      ],
      "metadata": {
        "colab": {
          "base_uri": "https://localhost:8080/"
        },
        "id": "dCrRfna5QosU",
        "outputId": "87b91855-ab17-4b78-b938-48b935bd0336"
      },
      "execution_count": null,
      "outputs": [
        {
          "output_type": "stream",
          "name": "stdout",
          "text": [
            "Overwriting /content/my_package/module3.py\n"
          ]
        }
      ]
    },
    {
      "cell_type": "code",
      "source": [
        "import os"
      ],
      "metadata": {
        "id": "Bb0CfEvIQu2i"
      },
      "execution_count": null,
      "outputs": []
    },
    {
      "cell_type": "code",
      "source": [
        "os.getcwd()"
      ],
      "metadata": {
        "colab": {
          "base_uri": "https://localhost:8080/",
          "height": 35
        },
        "id": "lKIpCk43SNyE",
        "outputId": "dd052eda-75ed-4f14-9ea3-5c56d25e6fc9"
      },
      "execution_count": null,
      "outputs": [
        {
          "output_type": "execute_result",
          "data": {
            "text/plain": [
              "'/content'"
            ],
            "application/vnd.google.colaboratory.intrinsic+json": {
              "type": "string"
            }
          },
          "metadata": {},
          "execution_count": 6
        }
      ]
    },
    {
      "cell_type": "code",
      "source": [
        "os.chdir(\"/content/my_package\")"
      ],
      "metadata": {
        "id": "A5Fb8NRCQ-T6"
      },
      "execution_count": null,
      "outputs": []
    },
    {
      "cell_type": "code",
      "source": [
        "os.getcwd()"
      ],
      "metadata": {
        "colab": {
          "base_uri": "https://localhost:8080/",
          "height": 35
        },
        "id": "UWspY7ZvRCgy",
        "outputId": "27936c42-e3e5-4e0f-cae7-7ff3bbea933b"
      },
      "execution_count": null,
      "outputs": [
        {
          "output_type": "execute_result",
          "data": {
            "text/plain": [
              "'/content/my_package'"
            ],
            "application/vnd.google.colaboratory.intrinsic+json": {
              "type": "string"
            }
          },
          "metadata": {},
          "execution_count": 13
        }
      ]
    },
    {
      "cell_type": "code",
      "source": [
        "!pwd"
      ],
      "metadata": {
        "colab": {
          "base_uri": "https://localhost:8080/"
        },
        "id": "LaZo9pPCRERo",
        "outputId": "a6364739-13d0-4f26-f327-8a24e1cbe0ea"
      },
      "execution_count": null,
      "outputs": [
        {
          "output_type": "stream",
          "name": "stdout",
          "text": [
            "/content\n"
          ]
        }
      ]
    },
    {
      "cell_type": "markdown",
      "source": [
        "Then create an empty file in that folder called **\\__init__.py**"
      ],
      "metadata": {
        "id": "H6V2gAiWWZ4P"
      }
    },
    {
      "cell_type": "markdown",
      "source": [
        "It’s fairly common to import subpackages and submodules in an \\_\\_init__.py file to make them more readily available to your users."
      ],
      "metadata": {
        "id": "iwoe-E2vWZmE"
      }
    },
    {
      "cell_type": "code",
      "source": [
        "%%writefile /content/my_package/__init__.py\n",
        "\n",
        "from .module1 import *\n",
        "from .module2 import *\n",
        "from .module3 import *\n",
        "\n",
        "# The following one is also acceptable \n",
        "#from . import module1\n",
        "#from . import module2\n",
        "#from . import module3\n"
      ],
      "metadata": {
        "colab": {
          "base_uri": "https://localhost:8080/"
        },
        "id": "hhvwtcmuSYOR",
        "outputId": "5cc0221c-0921-485d-c938-3197ad360c74"
      },
      "execution_count": null,
      "outputs": [
        {
          "output_type": "stream",
          "name": "stdout",
          "text": [
            "Overwriting /content/my_package/__init__.py\n"
          ]
        }
      ]
    },
    {
      "cell_type": "code",
      "source": [
        "os.chdir(\"/content\")\n",
        "os.getcwd()"
      ],
      "metadata": {
        "colab": {
          "base_uri": "https://localhost:8080/",
          "height": 35
        },
        "id": "xa0X29TLbUEZ",
        "outputId": "7e99a2e5-c021-49ee-b312-1524a25d557b"
      },
      "execution_count": null,
      "outputs": [
        {
          "output_type": "execute_result",
          "data": {
            "text/plain": [
              "'/content'"
            ],
            "application/vnd.google.colaboratory.intrinsic+json": {
              "type": "string"
            }
          },
          "metadata": {},
          "execution_count": 19
        }
      ]
    },
    {
      "cell_type": "code",
      "source": [
        "from my_package import *\n",
        "mod1_func1()\n",
        "mod2_func1()\n",
        "mod3_func1()"
      ],
      "metadata": {
        "colab": {
          "base_uri": "https://localhost:8080/"
        },
        "id": "vLqTtW0VbdhL",
        "outputId": "3f523e7d-29c7-4fbc-ada1-40657674b21b"
      },
      "execution_count": null,
      "outputs": [
        {
          "output_type": "stream",
          "name": "stdout",
          "text": [
            "Welcome to Module1 function1\n",
            "Welcome to Module2 function1\n",
            "Welcome to Module3 function1\n"
          ]
        }
      ]
    },
    {
      "cell_type": "code",
      "source": [
        "import math\n",
        "print(math.pi)"
      ],
      "metadata": {
        "colab": {
          "base_uri": "https://localhost:8080/"
        },
        "id": "ta2ef0PLbtAb",
        "outputId": "bdd37855-9f14-4ffa-c9e0-c6206917718f"
      },
      "execution_count": null,
      "outputs": [
        {
          "output_type": "stream",
          "name": "stdout",
          "text": [
            "3.141592653589793\n"
          ]
        }
      ]
    },
    {
      "cell_type": "code",
      "source": [
        "from math import pi\n",
        "print(pi)"
      ],
      "metadata": {
        "colab": {
          "base_uri": "https://localhost:8080/"
        },
        "id": "Fdt8tsq8SoxK",
        "outputId": "a9949df1-46aa-41ea-f94a-5fac48863225"
      },
      "execution_count": null,
      "outputs": [
        {
          "output_type": "stream",
          "name": "stdout",
          "text": [
            "3.141592653589793\n"
          ]
        }
      ]
    },
    {
      "cell_type": "code",
      "source": [
        "print(math.pi)"
      ],
      "metadata": {
        "colab": {
          "base_uri": "https://localhost:8080/"
        },
        "id": "uG5csyM1SrC6",
        "outputId": "7cce6846-fc4b-408e-aa5d-86f4ef7fd5fa"
      },
      "execution_count": null,
      "outputs": [
        {
          "output_type": "stream",
          "name": "stdout",
          "text": [
            "3.141592653589793\n"
          ]
        }
      ]
    },
    {
      "cell_type": "markdown",
      "source": [
        "The **module namespace** is implemented as a **Python dictionary** and is available at the .\\_\\_dict__ attribute:"
      ],
      "metadata": {
        "id": "DfWkReAoUr5A"
      }
    },
    {
      "cell_type": "code",
      "source": [
        "math.__dict__[\"pi\"]\n"
      ],
      "metadata": {
        "colab": {
          "base_uri": "https://localhost:8080/"
        },
        "id": "NUdzZJQmS4uY",
        "outputId": "74c5ed53-bc53-4b66-dbbd-f7b0cccbb8d9"
      },
      "execution_count": null,
      "outputs": [
        {
          "output_type": "execute_result",
          "data": {
            "text/plain": [
              "3.141592653589793"
            ]
          },
          "metadata": {},
          "execution_count": 8
        }
      ]
    },
    {
      "cell_type": "code",
      "source": [],
      "metadata": {
        "id": "EBS5F4GjUzxG"
      },
      "execution_count": null,
      "outputs": []
    }
  ]
}