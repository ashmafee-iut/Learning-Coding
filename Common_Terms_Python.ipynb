{
  "nbformat": 4,
  "nbformat_minor": 0,
  "metadata": {
    "colab": {
      "provenance": [],
      "authorship_tag": "ABX9TyMUG2M3UhNnyuAU/L0h9q//",
      "include_colab_link": true
    },
    "kernelspec": {
      "name": "python3",
      "display_name": "Python 3"
    },
    "language_info": {
      "name": "python"
    }
  },
  "cells": [
    {
      "cell_type": "markdown",
      "metadata": {
        "id": "view-in-github",
        "colab_type": "text"
      },
      "source": [
        "<a href=\"https://colab.research.google.com/github/ashmafee-iut/Learning-Coding/blob/main/Common_Terms_Python.ipynb\" target=\"_parent\"><img src=\"https://colab.research.google.com/assets/colab-badge.svg\" alt=\"Open In Colab\"/></a>"
      ]
    },
    {
      "cell_type": "markdown",
      "source": [
        " - Map\n",
        " - Iterable and Iterator\n",
        " - Functioanl Programming - map, filter and reduce [Not completed]\n",
        " - Lambda function \n",
        " - Closure "
      ],
      "metadata": {
        "id": "3vlUupZaE-nt"
      }
    },
    {
      "cell_type": "markdown",
      "source": [
        "# **Map() function**\n",
        "Python’s **map()** is a **built-in function** that allows you to process and transform all the items in an **iterable** <u>without using an explicit for loop</u>, a technique commonly known as mapping.\n",
        " - map() is useful when you need to apply a transformation function to each item in an iterable and transform them into a new iterable.\n",
        " - It is required when same operation is needed to be performed on all items of inputs of the iterable. Instead of using a for loop, we can use a map() function\n",
        "\n",
        "\n"
      ],
      "metadata": {
        "id": "RyhOkz8RiLUk"
      }
    },
    {
      "cell_type": "markdown",
      "source": [
        "**Iterable and Iterator** \n",
        "\n",
        "**Iteration** is a process of using a **loop** to access all the elements of a sequence. Most of the time, we use for loop to iterate over a sequence. But there are some times when we need to iterate over a sequence using a different approach (producing next item in sequence). In those cases, we need to use an **iterator**.\n",
        "\n",
        "<u>In Python, both the terms **iterators and iterables** are sometimes used interchangeably but they have different meanings.</u>\n",
        "\n",
        "\n",
        "An **Iterable** is basically an object that any user can iterate over. \n",
        "\n",
        "An **iterator** is an object **which keeps a state** and produces the next value each time it is iterated upon.\n",
        "\n",
        "**Note:** Every iterator is an iterable, but not every iterable is an iterator. Because we cannot use next() with every iterable, which is used to produce next item in iterator. "
      ],
      "metadata": {
        "id": "DbuD7sfO6Mwe"
      }
    },
    {
      "cell_type": "markdown",
      "source": [
        "**Iterable**\n",
        "\n",
        "Iterable is a **sequence (of a list)** that can be iterated over, i.e., you can use a for loop to iterate over the elements in the sequence. More examples of iterables are: Lists, Tuples, Strings, Dictionaries, Sets, and Generators\n",
        "\n"
      ],
      "metadata": {
        "id": "rYMyXMuG7ea-"
      }
    },
    {
      "cell_type": "code",
      "source": [
        "for value in [\"a\", \"b\", \"c\"]:\n",
        "    print(value)"
      ],
      "metadata": {
        "colab": {
          "base_uri": "https://localhost:8080/"
        },
        "id": "Jzv-1d8A7eIP",
        "outputId": "327ef9a8-4b4d-46be-fd52-3470969b49ee"
      },
      "execution_count": null,
      "outputs": [
        {
          "output_type": "stream",
          "name": "stdout",
          "text": [
            "a\n",
            "b\n",
            "c\n"
          ]
        }
      ]
    },
    {
      "cell_type": "markdown",
      "source": [
        "**Iterator**\n",
        "\n",
        "An iterator is an object which must implement the iterator protocol consisting of the two methods **\\_\\_iter__()** and **\\_\\_next__()**. We can also explicitly call **iter()** and **next()**\n",
        "\n",
        "- The **iter() function** returns an iterator object. It takes any collection object as an argument (an iterable) and returns an iterator object. i.e., We can use the iter() function to convert an iterable into an iterator.\n",
        "\n",
        "- An iterator contains a countable number of values and with the **next() function** can return the next element in the sequence, one element at a time."
      ],
      "metadata": {
        "id": "wPnkKZ3C8SkV"
      }
    },
    {
      "cell_type": "code",
      "source": [
        "colors = ['Black', 'Purple', 'Green']\n",
        "iterator = iter(colors)\n",
        "\n",
        "print(iterator)\n",
        "\n",
        "print(next(iterator))  # Output: Black\n",
        "print(next(iterator))  # Output: Purple\n",
        "print(next(iterator))  # Output: Green\n",
        "\n"
      ],
      "metadata": {
        "colab": {
          "base_uri": "https://localhost:8080/"
        },
        "id": "HKB3Rz6E7Yu7",
        "outputId": "fedf7f11-4f0d-4e58-eb66-5041a85b4825"
      },
      "execution_count": null,
      "outputs": [
        {
          "output_type": "stream",
          "name": "stdout",
          "text": [
            "<list_iterator object at 0x7fe7b0307550>\n",
            "Black\n",
            "Purple\n",
            "Green\n"
          ]
        }
      ]
    },
    {
      "cell_type": "code",
      "source": [
        "print(next(iterator))  # If there are no further items, a StopIteration exception should be raised."
      ],
      "metadata": {
        "colab": {
          "base_uri": "https://localhost:8080/",
          "height": 165
        },
        "id": "yuU-1LDzAF9D",
        "outputId": "0b3ae51d-12b2-45cf-9a65-7d782426965c"
      },
      "execution_count": null,
      "outputs": [
        {
          "output_type": "error",
          "ename": "StopIteration",
          "evalue": "ignored",
          "traceback": [
            "\u001b[0;31m---------------------------------------------------------------------------\u001b[0m",
            "\u001b[0;31mStopIteration\u001b[0m                             Traceback (most recent call last)",
            "\u001b[0;32m<ipython-input-14-9304bc3486b2>\u001b[0m in \u001b[0;36m<module>\u001b[0;34m\u001b[0m\n\u001b[0;32m----> 1\u001b[0;31m \u001b[0mprint\u001b[0m\u001b[0;34m(\u001b[0m\u001b[0mnext\u001b[0m\u001b[0;34m(\u001b[0m\u001b[0miterator\u001b[0m\u001b[0;34m)\u001b[0m\u001b[0;34m)\u001b[0m  \u001b[0;31m# If there are no further items, a StopIteration exception should be raised.\u001b[0m\u001b[0;34m\u001b[0m\u001b[0;34m\u001b[0m\u001b[0m\n\u001b[0m",
            "\u001b[0;31mStopIteration\u001b[0m: "
          ]
        }
      ]
    },
    {
      "cell_type": "markdown",
      "source": [
        "**Functional programming** \n",
        "\n",
        "In functional programming, computations are done by combining functions that take arguments and return a concrete value (or values) as a result. <b>These functions don’t modify their input arguments and don’t change the program’s state.</b> They just provide the result of a given computation. These kinds of functions are commonly known as **pure functions**.\n",
        " - Functional programming typically uses **lists, arrays, and other iterables** to represent the data along with a set of functions that operate on that data and transform it. \n",
        " - When it comes to processing data with a functional style, there are at least three commonly used techniques:\n",
        "   - **Mapping** consists of applying a **transformation function** to an iterable to produce a new iterable. Items in the new iterable are produced by calling the **transformation function** <u>on each item in the original iterable.</u>\n",
        "\n",
        "   - **Filtering** consists of applying a **predicate or Boolean-valued function** to an iterable to generate a new iterable. Items in the new iterable are <u>produced by **filtering out** any items in the original iterable that make the predicate function return **false**.</u>\n",
        "\n",
        "   - **Reducing** consists of applying a **reduction function** to an iterable to produce **a single cumulative value**."
      ],
      "metadata": {
        "id": "dpiht_uSi0ai"
      }
    },
    {
      "cell_type": "markdown",
      "source": [
        "**How map() works:**\n",
        "\n",
        "map() loops over the items of an input iterable (or iterables) and returns an **iterator** that results from applying a transformation function to every item in the original input iterable.\n",
        "\n",
        "map() **takes** a **function object** and **an iterable (or multiple iterables)** as arguments and **returns an iterator** that yields transformed items on demand.\n",
        "\n",
        " > **map() function signature:**\n",
        " >\n",
        " > map(function, iterable[, iterable1, iterable2,..., iterableN])"
      ],
      "metadata": {
        "id": "ZET9_p7-AZIR"
      }
    },
    {
      "cell_type": "markdown",
      "source": [
        " - The first argument to map() is a function object, which means that you need to pass a function without calling it. That is, **without using a pair of parentheses**.\n",
        "  - This function is a transformation function\n",
        "  - It can be any Python callable. This includes **built-in functions**, **classes**, **methods**, **lambda functions**, and **user-defined functions**."
      ],
      "metadata": {
        "id": "wJbfB3TWBcOC"
      }
    },
    {
      "cell_type": "markdown",
      "source": [
        "The map() function returns an object of map class (iterator class type). The returned value can be passed to functions like followings to convert them as list and set:\n",
        "\n",
        " > list() - to convert to list\n",
        " >\n",
        " > set() - to convert to a set, and so on."
      ],
      "metadata": {
        "id": "yM9b0qxvFh7O"
      }
    },
    {
      "cell_type": "code",
      "execution_count": null,
      "metadata": {
        "colab": {
          "base_uri": "https://localhost:8080/"
        },
        "id": "eXvx57_yh2Vz",
        "outputId": "46e575cb-eaab-4397-ab7b-29b352e5eee0"
      },
      "outputs": [
        {
          "output_type": "execute_result",
          "data": {
            "text/plain": [
              "<map at 0x7fe7b1e3de80>"
            ]
          },
          "metadata": {},
          "execution_count": 15
        }
      ],
      "source": [
        "(map(chr, range(97, 123)))"
      ]
    },
    {
      "cell_type": "code",
      "source": [
        "list(map(chr, range(97,123)))"
      ],
      "metadata": {
        "colab": {
          "base_uri": "https://localhost:8080/"
        },
        "id": "TYCQGChTBBo3",
        "outputId": "91dc0258-7f54-415f-e309-33a3df03c95d"
      },
      "execution_count": null,
      "outputs": [
        {
          "output_type": "execute_result",
          "data": {
            "text/plain": [
              "['a',\n",
              " 'b',\n",
              " 'c',\n",
              " 'd',\n",
              " 'e',\n",
              " 'f',\n",
              " 'g',\n",
              " 'h',\n",
              " 'i',\n",
              " 'j',\n",
              " 'k',\n",
              " 'l',\n",
              " 'm',\n",
              " 'n',\n",
              " 'o',\n",
              " 'p',\n",
              " 'q',\n",
              " 'r',\n",
              " 's',\n",
              " 't',\n",
              " 'u',\n",
              " 'v',\n",
              " 'w',\n",
              " 'x',\n",
              " 'y',\n",
              " 'z']"
            ]
          },
          "metadata": {},
          "execution_count": 16
        }
      ]
    },
    {
      "cell_type": "code",
      "source": [
        "# Another example as comparison\n",
        "numbers = [1, 2, 3, 4, 5]\n",
        "squared = []\n",
        "\n",
        "for number in numbers:\n",
        "  squared.append(number ** 2)\n",
        "\n",
        "squared"
      ],
      "metadata": {
        "colab": {
          "base_uri": "https://localhost:8080/"
        },
        "id": "IaAI82TACL1v",
        "outputId": "b7dd3b4c-a709-440f-96ae-45f22f4ccbdf"
      },
      "execution_count": null,
      "outputs": [
        {
          "output_type": "execute_result",
          "data": {
            "text/plain": [
              "[1, 4, 9, 16, 25]"
            ]
          },
          "metadata": {},
          "execution_count": 18
        }
      ]
    },
    {
      "cell_type": "code",
      "source": [
        "#using map() function\n",
        "\n",
        "def square(number):\n",
        "  return number ** 2\n",
        "\n",
        "squared2 = map(square, numbers)\n",
        "\n",
        "print(squared2)\n",
        "print(list(squared2))"
      ],
      "metadata": {
        "colab": {
          "base_uri": "https://localhost:8080/"
        },
        "id": "c-gbUVVZCje5",
        "outputId": "be595d58-d43b-4fca-f05f-5f25aaf5e8af"
      },
      "execution_count": null,
      "outputs": [
        {
          "output_type": "stream",
          "name": "stdout",
          "text": [
            "<map object at 0x7fe7b030e490>\n",
            "[1, 4, 9, 16, 25]\n"
          ]
        }
      ]
    },
    {
      "cell_type": "code",
      "source": [
        "str_nums = [\"4\", \"8\", \"6\", \"5\", \"3\", \"2\", \"8\", \"9\", \"2\", \"5\"]\n",
        "\n",
        "int_nums = map(int, str_nums)\n",
        "print(int_nums)\n",
        "print(list(int_nums))"
      ],
      "metadata": {
        "colab": {
          "base_uri": "https://localhost:8080/"
        },
        "id": "3Q-VYjUJDFng",
        "outputId": "57d40db1-ca20-44d1-acef-e8ad1af791f2"
      },
      "execution_count": null,
      "outputs": [
        {
          "output_type": "stream",
          "name": "stdout",
          "text": [
            "<map object at 0x7fe7b028cc10>\n",
            "[4, 8, 6, 5, 3, 2, 8, 9, 2, 5]\n"
          ]
        }
      ]
    },
    {
      "cell_type": "code",
      "source": [
        "words = [\"Welcome\", \"to\", \"Real\", \"Python\"]\n",
        "list(map(len, words))\n"
      ],
      "metadata": {
        "colab": {
          "base_uri": "https://localhost:8080/"
        },
        "id": "WV0c3ZfPDWU5",
        "outputId": "012fa0a9-228d-4751-ba58-fce9d3716557"
      },
      "execution_count": null,
      "outputs": [
        {
          "output_type": "execute_result",
          "data": {
            "text/plain": [
              "[7, 2, 4, 6]"
            ]
          },
          "metadata": {},
          "execution_count": 23
        }
      ]
    },
    {
      "cell_type": "code",
      "source": [
        "numbers = [1, 2, 3, 4, 5]\n",
        "\n",
        "squared = map(lambda num: num ** 2, numbers)\n",
        "\n",
        "list(squared)"
      ],
      "metadata": {
        "colab": {
          "base_uri": "https://localhost:8080/"
        },
        "id": "YEvIDocADfY5",
        "outputId": "92ce0aca-4950-4ed7-f61e-1fc492fcc4c3"
      },
      "execution_count": null,
      "outputs": [
        {
          "output_type": "execute_result",
          "data": {
            "text/plain": [
              "[1, 4, 9, 16, 25]"
            ]
          },
          "metadata": {},
          "execution_count": 24
        }
      ]
    },
    {
      "cell_type": "code",
      "source": [
        "first_it = [1, 2, 3]\n",
        "second_it = [4, 5, 6, 7]\n",
        "\n",
        "list(map(pow, first_it, second_it))"
      ],
      "metadata": {
        "colab": {
          "base_uri": "https://localhost:8080/"
        },
        "id": "fABwpuTvDqoq",
        "outputId": "a77fcdf5-ef4a-40bc-e9be-4c3dc70d0ed0"
      },
      "execution_count": null,
      "outputs": [
        {
          "output_type": "execute_result",
          "data": {
            "text/plain": [
              "[1, 32, 729]"
            ]
          },
          "metadata": {},
          "execution_count": 25
        }
      ]
    },
    {
      "cell_type": "code",
      "source": [
        "list(map(lambda x, y: x - y, [2, 4, 6], [1, 3, 5]))"
      ],
      "metadata": {
        "colab": {
          "base_uri": "https://localhost:8080/"
        },
        "id": "zKfYJc46D0fZ",
        "outputId": "963c6d59-7b6c-449f-e331-9d8d3c4c8444"
      },
      "execution_count": null,
      "outputs": [
        {
          "output_type": "execute_result",
          "data": {
            "text/plain": [
              "[1, 1, 1]"
            ]
          },
          "metadata": {},
          "execution_count": 26
        }
      ]
    },
    {
      "cell_type": "code",
      "source": [
        "list(map(lambda x, y, z: x + y + z, [2, 4], [1, 3], [7, 8]))"
      ],
      "metadata": {
        "colab": {
          "base_uri": "https://localhost:8080/"
        },
        "id": "6KYwszf0D9MY",
        "outputId": "460fe4f0-b027-47c1-8cb7-067b90e9de27"
      },
      "execution_count": null,
      "outputs": [
        {
          "output_type": "execute_result",
          "data": {
            "text/plain": [
              "[10, 15]"
            ]
          },
          "metadata": {},
          "execution_count": 27
        }
      ]
    },
    {
      "cell_type": "code",
      "source": [
        "string_it = [\"proceSSing\", \"sTRings\", \"wITh\", \"mAP\"]\n",
        "print(list(map(str.capitalize, string_it)))\n",
        "# output = ['Processing', 'Strings', 'With', 'Map']\n",
        "\n",
        "print(list(map(str.upper, string_it)))\n",
        "# output = ['PROCESSING', 'STRINGS', 'WITH', 'MAP']\n",
        "\n",
        "print(list(map(str.lower, string_it)))\n",
        "# output = ['processing', 'strings', 'with', 'map']"
      ],
      "metadata": {
        "colab": {
          "base_uri": "https://localhost:8080/"
        },
        "id": "ZLb-giEJEItu",
        "outputId": "5d822681-9953-4056-b911-f4348939d549"
      },
      "execution_count": null,
      "outputs": [
        {
          "output_type": "stream",
          "name": "stdout",
          "text": [
            "['Processing', 'Strings', 'With', 'Map']\n",
            "['PROCESSING', 'STRINGS', 'WITH', 'MAP']\n",
            "['processing', 'strings', 'with', 'map']\n"
          ]
        }
      ]
    },
    {
      "cell_type": "markdown",
      "source": [
        "# **chr()**\n",
        "The Python chr() function returns a string from a Unicode code integer."
      ],
      "metadata": {
        "id": "9emxhGbdoyaD"
      }
    },
    {
      "cell_type": "code",
      "source": [
        "print(chr(97))"
      ],
      "metadata": {
        "colab": {
          "base_uri": "https://localhost:8080/"
        },
        "id": "fX4M8MoHo8x-",
        "outputId": "d52eda77-7fb0-40c0-d5bb-3afa3ef02332"
      },
      "execution_count": null,
      "outputs": [
        {
          "output_type": "stream",
          "name": "stdout",
          "text": [
            "a\n"
          ]
        }
      ]
    },
    {
      "cell_type": "markdown",
      "source": [
        "If we go out if range, we won’t get any output and the compiler will throw an error:"
      ],
      "metadata": {
        "id": "VhHYQO7jpmEV"
      }
    },
    {
      "cell_type": "code",
      "source": [
        "print(chr(4000000))"
      ],
      "metadata": {
        "colab": {
          "base_uri": "https://localhost:8080/",
          "height": 165
        },
        "id": "JAiwvDDqo9uI",
        "outputId": "45f075a7-4276-4f45-9b5c-0135067a9404"
      },
      "execution_count": null,
      "outputs": [
        {
          "output_type": "error",
          "ename": "ValueError",
          "evalue": "ignored",
          "traceback": [
            "\u001b[0;31m---------------------------------------------------------------------------\u001b[0m",
            "\u001b[0;31mValueError\u001b[0m                                Traceback (most recent call last)",
            "\u001b[0;32m<ipython-input-6-ab45e0c48443>\u001b[0m in \u001b[0;36m<module>\u001b[0;34m\u001b[0m\n\u001b[0;32m----> 1\u001b[0;31m \u001b[0mprint\u001b[0m\u001b[0;34m(\u001b[0m\u001b[0mchr\u001b[0m\u001b[0;34m(\u001b[0m\u001b[0;36m4000000\u001b[0m\u001b[0;34m)\u001b[0m\u001b[0;34m)\u001b[0m\u001b[0;34m\u001b[0m\u001b[0;34m\u001b[0m\u001b[0m\n\u001b[0m",
            "\u001b[0;31mValueError\u001b[0m: chr() arg not in range(0x110000)"
          ]
        }
      ]
    },
    {
      "cell_type": "markdown",
      "source": [
        "# **Filter() function**"
      ],
      "metadata": {
        "id": "gEwnGJznfGfD"
      }
    },
    {
      "cell_type": "markdown",
      "source": [
        "The **filter()** method filters the given sequence with the help of a function that **tests each element in the sequence to be true or not**.\n",
        "\n",
        "> **Syntax**\n",
        ">\n",
        ">**filter(function, iterable)**\n",
        "\n",
        " - **function:** function that tests if each element of an \n",
        "iterable is true or not.\n",
        " - **iterable:** iterable which needs to be filtered, it can \n",
        "be sets, lists, tuples, or containers of any iterators.\n",
        " - **rerurn type:** it returns an iterator that is already filtered."
      ],
      "metadata": {
        "id": "kljY-imqfLY5"
      }
    },
    {
      "cell_type": "code",
      "source": [
        "def fun(variable):\n",
        "    letters = ['a', 'e', 'i', 'o', 'u']\n",
        "    if (variable in letters):\n",
        "        return True\n",
        "    else:\n",
        "        return False\n",
        "  \n",
        "  \n",
        "# sequence\n",
        "sequence = ['g', 'e', 'e', 'j', 'k', 's', 'p', 'r']\n",
        "  \n",
        "# using filter function\n",
        "filtered = filter(fun, sequence)\n",
        "\n",
        "print(list(filtered))\n",
        "\n"
      ],
      "metadata": {
        "colab": {
          "base_uri": "https://localhost:8080/"
        },
        "id": "62qJoOy4fzW1",
        "outputId": "38beeaf2-0c1d-4afd-f32b-ca5dd7aa6846"
      },
      "execution_count": null,
      "outputs": [
        {
          "output_type": "stream",
          "name": "stdout",
          "text": [
            "['e', 'e']\n"
          ]
        }
      ]
    },
    {
      "cell_type": "code",
      "source": [
        "# with a lamda function\n",
        "\n",
        "# a list contains both even and odd numbers. \n",
        "seq = [0, 1, 2, 3, 5, 8, 13]\n",
        "  \n",
        "# result contains odd numbers of the list\n",
        "result = filter(lambda x: x % 2 != 0, seq)\n",
        "print(\"Odd numbers: \", list(result))\n",
        "  \n",
        "# result contains even numbers of the list\n",
        "result = filter(lambda x: x % 2 == 0, seq)\n",
        "print(\"Even numbers: \", list(result))"
      ],
      "metadata": {
        "colab": {
          "base_uri": "https://localhost:8080/"
        },
        "id": "3dbaYNfhgLGG",
        "outputId": "335ed8e8-7fee-4184-f9ff-983225e04c69"
      },
      "execution_count": null,
      "outputs": [
        {
          "output_type": "stream",
          "name": "stdout",
          "text": [
            "Odd numbers:  [1, 3, 5, 13]\n",
            "Even numbers:  [0, 2, 8]\n"
          ]
        }
      ]
    },
    {
      "cell_type": "markdown",
      "source": [
        "# **Lambda Function**"
      ],
      "metadata": {
        "id": "2XFSVXPFFVrm"
      }
    },
    {
      "cell_type": "markdown",
      "source": [
        "Simply, a **lambda function** is just like any normal python function, except that it has **no name** when defining it, and it is **contained in one line of code**."
      ],
      "metadata": {
        "id": "GQRjkQcmbVdc"
      }
    },
    {
      "cell_type": "markdown",
      "source": [
        " > **Syntax:** \n",
        " >\n",
        " > **<i>lambdad</i> bound-variable: body** \n",
        " >\n",
        " >lambda argument(s): expression"
      ],
      "metadata": {
        "id": "JQeX_naaLCuQ"
      }
    },
    {
      "cell_type": "markdown",
      "source": [
        " - A **full colon (:)** separates the argument and the expression.\n",
        " - A **bound variable** is an **argument** to a lambda function. A lambda function evaluates an expression for a given argument\n"
      ],
      "metadata": {
        "id": "DUuPCavyLNy5"
      }
    },
    {
      "cell_type": "markdown",
      "source": [
        "**Pros**\n",
        "\n",
        " - Good for simple logical operations that are easy to understand. This makes the code more readable too.\n",
        " - Good when you want a function that you will use just one time.\n",
        "\n",
        "**Cons**\n",
        "\n",
        " - They can only perform one expression. It’s not possible to have multiple independent operations in one lambda function.\n",
        " - Bad for operations that would span more than one line in a normal def function (For example nested conditional operations). If you need a minute or two to understand the code, use a named function instead.\n",
        " - Bad because you can’t write a doc-string to explain all the inputs, operations, and outputs as you would in a normal def function."
      ],
      "metadata": {
        "id": "WLrNpVW2cAbJ"
      }
    },
    {
      "cell_type": "markdown",
      "source": [
        "**Here are a couple scenarios where using lambdas might be opportune:**\n",
        "\n",
        " - **Writing a quick function in an otherwise long program**. It is stylistically odd to insert a def statement randomly in the middle of code; functions are generally defined at the top of a code file, or in a different file altogether for particularly complex programs. However, this poses a separate issue, since readers of the code will now have to go searching all over to find out what a simple function does. Using lambda functions solves this problem: the programmer can define a lambda function and use it immediately without breaking the flow of the code.\n",
        " - **Analyzing data using pandas. Lambda functions are especially useful in data science**. Pandas — Python’s comprehensive data science module — makes use of many operations in which users can pass in functions as optional arguments. Having to define these functions traditionally is a pain. I use Pandas in my work often, and I can attest to the fact that lambda functions have made my life much easier in terms of quickly writing and testing code to process data."
      ],
      "metadata": {
        "id": "3NR7ChLLaSUp"
      }
    },
    {
      "cell_type": "code",
      "source": [],
      "metadata": {
        "id": "EYE9mH0uaRuS"
      },
      "execution_count": null,
      "outputs": []
    },
    {
      "cell_type": "markdown",
      "source": [
        "Note that we use lambda functions a lot with python classes that take in a function as an argument, for example, **map()** and **filter()**."
      ],
      "metadata": {
        "id": "dlxtcJnkeaIB"
      }
    },
    {
      "cell_type": "code",
      "source": [
        "lambda x: x + 1"
      ],
      "metadata": {
        "colab": {
          "base_uri": "https://localhost:8080/"
        },
        "id": "cFFA_pfPL03K",
        "outputId": "d929f507-ad51-4919-a2e9-0aa9c4213cec"
      },
      "execution_count": null,
      "outputs": [
        {
          "output_type": "execute_result",
          "data": {
            "text/plain": [
              "<function __main__.<lambda>(x)>"
            ]
          },
          "metadata": {},
          "execution_count": 30
        }
      ]
    },
    {
      "cell_type": "markdown",
      "source": [
        "**1. To evaluate scalar values**\n",
        "\n",
        "This is when you execute a lambda function on a **single value**."
      ],
      "metadata": {
        "id": "CVEPa8Vwesl5"
      }
    },
    {
      "cell_type": "code",
      "source": [
        "(lambda x: x + 1)(2)"
      ],
      "metadata": {
        "colab": {
          "base_uri": "https://localhost:8080/"
        },
        "id": "P7TXpaJ7GMwG",
        "outputId": "ce63f41a-f550-4f90-827a-682c331bbe31"
      },
      "execution_count": null,
      "outputs": [
        {
          "output_type": "execute_result",
          "data": {
            "text/plain": [
              "3"
            ]
          },
          "metadata": {},
          "execution_count": 31
        }
      ]
    },
    {
      "cell_type": "markdown",
      "source": [
        "**2. To evaluate lists with filter() and map() functions**"
      ],
      "metadata": {
        "id": "ZXSgqdRbgk0C"
      }
    },
    {
      "cell_type": "code",
      "source": [
        "list_1 = [1,2,3,4,5,6,7,8,9]\n",
        "\n",
        "print(list(filter(lambda x: x%2==0, list_1)))\n"
      ],
      "metadata": {
        "colab": {
          "base_uri": "https://localhost:8080/"
        },
        "id": "aCVOeZAxgkbq",
        "outputId": "1da5bc5c-c85b-4751-e5c0-574599843dcb"
      },
      "execution_count": null,
      "outputs": [
        {
          "output_type": "stream",
          "name": "stdout",
          "text": [
            "[2, 4, 6, 8]\n"
          ]
        }
      ]
    },
    {
      "cell_type": "code",
      "source": [
        "list_1 = [1,2,3,4,5,6,7,8,9]\n",
        "cubed = map(lambda x: pow(x,3), list_1)\n",
        "list(cubed)"
      ],
      "metadata": {
        "colab": {
          "base_uri": "https://localhost:8080/"
        },
        "id": "GlSUkGLPhp-4",
        "outputId": "116eef38-b0fd-4b21-97e3-5e2f364bc763"
      },
      "execution_count": null,
      "outputs": [
        {
          "output_type": "execute_result",
          "data": {
            "text/plain": [
              "[1, 8, 27, 64, 125, 216, 343, 512, 729]"
            ]
          },
          "metadata": {},
          "execution_count": 43
        }
      ]
    },
    {
      "cell_type": "markdown",
      "source": [
        "**Define/Name a lambda function**\n",
        "\n",
        "As a lambda function is an expression, it can be **named**. Therefore you could write the previous code as follows:"
      ],
      "metadata": {
        "id": "aORIDMcIMDmr"
      }
    },
    {
      "cell_type": "code",
      "source": [
        "add_one = lambda x: x + 1\n",
        "add_one(2)"
      ],
      "metadata": {
        "colab": {
          "base_uri": "https://localhost:8080/"
        },
        "id": "X24pWvXsL3tr",
        "outputId": "310a4360-66ce-4b6b-bfef-5cb3546d3daf"
      },
      "execution_count": null,
      "outputs": [
        {
          "output_type": "execute_result",
          "data": {
            "text/plain": [
              "3"
            ]
          },
          "metadata": {},
          "execution_count": 36
        }
      ]
    },
    {
      "cell_type": "code",
      "source": [
        "def add_one(x):\n",
        "    return x + 1\n",
        "\n",
        "add_one(2)"
      ],
      "metadata": {
        "colab": {
          "base_uri": "https://localhost:8080/"
        },
        "id": "5TmjTd-tMP9c",
        "outputId": "bc0a03ae-f898-4e5a-c231-669c52420d8e"
      },
      "execution_count": null,
      "outputs": [
        {
          "output_type": "execute_result",
          "data": {
            "text/plain": [
              "3"
            ]
          },
          "metadata": {},
          "execution_count": 35
        }
      ]
    },
    {
      "cell_type": "code",
      "source": [
        "full_name = lambda first, last: f'Full name: {first.title()} {last.title()}'\n",
        "full_name('guido', 'van rossum')"
      ],
      "metadata": {
        "colab": {
          "base_uri": "https://localhost:8080/",
          "height": 36
        },
        "id": "tZe78StGpj3l",
        "outputId": "7e625b69-db0f-4650-ae6a-18cc4baf7d0e"
      },
      "execution_count": null,
      "outputs": [
        {
          "output_type": "execute_result",
          "data": {
            "text/plain": [
              "'Full name: Guido Van Rossum'"
            ],
            "application/vnd.google.colaboratory.intrinsic+json": {
              "type": "string"
            }
          },
          "metadata": {},
          "execution_count": 34
        }
      ]
    },
    {
      "cell_type": "markdown",
      "source": [
        "**3. Series object**\n",
        "\n",
        "A Series object is **a column** in a **data frame**, or put another way, a **sequence of values with corresponding indices**. Lambda functions can be used to manipulate values inside a Pandas dataframe."
      ],
      "metadata": {
        "id": "mdenDCDqiCdl"
      }
    },
    {
      "cell_type": "code",
      "source": [
        "import pandas as pd\n",
        "\n",
        "df = pd.DataFrame({\n",
        "    'Name': ['Luke','Gina','Sam','Emma'],\n",
        "    'Status': ['Father', 'Mother', 'Son', 'Daughter'],\n",
        "    'Birthyear': [1976, 1984, 2013, 2016],\n",
        "})"
      ],
      "metadata": {
        "id": "sZUdLsWJo9q6"
      },
      "execution_count": 2,
      "outputs": []
    },
    {
      "cell_type": "code",
      "source": [
        "df"
      ],
      "metadata": {
        "colab": {
          "base_uri": "https://localhost:8080/",
          "height": 175
        },
        "id": "eZrepyvpo9n3",
        "outputId": "59df36db-9602-4403-a75d-5235debce37a"
      },
      "execution_count": 3,
      "outputs": [
        {
          "output_type": "execute_result",
          "data": {
            "text/plain": [
              "   Name    Status  Birthyear\n",
              "0  Luke    Father       1976\n",
              "1  Gina    Mother       1984\n",
              "2   Sam       Son       2013\n",
              "3  Emma  Daughter       2016"
            ],
            "text/html": [
              "\n",
              "  <div id=\"df-8dd91ae6-e2b8-47e3-80b4-d2be067dd4fd\">\n",
              "    <div class=\"colab-df-container\">\n",
              "      <div>\n",
              "<style scoped>\n",
              "    .dataframe tbody tr th:only-of-type {\n",
              "        vertical-align: middle;\n",
              "    }\n",
              "\n",
              "    .dataframe tbody tr th {\n",
              "        vertical-align: top;\n",
              "    }\n",
              "\n",
              "    .dataframe thead th {\n",
              "        text-align: right;\n",
              "    }\n",
              "</style>\n",
              "<table border=\"1\" class=\"dataframe\">\n",
              "  <thead>\n",
              "    <tr style=\"text-align: right;\">\n",
              "      <th></th>\n",
              "      <th>Name</th>\n",
              "      <th>Status</th>\n",
              "      <th>Birthyear</th>\n",
              "    </tr>\n",
              "  </thead>\n",
              "  <tbody>\n",
              "    <tr>\n",
              "      <th>0</th>\n",
              "      <td>Luke</td>\n",
              "      <td>Father</td>\n",
              "      <td>1976</td>\n",
              "    </tr>\n",
              "    <tr>\n",
              "      <th>1</th>\n",
              "      <td>Gina</td>\n",
              "      <td>Mother</td>\n",
              "      <td>1984</td>\n",
              "    </tr>\n",
              "    <tr>\n",
              "      <th>2</th>\n",
              "      <td>Sam</td>\n",
              "      <td>Son</td>\n",
              "      <td>2013</td>\n",
              "    </tr>\n",
              "    <tr>\n",
              "      <th>3</th>\n",
              "      <td>Emma</td>\n",
              "      <td>Daughter</td>\n",
              "      <td>2016</td>\n",
              "    </tr>\n",
              "  </tbody>\n",
              "</table>\n",
              "</div>\n",
              "      <button class=\"colab-df-convert\" onclick=\"convertToInteractive('df-8dd91ae6-e2b8-47e3-80b4-d2be067dd4fd')\"\n",
              "              title=\"Convert this dataframe to an interactive table.\"\n",
              "              style=\"display:none;\">\n",
              "        \n",
              "  <svg xmlns=\"http://www.w3.org/2000/svg\" height=\"24px\"viewBox=\"0 0 24 24\"\n",
              "       width=\"24px\">\n",
              "    <path d=\"M0 0h24v24H0V0z\" fill=\"none\"/>\n",
              "    <path d=\"M18.56 5.44l.94 2.06.94-2.06 2.06-.94-2.06-.94-.94-2.06-.94 2.06-2.06.94zm-11 1L8.5 8.5l.94-2.06 2.06-.94-2.06-.94L8.5 2.5l-.94 2.06-2.06.94zm10 10l.94 2.06.94-2.06 2.06-.94-2.06-.94-.94-2.06-.94 2.06-2.06.94z\"/><path d=\"M17.41 7.96l-1.37-1.37c-.4-.4-.92-.59-1.43-.59-.52 0-1.04.2-1.43.59L10.3 9.45l-7.72 7.72c-.78.78-.78 2.05 0 2.83L4 21.41c.39.39.9.59 1.41.59.51 0 1.02-.2 1.41-.59l7.78-7.78 2.81-2.81c.8-.78.8-2.07 0-2.86zM5.41 20L4 18.59l7.72-7.72 1.47 1.35L5.41 20z\"/>\n",
              "  </svg>\n",
              "      </button>\n",
              "      \n",
              "  <style>\n",
              "    .colab-df-container {\n",
              "      display:flex;\n",
              "      flex-wrap:wrap;\n",
              "      gap: 12px;\n",
              "    }\n",
              "\n",
              "    .colab-df-convert {\n",
              "      background-color: #E8F0FE;\n",
              "      border: none;\n",
              "      border-radius: 50%;\n",
              "      cursor: pointer;\n",
              "      display: none;\n",
              "      fill: #1967D2;\n",
              "      height: 32px;\n",
              "      padding: 0 0 0 0;\n",
              "      width: 32px;\n",
              "    }\n",
              "\n",
              "    .colab-df-convert:hover {\n",
              "      background-color: #E2EBFA;\n",
              "      box-shadow: 0px 1px 2px rgba(60, 64, 67, 0.3), 0px 1px 3px 1px rgba(60, 64, 67, 0.15);\n",
              "      fill: #174EA6;\n",
              "    }\n",
              "\n",
              "    [theme=dark] .colab-df-convert {\n",
              "      background-color: #3B4455;\n",
              "      fill: #D2E3FC;\n",
              "    }\n",
              "\n",
              "    [theme=dark] .colab-df-convert:hover {\n",
              "      background-color: #434B5C;\n",
              "      box-shadow: 0px 1px 3px 1px rgba(0, 0, 0, 0.15);\n",
              "      filter: drop-shadow(0px 1px 2px rgba(0, 0, 0, 0.3));\n",
              "      fill: #FFFFFF;\n",
              "    }\n",
              "  </style>\n",
              "\n",
              "      <script>\n",
              "        const buttonEl =\n",
              "          document.querySelector('#df-8dd91ae6-e2b8-47e3-80b4-d2be067dd4fd button.colab-df-convert');\n",
              "        buttonEl.style.display =\n",
              "          google.colab.kernel.accessAllowed ? 'block' : 'none';\n",
              "\n",
              "        async function convertToInteractive(key) {\n",
              "          const element = document.querySelector('#df-8dd91ae6-e2b8-47e3-80b4-d2be067dd4fd');\n",
              "          const dataTable =\n",
              "            await google.colab.kernel.invokeFunction('convertToInteractive',\n",
              "                                                     [key], {});\n",
              "          if (!dataTable) return;\n",
              "\n",
              "          const docLinkHtml = 'Like what you see? Visit the ' +\n",
              "            '<a target=\"_blank\" href=https://colab.research.google.com/notebooks/data_table.ipynb>data table notebook</a>'\n",
              "            + ' to learn more about interactive tables.';\n",
              "          element.innerHTML = '';\n",
              "          dataTable['output_type'] = 'display_data';\n",
              "          await google.colab.output.renderOutput(dataTable, element);\n",
              "          const docLink = document.createElement('div');\n",
              "          docLink.innerHTML = docLinkHtml;\n",
              "          element.appendChild(docLink);\n",
              "        }\n",
              "      </script>\n",
              "    </div>\n",
              "  </div>\n",
              "  "
            ]
          },
          "metadata": {},
          "execution_count": 3
        }
      ]
    },
    {
      "cell_type": "markdown",
      "source": [
        "**Lambda with Apply() function by Pandas**\n",
        "\n",
        "This function applies an operation to every element of any column."
      ],
      "metadata": {
        "id": "tSpyc5QriaIy"
      }
    },
    {
      "cell_type": "code",
      "source": [
        "df['age'] = df['Birthyear'].apply(lambda x: 2021-x)"
      ],
      "metadata": {
        "id": "5bzY0sDrkWQ6"
      },
      "execution_count": 4,
      "outputs": []
    },
    {
      "cell_type": "code",
      "source": [
        "df"
      ],
      "metadata": {
        "colab": {
          "base_uri": "https://localhost:8080/",
          "height": 175
        },
        "id": "HI0sZJHHis9A",
        "outputId": "0d432909-61f9-4790-a97a-f4f5cbb89826"
      },
      "execution_count": null,
      "outputs": [
        {
          "output_type": "execute_result",
          "data": {
            "text/plain": [
              "   Name    Status  Birthyear  age  Gender\n",
              "0  Luke    Father       1976   45    Male\n",
              "1  Gina    Mother       1984   37  Female\n",
              "2   Sam       Son       2013    8    Male\n",
              "3  Emma  Daughter       2016    5  Female"
            ],
            "text/html": [
              "\n",
              "  <div id=\"df-34df9dfa-d1e1-463c-95f3-79aba5440e0c\">\n",
              "    <div class=\"colab-df-container\">\n",
              "      <div>\n",
              "<style scoped>\n",
              "    .dataframe tbody tr th:only-of-type {\n",
              "        vertical-align: middle;\n",
              "    }\n",
              "\n",
              "    .dataframe tbody tr th {\n",
              "        vertical-align: top;\n",
              "    }\n",
              "\n",
              "    .dataframe thead th {\n",
              "        text-align: right;\n",
              "    }\n",
              "</style>\n",
              "<table border=\"1\" class=\"dataframe\">\n",
              "  <thead>\n",
              "    <tr style=\"text-align: right;\">\n",
              "      <th></th>\n",
              "      <th>Name</th>\n",
              "      <th>Status</th>\n",
              "      <th>Birthyear</th>\n",
              "      <th>age</th>\n",
              "      <th>Gender</th>\n",
              "    </tr>\n",
              "  </thead>\n",
              "  <tbody>\n",
              "    <tr>\n",
              "      <th>0</th>\n",
              "      <td>Luke</td>\n",
              "      <td>Father</td>\n",
              "      <td>1976</td>\n",
              "      <td>45</td>\n",
              "      <td>Male</td>\n",
              "    </tr>\n",
              "    <tr>\n",
              "      <th>1</th>\n",
              "      <td>Gina</td>\n",
              "      <td>Mother</td>\n",
              "      <td>1984</td>\n",
              "      <td>37</td>\n",
              "      <td>Female</td>\n",
              "    </tr>\n",
              "    <tr>\n",
              "      <th>2</th>\n",
              "      <td>Sam</td>\n",
              "      <td>Son</td>\n",
              "      <td>2013</td>\n",
              "      <td>8</td>\n",
              "      <td>Male</td>\n",
              "    </tr>\n",
              "    <tr>\n",
              "      <th>3</th>\n",
              "      <td>Emma</td>\n",
              "      <td>Daughter</td>\n",
              "      <td>2016</td>\n",
              "      <td>5</td>\n",
              "      <td>Female</td>\n",
              "    </tr>\n",
              "  </tbody>\n",
              "</table>\n",
              "</div>\n",
              "      <button class=\"colab-df-convert\" onclick=\"convertToInteractive('df-34df9dfa-d1e1-463c-95f3-79aba5440e0c')\"\n",
              "              title=\"Convert this dataframe to an interactive table.\"\n",
              "              style=\"display:none;\">\n",
              "        \n",
              "  <svg xmlns=\"http://www.w3.org/2000/svg\" height=\"24px\"viewBox=\"0 0 24 24\"\n",
              "       width=\"24px\">\n",
              "    <path d=\"M0 0h24v24H0V0z\" fill=\"none\"/>\n",
              "    <path d=\"M18.56 5.44l.94 2.06.94-2.06 2.06-.94-2.06-.94-.94-2.06-.94 2.06-2.06.94zm-11 1L8.5 8.5l.94-2.06 2.06-.94-2.06-.94L8.5 2.5l-.94 2.06-2.06.94zm10 10l.94 2.06.94-2.06 2.06-.94-2.06-.94-.94-2.06-.94 2.06-2.06.94z\"/><path d=\"M17.41 7.96l-1.37-1.37c-.4-.4-.92-.59-1.43-.59-.52 0-1.04.2-1.43.59L10.3 9.45l-7.72 7.72c-.78.78-.78 2.05 0 2.83L4 21.41c.39.39.9.59 1.41.59.51 0 1.02-.2 1.41-.59l7.78-7.78 2.81-2.81c.8-.78.8-2.07 0-2.86zM5.41 20L4 18.59l7.72-7.72 1.47 1.35L5.41 20z\"/>\n",
              "  </svg>\n",
              "      </button>\n",
              "      \n",
              "  <style>\n",
              "    .colab-df-container {\n",
              "      display:flex;\n",
              "      flex-wrap:wrap;\n",
              "      gap: 12px;\n",
              "    }\n",
              "\n",
              "    .colab-df-convert {\n",
              "      background-color: #E8F0FE;\n",
              "      border: none;\n",
              "      border-radius: 50%;\n",
              "      cursor: pointer;\n",
              "      display: none;\n",
              "      fill: #1967D2;\n",
              "      height: 32px;\n",
              "      padding: 0 0 0 0;\n",
              "      width: 32px;\n",
              "    }\n",
              "\n",
              "    .colab-df-convert:hover {\n",
              "      background-color: #E2EBFA;\n",
              "      box-shadow: 0px 1px 2px rgba(60, 64, 67, 0.3), 0px 1px 3px 1px rgba(60, 64, 67, 0.15);\n",
              "      fill: #174EA6;\n",
              "    }\n",
              "\n",
              "    [theme=dark] .colab-df-convert {\n",
              "      background-color: #3B4455;\n",
              "      fill: #D2E3FC;\n",
              "    }\n",
              "\n",
              "    [theme=dark] .colab-df-convert:hover {\n",
              "      background-color: #434B5C;\n",
              "      box-shadow: 0px 1px 3px 1px rgba(0, 0, 0, 0.15);\n",
              "      filter: drop-shadow(0px 1px 2px rgba(0, 0, 0, 0.3));\n",
              "      fill: #FFFFFF;\n",
              "    }\n",
              "  </style>\n",
              "\n",
              "      <script>\n",
              "        const buttonEl =\n",
              "          document.querySelector('#df-34df9dfa-d1e1-463c-95f3-79aba5440e0c button.colab-df-convert');\n",
              "        buttonEl.style.display =\n",
              "          google.colab.kernel.accessAllowed ? 'block' : 'none';\n",
              "\n",
              "        async function convertToInteractive(key) {\n",
              "          const element = document.querySelector('#df-34df9dfa-d1e1-463c-95f3-79aba5440e0c');\n",
              "          const dataTable =\n",
              "            await google.colab.kernel.invokeFunction('convertToInteractive',\n",
              "                                                     [key], {});\n",
              "          if (!dataTable) return;\n",
              "\n",
              "          const docLinkHtml = 'Like what you see? Visit the ' +\n",
              "            '<a target=\"_blank\" href=https://colab.research.google.com/notebooks/data_table.ipynb>data table notebook</a>'\n",
              "            + ' to learn more about interactive tables.';\n",
              "          element.innerHTML = '';\n",
              "          dataTable['output_type'] = 'display_data';\n",
              "          await google.colab.output.renderOutput(dataTable, element);\n",
              "          const docLink = document.createElement('div');\n",
              "          docLink.innerHTML = docLinkHtml;\n",
              "          element.appendChild(docLink);\n",
              "        }\n",
              "      </script>\n",
              "    </div>\n",
              "  </div>\n",
              "  "
            ]
          },
          "metadata": {},
          "execution_count": 53
        }
      ]
    },
    {
      "cell_type": "markdown",
      "source": [
        "Do the same as above but using a user defined function:"
      ],
      "metadata": {
        "id": "1Ut2I69Sa-r3"
      }
    },
    {
      "cell_type": "code",
      "source": [
        "def cal_age(x):\n",
        "  return (2021-x)\n",
        "\n",
        "df['age'] = df['Birthyear'].apply(cal_age)\n",
        "df"
      ],
      "metadata": {
        "colab": {
          "base_uri": "https://localhost:8080/",
          "height": 175
        },
        "id": "JeGPfHCMavLO",
        "outputId": "a2d29d94-bbc7-4e99-f426-7b3404f83a8d"
      },
      "execution_count": 5,
      "outputs": [
        {
          "output_type": "execute_result",
          "data": {
            "text/plain": [
              "   Name    Status  Birthyear  age\n",
              "0  Luke    Father       1976   45\n",
              "1  Gina    Mother       1984   37\n",
              "2   Sam       Son       2013    8\n",
              "3  Emma  Daughter       2016    5"
            ],
            "text/html": [
              "\n",
              "  <div id=\"df-3d7a04c9-145b-4887-b892-1d1868137e51\">\n",
              "    <div class=\"colab-df-container\">\n",
              "      <div>\n",
              "<style scoped>\n",
              "    .dataframe tbody tr th:only-of-type {\n",
              "        vertical-align: middle;\n",
              "    }\n",
              "\n",
              "    .dataframe tbody tr th {\n",
              "        vertical-align: top;\n",
              "    }\n",
              "\n",
              "    .dataframe thead th {\n",
              "        text-align: right;\n",
              "    }\n",
              "</style>\n",
              "<table border=\"1\" class=\"dataframe\">\n",
              "  <thead>\n",
              "    <tr style=\"text-align: right;\">\n",
              "      <th></th>\n",
              "      <th>Name</th>\n",
              "      <th>Status</th>\n",
              "      <th>Birthyear</th>\n",
              "      <th>age</th>\n",
              "    </tr>\n",
              "  </thead>\n",
              "  <tbody>\n",
              "    <tr>\n",
              "      <th>0</th>\n",
              "      <td>Luke</td>\n",
              "      <td>Father</td>\n",
              "      <td>1976</td>\n",
              "      <td>45</td>\n",
              "    </tr>\n",
              "    <tr>\n",
              "      <th>1</th>\n",
              "      <td>Gina</td>\n",
              "      <td>Mother</td>\n",
              "      <td>1984</td>\n",
              "      <td>37</td>\n",
              "    </tr>\n",
              "    <tr>\n",
              "      <th>2</th>\n",
              "      <td>Sam</td>\n",
              "      <td>Son</td>\n",
              "      <td>2013</td>\n",
              "      <td>8</td>\n",
              "    </tr>\n",
              "    <tr>\n",
              "      <th>3</th>\n",
              "      <td>Emma</td>\n",
              "      <td>Daughter</td>\n",
              "      <td>2016</td>\n",
              "      <td>5</td>\n",
              "    </tr>\n",
              "  </tbody>\n",
              "</table>\n",
              "</div>\n",
              "      <button class=\"colab-df-convert\" onclick=\"convertToInteractive('df-3d7a04c9-145b-4887-b892-1d1868137e51')\"\n",
              "              title=\"Convert this dataframe to an interactive table.\"\n",
              "              style=\"display:none;\">\n",
              "        \n",
              "  <svg xmlns=\"http://www.w3.org/2000/svg\" height=\"24px\"viewBox=\"0 0 24 24\"\n",
              "       width=\"24px\">\n",
              "    <path d=\"M0 0h24v24H0V0z\" fill=\"none\"/>\n",
              "    <path d=\"M18.56 5.44l.94 2.06.94-2.06 2.06-.94-2.06-.94-.94-2.06-.94 2.06-2.06.94zm-11 1L8.5 8.5l.94-2.06 2.06-.94-2.06-.94L8.5 2.5l-.94 2.06-2.06.94zm10 10l.94 2.06.94-2.06 2.06-.94-2.06-.94-.94-2.06-.94 2.06-2.06.94z\"/><path d=\"M17.41 7.96l-1.37-1.37c-.4-.4-.92-.59-1.43-.59-.52 0-1.04.2-1.43.59L10.3 9.45l-7.72 7.72c-.78.78-.78 2.05 0 2.83L4 21.41c.39.39.9.59 1.41.59.51 0 1.02-.2 1.41-.59l7.78-7.78 2.81-2.81c.8-.78.8-2.07 0-2.86zM5.41 20L4 18.59l7.72-7.72 1.47 1.35L5.41 20z\"/>\n",
              "  </svg>\n",
              "      </button>\n",
              "      \n",
              "  <style>\n",
              "    .colab-df-container {\n",
              "      display:flex;\n",
              "      flex-wrap:wrap;\n",
              "      gap: 12px;\n",
              "    }\n",
              "\n",
              "    .colab-df-convert {\n",
              "      background-color: #E8F0FE;\n",
              "      border: none;\n",
              "      border-radius: 50%;\n",
              "      cursor: pointer;\n",
              "      display: none;\n",
              "      fill: #1967D2;\n",
              "      height: 32px;\n",
              "      padding: 0 0 0 0;\n",
              "      width: 32px;\n",
              "    }\n",
              "\n",
              "    .colab-df-convert:hover {\n",
              "      background-color: #E2EBFA;\n",
              "      box-shadow: 0px 1px 2px rgba(60, 64, 67, 0.3), 0px 1px 3px 1px rgba(60, 64, 67, 0.15);\n",
              "      fill: #174EA6;\n",
              "    }\n",
              "\n",
              "    [theme=dark] .colab-df-convert {\n",
              "      background-color: #3B4455;\n",
              "      fill: #D2E3FC;\n",
              "    }\n",
              "\n",
              "    [theme=dark] .colab-df-convert:hover {\n",
              "      background-color: #434B5C;\n",
              "      box-shadow: 0px 1px 3px 1px rgba(0, 0, 0, 0.15);\n",
              "      filter: drop-shadow(0px 1px 2px rgba(0, 0, 0, 0.3));\n",
              "      fill: #FFFFFF;\n",
              "    }\n",
              "  </style>\n",
              "\n",
              "      <script>\n",
              "        const buttonEl =\n",
              "          document.querySelector('#df-3d7a04c9-145b-4887-b892-1d1868137e51 button.colab-df-convert');\n",
              "        buttonEl.style.display =\n",
              "          google.colab.kernel.accessAllowed ? 'block' : 'none';\n",
              "\n",
              "        async function convertToInteractive(key) {\n",
              "          const element = document.querySelector('#df-3d7a04c9-145b-4887-b892-1d1868137e51');\n",
              "          const dataTable =\n",
              "            await google.colab.kernel.invokeFunction('convertToInteractive',\n",
              "                                                     [key], {});\n",
              "          if (!dataTable) return;\n",
              "\n",
              "          const docLinkHtml = 'Like what you see? Visit the ' +\n",
              "            '<a target=\"_blank\" href=https://colab.research.google.com/notebooks/data_table.ipynb>data table notebook</a>'\n",
              "            + ' to learn more about interactive tables.';\n",
              "          element.innerHTML = '';\n",
              "          dataTable['output_type'] = 'display_data';\n",
              "          await google.colab.output.renderOutput(dataTable, element);\n",
              "          const docLink = document.createElement('div');\n",
              "          docLink.innerHTML = docLinkHtml;\n",
              "          element.appendChild(docLink);\n",
              "        }\n",
              "      </script>\n",
              "    </div>\n",
              "  </div>\n",
              "  "
            ]
          },
          "metadata": {},
          "execution_count": 5
        }
      ]
    },
    {
      "cell_type": "markdown",
      "source": [
        "**Conditional operation with lambda and dataframe** \n",
        "\n",
        "We can also perform **conditional operations** that return different values based on certain criteria.\n",
        "\n",
        "Here, with dataframe object, we have used its **map()** function and conditionals. \n",
        "> **lambda** argument: value [if condition ... else value] "
      ],
      "metadata": {
        "id": "BLWuct8FjLvU"
      }
    },
    {
      "cell_type": "code",
      "source": [
        "df['Gender'] = df['Status'].map(lambda x: 'Male' if x=='Father' or x=='Son' else 'Female')"
      ],
      "metadata": {
        "id": "1GveQiC9jVT0"
      },
      "execution_count": null,
      "outputs": []
    },
    {
      "cell_type": "code",
      "source": [
        "df"
      ],
      "metadata": {
        "colab": {
          "base_uri": "https://localhost:8080/",
          "height": 175
        },
        "id": "PSDuE3bmjwXk",
        "outputId": "f4f67913-95e7-4661-b9bc-0a76dd29ecf8"
      },
      "execution_count": null,
      "outputs": [
        {
          "output_type": "execute_result",
          "data": {
            "text/plain": [
              "   Name    Status  Birthyear  age  Gender\n",
              "0  Luke    Father       1976   45    Male\n",
              "1  Gina    Mother       1984   37  Female\n",
              "2   Sam       Son       2013    8    Male\n",
              "3  Emma  Daughter       2016    5  Female"
            ],
            "text/html": [
              "\n",
              "  <div id=\"df-5b02d112-44d3-4693-b362-30b86729c522\">\n",
              "    <div class=\"colab-df-container\">\n",
              "      <div>\n",
              "<style scoped>\n",
              "    .dataframe tbody tr th:only-of-type {\n",
              "        vertical-align: middle;\n",
              "    }\n",
              "\n",
              "    .dataframe tbody tr th {\n",
              "        vertical-align: top;\n",
              "    }\n",
              "\n",
              "    .dataframe thead th {\n",
              "        text-align: right;\n",
              "    }\n",
              "</style>\n",
              "<table border=\"1\" class=\"dataframe\">\n",
              "  <thead>\n",
              "    <tr style=\"text-align: right;\">\n",
              "      <th></th>\n",
              "      <th>Name</th>\n",
              "      <th>Status</th>\n",
              "      <th>Birthyear</th>\n",
              "      <th>age</th>\n",
              "      <th>Gender</th>\n",
              "    </tr>\n",
              "  </thead>\n",
              "  <tbody>\n",
              "    <tr>\n",
              "      <th>0</th>\n",
              "      <td>Luke</td>\n",
              "      <td>Father</td>\n",
              "      <td>1976</td>\n",
              "      <td>45</td>\n",
              "      <td>Male</td>\n",
              "    </tr>\n",
              "    <tr>\n",
              "      <th>1</th>\n",
              "      <td>Gina</td>\n",
              "      <td>Mother</td>\n",
              "      <td>1984</td>\n",
              "      <td>37</td>\n",
              "      <td>Female</td>\n",
              "    </tr>\n",
              "    <tr>\n",
              "      <th>2</th>\n",
              "      <td>Sam</td>\n",
              "      <td>Son</td>\n",
              "      <td>2013</td>\n",
              "      <td>8</td>\n",
              "      <td>Male</td>\n",
              "    </tr>\n",
              "    <tr>\n",
              "      <th>3</th>\n",
              "      <td>Emma</td>\n",
              "      <td>Daughter</td>\n",
              "      <td>2016</td>\n",
              "      <td>5</td>\n",
              "      <td>Female</td>\n",
              "    </tr>\n",
              "  </tbody>\n",
              "</table>\n",
              "</div>\n",
              "      <button class=\"colab-df-convert\" onclick=\"convertToInteractive('df-5b02d112-44d3-4693-b362-30b86729c522')\"\n",
              "              title=\"Convert this dataframe to an interactive table.\"\n",
              "              style=\"display:none;\">\n",
              "        \n",
              "  <svg xmlns=\"http://www.w3.org/2000/svg\" height=\"24px\"viewBox=\"0 0 24 24\"\n",
              "       width=\"24px\">\n",
              "    <path d=\"M0 0h24v24H0V0z\" fill=\"none\"/>\n",
              "    <path d=\"M18.56 5.44l.94 2.06.94-2.06 2.06-.94-2.06-.94-.94-2.06-.94 2.06-2.06.94zm-11 1L8.5 8.5l.94-2.06 2.06-.94-2.06-.94L8.5 2.5l-.94 2.06-2.06.94zm10 10l.94 2.06.94-2.06 2.06-.94-2.06-.94-.94-2.06-.94 2.06-2.06.94z\"/><path d=\"M17.41 7.96l-1.37-1.37c-.4-.4-.92-.59-1.43-.59-.52 0-1.04.2-1.43.59L10.3 9.45l-7.72 7.72c-.78.78-.78 2.05 0 2.83L4 21.41c.39.39.9.59 1.41.59.51 0 1.02-.2 1.41-.59l7.78-7.78 2.81-2.81c.8-.78.8-2.07 0-2.86zM5.41 20L4 18.59l7.72-7.72 1.47 1.35L5.41 20z\"/>\n",
              "  </svg>\n",
              "      </button>\n",
              "      \n",
              "  <style>\n",
              "    .colab-df-container {\n",
              "      display:flex;\n",
              "      flex-wrap:wrap;\n",
              "      gap: 12px;\n",
              "    }\n",
              "\n",
              "    .colab-df-convert {\n",
              "      background-color: #E8F0FE;\n",
              "      border: none;\n",
              "      border-radius: 50%;\n",
              "      cursor: pointer;\n",
              "      display: none;\n",
              "      fill: #1967D2;\n",
              "      height: 32px;\n",
              "      padding: 0 0 0 0;\n",
              "      width: 32px;\n",
              "    }\n",
              "\n",
              "    .colab-df-convert:hover {\n",
              "      background-color: #E2EBFA;\n",
              "      box-shadow: 0px 1px 2px rgba(60, 64, 67, 0.3), 0px 1px 3px 1px rgba(60, 64, 67, 0.15);\n",
              "      fill: #174EA6;\n",
              "    }\n",
              "\n",
              "    [theme=dark] .colab-df-convert {\n",
              "      background-color: #3B4455;\n",
              "      fill: #D2E3FC;\n",
              "    }\n",
              "\n",
              "    [theme=dark] .colab-df-convert:hover {\n",
              "      background-color: #434B5C;\n",
              "      box-shadow: 0px 1px 3px 1px rgba(0, 0, 0, 0.15);\n",
              "      filter: drop-shadow(0px 1px 2px rgba(0, 0, 0, 0.3));\n",
              "      fill: #FFFFFF;\n",
              "    }\n",
              "  </style>\n",
              "\n",
              "      <script>\n",
              "        const buttonEl =\n",
              "          document.querySelector('#df-5b02d112-44d3-4693-b362-30b86729c522 button.colab-df-convert');\n",
              "        buttonEl.style.display =\n",
              "          google.colab.kernel.accessAllowed ? 'block' : 'none';\n",
              "\n",
              "        async function convertToInteractive(key) {\n",
              "          const element = document.querySelector('#df-5b02d112-44d3-4693-b362-30b86729c522');\n",
              "          const dataTable =\n",
              "            await google.colab.kernel.invokeFunction('convertToInteractive',\n",
              "                                                     [key], {});\n",
              "          if (!dataTable) return;\n",
              "\n",
              "          const docLinkHtml = 'Like what you see? Visit the ' +\n",
              "            '<a target=\"_blank\" href=https://colab.research.google.com/notebooks/data_table.ipynb>data table notebook</a>'\n",
              "            + ' to learn more about interactive tables.';\n",
              "          element.innerHTML = '';\n",
              "          dataTable['output_type'] = 'display_data';\n",
              "          await google.colab.output.renderOutput(dataTable, element);\n",
              "          const docLink = document.createElement('div');\n",
              "          docLink.innerHTML = docLinkHtml;\n",
              "          element.appendChild(docLink);\n",
              "        }\n",
              "      </script>\n",
              "    </div>\n",
              "  </div>\n",
              "  "
            ]
          },
          "metadata": {},
          "execution_count": 51
        }
      ]
    },
    {
      "cell_type": "markdown",
      "source": [
        "# **Docstrings**\n",
        "\n",
        "A Python **docstring** is a string used to document a Python module, class, function or method, so programmers can understand what it does without having to read the details of the implementation.\n",
        "\n",
        " > **General rules**\n",
        "\n",
        "- Docstrings must be defined with three double-quotes. \n",
        "- No blank lines should be left before or after the docstring. \n",
        "- The text starts in the next line after the opening quotes. \n",
        "- The closing quotes have their own line (meaning that they are not at the end of the last sentence).\n"
      ],
      "metadata": {
        "id": "Iu5H8oQNcyzZ"
      }
    },
    {
      "cell_type": "code",
      "source": [
        "# example of docstring\n",
        "\n",
        "def square(n):\n",
        "    '''\n",
        "    Takes in a number n, returns the square of n\n",
        "    '''\n",
        "    return n**2"
      ],
      "metadata": {
        "id": "lMqYZ54mc6b4"
      },
      "execution_count": null,
      "outputs": []
    },
    {
      "cell_type": "code",
      "source": [],
      "metadata": {
        "id": "Y7pgj4ojGcrY"
      },
      "execution_count": null,
      "outputs": []
    },
    {
      "cell_type": "markdown",
      "source": [
        "# **sorted() function**"
      ],
      "metadata": {
        "id": "7-UaCGR-GhTl"
      }
    },
    {
      "cell_type": "markdown",
      "source": [
        "The sorted() method sorts **iterable data** such as **lists, tuples, and dictionaries**. But it sorts by key only.\n",
        "\n",
        "**The sorted() method puts the sorted items in a list**. If you use the sorted() method with a dictionary, **only the keys will be returned** and as usual, it will be in a list:"
      ],
      "metadata": {
        "id": "yPky2JV-C0dK"
      }
    },
    {
      "cell_type": "code",
      "source": [
        "numbers = (14, 3, 1, 4, 2, 9, 8, 10, 13, 12)\n",
        "sortedNumbers = sorted(numbers)\n",
        "\n",
        "print(sortedNumbers)"
      ],
      "metadata": {
        "colab": {
          "base_uri": "https://localhost:8080/"
        },
        "id": "JTqVqlCXGuRc",
        "outputId": "56beb579-c274-4dc2-fc49-bc25bb8e30f7"
      },
      "execution_count": null,
      "outputs": [
        {
          "output_type": "stream",
          "name": "stdout",
          "text": [
            "[1, 2, 3, 4, 8, 9, 10, 12, 13, 14]\n"
          ]
        }
      ]
    },
    {
      "cell_type": "code",
      "source": [
        "sortedNumbers = sorted(numbers, reverse = True)\n",
        "\n",
        "print(sortedNumbers)"
      ],
      "metadata": {
        "colab": {
          "base_uri": "https://localhost:8080/"
        },
        "id": "lFYCj23_G0sF",
        "outputId": "dbb9ceca-f55f-4258-994c-a0167a2aa982"
      },
      "execution_count": null,
      "outputs": [
        {
          "output_type": "stream",
          "name": "stdout",
          "text": [
            "[14, 13, 12, 10, 9, 8, 4, 3, 2, 1]\n"
          ]
        }
      ]
    },
    {
      "cell_type": "code",
      "source": [
        "persons = ['Chris', 'Amber', 'David', 'El-dorado', 'Brad', 'Folake']\n",
        "sortedPersons = sorted(persons)\n",
        "\n",
        "print(sortedPersons)"
      ],
      "metadata": {
        "colab": {
          "base_uri": "https://localhost:8080/"
        },
        "id": "DzI2I6fWGtsC",
        "outputId": "60762eb3-75ce-4c48-b154-342025a3c6b5"
      },
      "execution_count": null,
      "outputs": [
        {
          "output_type": "stream",
          "name": "stdout",
          "text": [
            "['Amber', 'Brad', 'Chris', 'David', 'El-dorado', 'Folake']\n"
          ]
        }
      ]
    },
    {
      "cell_type": "code",
      "source": [
        "my_dict = { 'num6': 6, 'num3': 3, 'num2': 2, 'num4': 4, 'num1': 1, 'num5': 5}\n",
        "sortedDict = sorted(my_dict) # return the sorted list of keys \n",
        "\n",
        "print(sortedDict)\n"
      ],
      "metadata": {
        "colab": {
          "base_uri": "https://localhost:8080/"
        },
        "id": "1RIE8EHlDmSm",
        "outputId": "9095d099-863c-4342-8ae3-8aad8c207e1a"
      },
      "execution_count": null,
      "outputs": [
        {
          "output_type": "stream",
          "name": "stdout",
          "text": [
            "['num1', 'num2', 'num3', 'num4', 'num5', 'num6']\n"
          ]
        }
      ]
    },
    {
      "cell_type": "markdown",
      "source": [
        " >Syntax of sorted() method \n",
        " > \n",
        " >**sorted(iterable, key, reverse)**\n",
        "\n",
        "- iterable – the data to iterate over. It could be a tuple, list, or dictionary.\n",
        "\n",
        "- key – an optional value, the function that helps you to perform a custom sort operation.\n",
        "\n",
        "- reverse – another optional value. It helps you arrange the sorted data in ascending or descending order"
      ],
      "metadata": {
        "id": "FoN-iWTZD54X"
      }
    },
    {
      "cell_type": "markdown",
      "source": [
        "**To correctly sort a dictionary by value with the sorted() method, you will have to do the following:**\n",
        "\n",
        " - pass the dictionary to the sorted() method as the first value\n",
        " - use the items() method on the dictionary to retrieve its keys and values\n",
        " - write a lambda function to get the values retrieved with the item() method"
      ],
      "metadata": {
        "id": "Ito8bbOlEem7"
      }
    },
    {
      "cell_type": "code",
      "source": [
        "footballers_goals = {'Eusebio': 120, 'Cruyff': 104, 'Pele': 150, 'Ronaldo': 132, 'Messi': 125}\n",
        "\n",
        "print(footballers_goals.items())\n",
        "\n",
        "sorted_footballers_by_goals = sorted(footballers_goals.items(), key=lambda x:x[1])\n",
        "# it returns a list\n",
        "\n",
        "print(sorted_footballers_by_goals)\n",
        "\n",
        "\n",
        "# now if we want to get back our dictionary\n",
        "converted_dict = dict(sorted_footballers_by_goals)\n",
        "print(converted_dict)\n",
        "\n"
      ],
      "metadata": {
        "colab": {
          "base_uri": "https://localhost:8080/"
        },
        "id": "v3w4YgTYE5-J",
        "outputId": "85000a27-a6c8-4fa9-ee0e-23c2629c1dc7"
      },
      "execution_count": null,
      "outputs": [
        {
          "output_type": "stream",
          "name": "stdout",
          "text": [
            "dict_items([('Eusebio', 120), ('Cruyff', 104), ('Pele', 150), ('Ronaldo', 132), ('Messi', 125)])\n",
            "[('Cruyff', 104), ('Eusebio', 120), ('Messi', 125), ('Ronaldo', 132), ('Pele', 150)]\n",
            "{'Cruyff': 104, 'Eusebio': 120, 'Messi': 125, 'Ronaldo': 132, 'Pele': 150}\n"
          ]
        }
      ]
    },
    {
      "cell_type": "code",
      "source": [],
      "metadata": {
        "id": "mDnuj6C_Gchz"
      },
      "execution_count": null,
      "outputs": []
    },
    {
      "cell_type": "markdown",
      "source": [],
      "metadata": {
        "id": "7O5u1c5-GbXV"
      }
    }
  ]
}