{
  "nbformat": 4,
  "nbformat_minor": 0,
  "metadata": {
    "colab": {
      "provenance": [],
      "authorship_tag": "ABX9TyPz8RI4s/gHmc5oPRL7o/4+",
      "include_colab_link": true
    },
    "kernelspec": {
      "name": "python3",
      "display_name": "Python 3"
    },
    "language_info": {
      "name": "python"
    }
  },
  "cells": [
    {
      "cell_type": "markdown",
      "metadata": {
        "id": "view-in-github",
        "colab_type": "text"
      },
      "source": [
        "<a href=\"https://colab.research.google.com/github/ashmafee-iut/Learning-Coding/blob/main/Hash_Table.ipynb\" target=\"_parent\"><img src=\"https://colab.research.google.com/assets/colab-badge.svg\" alt=\"Open In Colab\"/></a>"
      ]
    },
    {
      "cell_type": "code",
      "source": [
        "import pandas as pd\n",
        "url = \"https://raw.githubusercontent.com/codebasics/data-structures-algorithms-python/master/data_structures/4_HashTable/stock_prices.csv\"\n",
        "df = pd.read_csv(url)"
      ],
      "metadata": {
        "id": "Snpgzlg2dh0v"
      },
      "execution_count": 1,
      "outputs": []
    },
    {
      "cell_type": "code",
      "source": [
        "list1 = ['march 6', 310]\n",
        "df.loc[len(df)] = list1"
      ],
      "metadata": {
        "id": "iDXDAPabrMwz"
      },
      "execution_count": 2,
      "outputs": []
    },
    {
      "cell_type": "code",
      "source": [
        "df"
      ],
      "metadata": {
        "colab": {
          "base_uri": "https://localhost:8080/",
          "height": 238
        },
        "id": "ri_mP57srVFq",
        "outputId": "720ff10d-9e33-4e65-94a0-bdf1e765dec0"
      },
      "execution_count": 3,
      "outputs": [
        {
          "output_type": "execute_result",
          "data": {
            "text/plain": [
              "    march 6  310\n",
              "0   march 7  340\n",
              "1   march 8  380\n",
              "2   march 9  302\n",
              "3  march 10  297\n",
              "4  march 11  323\n",
              "5   march 6  310"
            ],
            "text/html": [
              "\n",
              "  <div id=\"df-569c5e5d-2ee2-466d-b4bd-49ef65cd47df\">\n",
              "    <div class=\"colab-df-container\">\n",
              "      <div>\n",
              "<style scoped>\n",
              "    .dataframe tbody tr th:only-of-type {\n",
              "        vertical-align: middle;\n",
              "    }\n",
              "\n",
              "    .dataframe tbody tr th {\n",
              "        vertical-align: top;\n",
              "    }\n",
              "\n",
              "    .dataframe thead th {\n",
              "        text-align: right;\n",
              "    }\n",
              "</style>\n",
              "<table border=\"1\" class=\"dataframe\">\n",
              "  <thead>\n",
              "    <tr style=\"text-align: right;\">\n",
              "      <th></th>\n",
              "      <th>march 6</th>\n",
              "      <th>310</th>\n",
              "    </tr>\n",
              "  </thead>\n",
              "  <tbody>\n",
              "    <tr>\n",
              "      <th>0</th>\n",
              "      <td>march 7</td>\n",
              "      <td>340</td>\n",
              "    </tr>\n",
              "    <tr>\n",
              "      <th>1</th>\n",
              "      <td>march 8</td>\n",
              "      <td>380</td>\n",
              "    </tr>\n",
              "    <tr>\n",
              "      <th>2</th>\n",
              "      <td>march 9</td>\n",
              "      <td>302</td>\n",
              "    </tr>\n",
              "    <tr>\n",
              "      <th>3</th>\n",
              "      <td>march 10</td>\n",
              "      <td>297</td>\n",
              "    </tr>\n",
              "    <tr>\n",
              "      <th>4</th>\n",
              "      <td>march 11</td>\n",
              "      <td>323</td>\n",
              "    </tr>\n",
              "    <tr>\n",
              "      <th>5</th>\n",
              "      <td>march 6</td>\n",
              "      <td>310</td>\n",
              "    </tr>\n",
              "  </tbody>\n",
              "</table>\n",
              "</div>\n",
              "      <button class=\"colab-df-convert\" onclick=\"convertToInteractive('df-569c5e5d-2ee2-466d-b4bd-49ef65cd47df')\"\n",
              "              title=\"Convert this dataframe to an interactive table.\"\n",
              "              style=\"display:none;\">\n",
              "        \n",
              "  <svg xmlns=\"http://www.w3.org/2000/svg\" height=\"24px\"viewBox=\"0 0 24 24\"\n",
              "       width=\"24px\">\n",
              "    <path d=\"M0 0h24v24H0V0z\" fill=\"none\"/>\n",
              "    <path d=\"M18.56 5.44l.94 2.06.94-2.06 2.06-.94-2.06-.94-.94-2.06-.94 2.06-2.06.94zm-11 1L8.5 8.5l.94-2.06 2.06-.94-2.06-.94L8.5 2.5l-.94 2.06-2.06.94zm10 10l.94 2.06.94-2.06 2.06-.94-2.06-.94-.94-2.06-.94 2.06-2.06.94z\"/><path d=\"M17.41 7.96l-1.37-1.37c-.4-.4-.92-.59-1.43-.59-.52 0-1.04.2-1.43.59L10.3 9.45l-7.72 7.72c-.78.78-.78 2.05 0 2.83L4 21.41c.39.39.9.59 1.41.59.51 0 1.02-.2 1.41-.59l7.78-7.78 2.81-2.81c.8-.78.8-2.07 0-2.86zM5.41 20L4 18.59l7.72-7.72 1.47 1.35L5.41 20z\"/>\n",
              "  </svg>\n",
              "      </button>\n",
              "      \n",
              "  <style>\n",
              "    .colab-df-container {\n",
              "      display:flex;\n",
              "      flex-wrap:wrap;\n",
              "      gap: 12px;\n",
              "    }\n",
              "\n",
              "    .colab-df-convert {\n",
              "      background-color: #E8F0FE;\n",
              "      border: none;\n",
              "      border-radius: 50%;\n",
              "      cursor: pointer;\n",
              "      display: none;\n",
              "      fill: #1967D2;\n",
              "      height: 32px;\n",
              "      padding: 0 0 0 0;\n",
              "      width: 32px;\n",
              "    }\n",
              "\n",
              "    .colab-df-convert:hover {\n",
              "      background-color: #E2EBFA;\n",
              "      box-shadow: 0px 1px 2px rgba(60, 64, 67, 0.3), 0px 1px 3px 1px rgba(60, 64, 67, 0.15);\n",
              "      fill: #174EA6;\n",
              "    }\n",
              "\n",
              "    [theme=dark] .colab-df-convert {\n",
              "      background-color: #3B4455;\n",
              "      fill: #D2E3FC;\n",
              "    }\n",
              "\n",
              "    [theme=dark] .colab-df-convert:hover {\n",
              "      background-color: #434B5C;\n",
              "      box-shadow: 0px 1px 3px 1px rgba(0, 0, 0, 0.15);\n",
              "      filter: drop-shadow(0px 1px 2px rgba(0, 0, 0, 0.3));\n",
              "      fill: #FFFFFF;\n",
              "    }\n",
              "  </style>\n",
              "\n",
              "      <script>\n",
              "        const buttonEl =\n",
              "          document.querySelector('#df-569c5e5d-2ee2-466d-b4bd-49ef65cd47df button.colab-df-convert');\n",
              "        buttonEl.style.display =\n",
              "          google.colab.kernel.accessAllowed ? 'block' : 'none';\n",
              "\n",
              "        async function convertToInteractive(key) {\n",
              "          const element = document.querySelector('#df-569c5e5d-2ee2-466d-b4bd-49ef65cd47df');\n",
              "          const dataTable =\n",
              "            await google.colab.kernel.invokeFunction('convertToInteractive',\n",
              "                                                     [key], {});\n",
              "          if (!dataTable) return;\n",
              "\n",
              "          const docLinkHtml = 'Like what you see? Visit the ' +\n",
              "            '<a target=\"_blank\" href=https://colab.research.google.com/notebooks/data_table.ipynb>data table notebook</a>'\n",
              "            + ' to learn more about interactive tables.';\n",
              "          element.innerHTML = '';\n",
              "          dataTable['output_type'] = 'display_data';\n",
              "          await google.colab.output.renderOutput(dataTable, element);\n",
              "          const docLink = document.createElement('div');\n",
              "          docLink.innerHTML = docLinkHtml;\n",
              "          element.appendChild(docLink);\n",
              "        }\n",
              "      </script>\n",
              "    </div>\n",
              "  </div>\n",
              "  "
            ]
          },
          "metadata": {},
          "execution_count": 3
        }
      ]
    },
    {
      "cell_type": "code",
      "execution_count": 4,
      "metadata": {
        "id": "GuVIfkNBc7uz"
      },
      "outputs": [],
      "source": [
        "stock_prices = []\n",
        "for index, row in df.iterrows():\n",
        "  day = row[0]\n",
        "  price = float(row[1])\n",
        "  stock_prices.append([day,price])\n",
        "       \n",
        "       "
      ]
    },
    {
      "cell_type": "code",
      "source": [
        "stock_prices"
      ],
      "metadata": {
        "colab": {
          "base_uri": "https://localhost:8080/"
        },
        "id": "9hCTYKaeeEmL",
        "outputId": "c0d9017a-d04e-4c68-b523-054ebd44ffea"
      },
      "execution_count": 5,
      "outputs": [
        {
          "output_type": "execute_result",
          "data": {
            "text/plain": [
              "[['march 7', 340.0],\n",
              " ['march 8', 380.0],\n",
              " ['march 9', 302.0],\n",
              " ['march 10', 297.0],\n",
              " ['march 11', 323.0],\n",
              " ['march 6', 310.0]]"
            ]
          },
          "metadata": {},
          "execution_count": 5
        }
      ]
    },
    {
      "cell_type": "markdown",
      "source": [
        "# **Find stock price on March 9**"
      ],
      "metadata": {
        "id": "tSUTVJhSeWdj"
      }
    },
    {
      "cell_type": "markdown",
      "source": [
        "**Search in O(n)**"
      ],
      "metadata": {
        "id": "EhYTkjcheK9R"
      }
    },
    {
      "cell_type": "code",
      "source": [
        "for element in stock_prices:\n",
        "    if element[0] == 'march 9':\n",
        "        print(element[1])\n"
      ],
      "metadata": {
        "colab": {
          "base_uri": "https://localhost:8080/"
        },
        "id": "QSvRPk7MeGpD",
        "outputId": "d2cbd1cc-535f-4009-f4e2-37bc53ff25b6"
      },
      "execution_count": 6,
      "outputs": [
        {
          "output_type": "stream",
          "name": "stdout",
          "text": [
            "302.0\n"
          ]
        }
      ]
    },
    {
      "cell_type": "markdown",
      "source": [
        "**Use a Dictionary - Complexity O(1) - It is implemented based on Hash Map in python**\n"
      ],
      "metadata": {
        "id": "6H9RdE7PewWc"
      }
    },
    {
      "cell_type": "code",
      "source": [
        "stock_prices = {}\n",
        "for index, row in df.iterrows():\n",
        "  day = row[0]\n",
        "  price = float(row[1])\n",
        "  stock_prices[day] = price  #implement a dictionary at this place"
      ],
      "metadata": {
        "id": "CWZmxFPzecPL"
      },
      "execution_count": 7,
      "outputs": []
    },
    {
      "cell_type": "code",
      "source": [
        "# Representaion of a dictionary as a data structure \n",
        "stock_prices"
      ],
      "metadata": {
        "colab": {
          "base_uri": "https://localhost:8080/"
        },
        "id": "rgUymETXemaM",
        "outputId": "c2c7eb2f-683f-4a1d-fc20-0687fa289ab1"
      },
      "execution_count": 8,
      "outputs": [
        {
          "output_type": "execute_result",
          "data": {
            "text/plain": [
              "{'march 7': 340.0,\n",
              " 'march 8': 380.0,\n",
              " 'march 9': 302.0,\n",
              " 'march 10': 297.0,\n",
              " 'march 11': 323.0,\n",
              " 'march 6': 310.0}"
            ]
          },
          "metadata": {},
          "execution_count": 8
        }
      ]
    },
    {
      "cell_type": "code",
      "source": [
        "stock_prices['march 9']"
      ],
      "metadata": {
        "colab": {
          "base_uri": "https://localhost:8080/"
        },
        "id": "2SIB8LxGe9Ze",
        "outputId": "af35fcd4-7e50-410f-c678-d24f2e2e80c6"
      },
      "execution_count": 9,
      "outputs": [
        {
          "output_type": "execute_result",
          "data": {
            "text/plain": [
              "302.0"
            ]
          },
          "metadata": {},
          "execution_count": 9
        }
      ]
    },
    {
      "cell_type": "markdown",
      "source": [
        "**Search in O(log(n)) = Binary search**\n",
        "- to be implemented "
      ],
      "metadata": {
        "id": "MNxFwCmKfLSN"
      }
    },
    {
      "cell_type": "markdown",
      "source": [
        "**Search in O(1)**\n",
        " - Hash table "
      ],
      "metadata": {
        "id": "EIx26Eq_fldz"
      }
    },
    {
      "cell_type": "markdown",
      "source": [
        "Hash function is an important step in this method to find/map an index for a given key. "
      ],
      "metadata": {
        "id": "dbk6fpsdxhCn"
      }
    },
    {
      "cell_type": "code",
      "source": [
        "\n",
        "# build a hash function at first \n",
        "\n",
        "def get_hash(key):\n",
        "    hash = 0\n",
        "    for char in key:\n",
        "        hash += ord(char)\n",
        "    return hash % 100"
      ],
      "metadata": {
        "id": "lush5OvWfGWz"
      },
      "execution_count": 10,
      "outputs": []
    },
    {
      "cell_type": "code",
      "source": [
        "\n",
        "# demo of a hash function\n",
        "\n",
        "get_hash('march 6')"
      ],
      "metadata": {
        "colab": {
          "base_uri": "https://localhost:8080/"
        },
        "id": "r50eZ2O7f93q",
        "outputId": "ecff00aa-57a9-4547-e1b4-124855923048"
      },
      "execution_count": 11,
      "outputs": [
        {
          "output_type": "execute_result",
          "data": {
            "text/plain": [
              "9"
            ]
          },
          "metadata": {},
          "execution_count": 11
        }
      ]
    },
    {
      "cell_type": "code",
      "source": [
        "class HashTable:  \n",
        "    def __init__(self):\n",
        "        self.MAX = 100\n",
        "        self.arr = [None for i in range(self.MAX)]\n",
        "        \n",
        "    def get_hash(self, key):\n",
        "        hash = 0\n",
        "        for char in key:\n",
        "            hash += ord(char)\n",
        "        return hash % self.MAX\n",
        "    \n",
        "    def __getitem__(self, index):\n",
        "        # a regular key (index) will be converted to a hash index at first  \n",
        "        h = self.get_hash(index)\n",
        "        return self.arr[h]\n",
        "    \n",
        "    def __setitem__(self, key, val):\n",
        "        # a regular key (index) will be converted to a hash index at first \n",
        "        h = self.get_hash(key)\n",
        "        self.arr[h] = val    \n",
        "        \n",
        "    def __delitem__(self, key):\n",
        "        # a regular key (index) will be converted to a hash index at first\n",
        "        h = self.get_hash(key)\n",
        "        self.arr[h] = None    "
      ],
      "metadata": {
        "id": "inTM6yf8f_xK"
      },
      "execution_count": 12,
      "outputs": []
    },
    {
      "cell_type": "code",
      "source": [
        "t = HashTable()\n",
        "t[\"march 6\"] = 310\n",
        "t[\"march 7\"] = 420\n",
        "\n",
        "t.arr"
      ],
      "metadata": {
        "colab": {
          "base_uri": "https://localhost:8080/"
        },
        "id": "S9BkSKVhg4ZV",
        "outputId": "3818bc8c-b809-4313-b3c4-f2e65bfb9e9f"
      },
      "execution_count": 13,
      "outputs": [
        {
          "output_type": "execute_result",
          "data": {
            "text/plain": [
              "[None,\n",
              " None,\n",
              " None,\n",
              " None,\n",
              " None,\n",
              " None,\n",
              " None,\n",
              " None,\n",
              " None,\n",
              " 310,\n",
              " 420,\n",
              " None,\n",
              " None,\n",
              " None,\n",
              " None,\n",
              " None,\n",
              " None,\n",
              " None,\n",
              " None,\n",
              " None,\n",
              " None,\n",
              " None,\n",
              " None,\n",
              " None,\n",
              " None,\n",
              " None,\n",
              " None,\n",
              " None,\n",
              " None,\n",
              " None,\n",
              " None,\n",
              " None,\n",
              " None,\n",
              " None,\n",
              " None,\n",
              " None,\n",
              " None,\n",
              " None,\n",
              " None,\n",
              " None,\n",
              " None,\n",
              " None,\n",
              " None,\n",
              " None,\n",
              " None,\n",
              " None,\n",
              " None,\n",
              " None,\n",
              " None,\n",
              " None,\n",
              " None,\n",
              " None,\n",
              " None,\n",
              " None,\n",
              " None,\n",
              " None,\n",
              " None,\n",
              " None,\n",
              " None,\n",
              " None,\n",
              " None,\n",
              " None,\n",
              " None,\n",
              " None,\n",
              " None,\n",
              " None,\n",
              " None,\n",
              " None,\n",
              " None,\n",
              " None,\n",
              " None,\n",
              " None,\n",
              " None,\n",
              " None,\n",
              " None,\n",
              " None,\n",
              " None,\n",
              " None,\n",
              " None,\n",
              " None,\n",
              " None,\n",
              " None,\n",
              " None,\n",
              " None,\n",
              " None,\n",
              " None,\n",
              " None,\n",
              " None,\n",
              " None,\n",
              " None,\n",
              " None,\n",
              " None,\n",
              " None,\n",
              " None,\n",
              " None,\n",
              " None,\n",
              " None,\n",
              " None,\n",
              " None,\n",
              " None]"
            ]
          },
          "metadata": {},
          "execution_count": 13
        }
      ]
    },
    {
      "cell_type": "code",
      "source": [
        "t[\"dec 30\"] = 88"
      ],
      "metadata": {
        "id": "DvDj_Jv-5GIg"
      },
      "execution_count": 14,
      "outputs": []
    },
    {
      "cell_type": "code",
      "source": [
        "t.arr"
      ],
      "metadata": {
        "colab": {
          "base_uri": "https://localhost:8080/"
        },
        "id": "9AJvFCeZ5Wgw",
        "outputId": "4e4fac76-60c8-474b-ac15-415d4f7501dd"
      },
      "execution_count": 15,
      "outputs": [
        {
          "output_type": "execute_result",
          "data": {
            "text/plain": [
              "[None,\n",
              " None,\n",
              " None,\n",
              " None,\n",
              " None,\n",
              " None,\n",
              " None,\n",
              " None,\n",
              " None,\n",
              " 310,\n",
              " 420,\n",
              " None,\n",
              " None,\n",
              " None,\n",
              " None,\n",
              " None,\n",
              " None,\n",
              " None,\n",
              " None,\n",
              " None,\n",
              " None,\n",
              " None,\n",
              " None,\n",
              " None,\n",
              " None,\n",
              " None,\n",
              " None,\n",
              " None,\n",
              " None,\n",
              " None,\n",
              " None,\n",
              " 88,\n",
              " None,\n",
              " None,\n",
              " None,\n",
              " None,\n",
              " None,\n",
              " None,\n",
              " None,\n",
              " None,\n",
              " None,\n",
              " None,\n",
              " None,\n",
              " None,\n",
              " None,\n",
              " None,\n",
              " None,\n",
              " None,\n",
              " None,\n",
              " None,\n",
              " None,\n",
              " None,\n",
              " None,\n",
              " None,\n",
              " None,\n",
              " None,\n",
              " None,\n",
              " None,\n",
              " None,\n",
              " None,\n",
              " None,\n",
              " None,\n",
              " None,\n",
              " None,\n",
              " None,\n",
              " None,\n",
              " None,\n",
              " None,\n",
              " None,\n",
              " None,\n",
              " None,\n",
              " None,\n",
              " None,\n",
              " None,\n",
              " None,\n",
              " None,\n",
              " None,\n",
              " None,\n",
              " None,\n",
              " None,\n",
              " None,\n",
              " None,\n",
              " None,\n",
              " None,\n",
              " None,\n",
              " None,\n",
              " None,\n",
              " None,\n",
              " None,\n",
              " None,\n",
              " None,\n",
              " None,\n",
              " None,\n",
              " None,\n",
              " None,\n",
              " None,\n",
              " None,\n",
              " None,\n",
              " None,\n",
              " None]"
            ]
          },
          "metadata": {},
          "execution_count": 15
        }
      ]
    },
    {
      "cell_type": "code",
      "source": [
        "stock_prices = HashTable()\n",
        "for index, row in df.iterrows():\n",
        "  day = row[0]\n",
        "  price = float(row[1])\n",
        "  stock_prices[day] = price  #implement a Hashtable at this place similar to a hashtable\n"
      ],
      "metadata": {
        "id": "zrHajwgQ5YAR"
      },
      "execution_count": 16,
      "outputs": []
    },
    {
      "cell_type": "code",
      "source": [
        "stock_prices[\"march 6\"]"
      ],
      "metadata": {
        "colab": {
          "base_uri": "https://localhost:8080/"
        },
        "id": "4TURU2DO5eAw",
        "outputId": "f611cf30-5808-4cfa-fbac-bc9928123998"
      },
      "execution_count": 17,
      "outputs": [
        {
          "output_type": "execute_result",
          "data": {
            "text/plain": [
              "310.0"
            ]
          },
          "metadata": {},
          "execution_count": 17
        }
      ]
    },
    {
      "cell_type": "code",
      "source": [
        "stock_prices.arr"
      ],
      "metadata": {
        "colab": {
          "base_uri": "https://localhost:8080/"
        },
        "id": "Wr91E_K75g1g",
        "outputId": "17962830-f27e-4f37-b75d-b55f878991ff"
      },
      "execution_count": 18,
      "outputs": [
        {
          "output_type": "execute_result",
          "data": {
            "text/plain": [
              "[None,\n",
              " None,\n",
              " None,\n",
              " None,\n",
              " None,\n",
              " None,\n",
              " None,\n",
              " None,\n",
              " None,\n",
              " 310.0,\n",
              " 340.0,\n",
              " 380.0,\n",
              " 302.0,\n",
              " None,\n",
              " None,\n",
              " None,\n",
              " None,\n",
              " None,\n",
              " None,\n",
              " None,\n",
              " None,\n",
              " None,\n",
              " None,\n",
              " None,\n",
              " None,\n",
              " None,\n",
              " None,\n",
              " None,\n",
              " None,\n",
              " None,\n",
              " None,\n",
              " None,\n",
              " None,\n",
              " None,\n",
              " None,\n",
              " None,\n",
              " None,\n",
              " None,\n",
              " None,\n",
              " None,\n",
              " None,\n",
              " None,\n",
              " None,\n",
              " None,\n",
              " None,\n",
              " None,\n",
              " None,\n",
              " None,\n",
              " None,\n",
              " None,\n",
              " None,\n",
              " None,\n",
              " 297.0,\n",
              " 323.0,\n",
              " None,\n",
              " None,\n",
              " None,\n",
              " None,\n",
              " None,\n",
              " None,\n",
              " None,\n",
              " None,\n",
              " None,\n",
              " None,\n",
              " None,\n",
              " None,\n",
              " None,\n",
              " None,\n",
              " None,\n",
              " None,\n",
              " None,\n",
              " None,\n",
              " None,\n",
              " None,\n",
              " None,\n",
              " None,\n",
              " None,\n",
              " None,\n",
              " None,\n",
              " None,\n",
              " None,\n",
              " None,\n",
              " None,\n",
              " None,\n",
              " None,\n",
              " None,\n",
              " None,\n",
              " None,\n",
              " None,\n",
              " None,\n",
              " None,\n",
              " None,\n",
              " None,\n",
              " None,\n",
              " None,\n",
              " None,\n",
              " None,\n",
              " None,\n",
              " None,\n",
              " None]"
            ]
          },
          "metadata": {},
          "execution_count": 18
        }
      ]
    },
    {
      "cell_type": "code",
      "source": [
        "a = None\n",
        "(a)"
      ],
      "metadata": {
        "id": "LHfqa0Pc55iS"
      },
      "execution_count": 19,
      "outputs": []
    },
    {
      "cell_type": "markdown",
      "source": [
        "<h4><b>Hash table = Collisions</b></h4>"
      ],
      "metadata": {
        "id": "9sQYf9Fa7JwJ"
      }
    },
    {
      "cell_type": "code",
      "source": [
        "class HashTable:  \n",
        "    def __init__(self):\n",
        "        self.MAX = 10\n",
        "        self.arr = [None for i in range(self.MAX)]\n",
        "        \n",
        "    def get_hash(self, key):\n",
        "        hash = 0\n",
        "        for char in key:\n",
        "            hash += ord(char)\n",
        "        return hash % self.MAX\n",
        "    \n",
        "    def __getitem__(self, index):\n",
        "        # a regular key (index) will be converted to a hash index at first  \n",
        "        h = self.get_hash(index)\n",
        "        return self.arr[h]\n",
        "    \n",
        "    def __setitem__(self, key, val):\n",
        "        # a regular key (index) will be converted to a hash index at first \n",
        "        h = self.get_hash(key)\n",
        "        self.arr[h] = val    \n",
        "        \n",
        "    def __delitem__(self, key):\n",
        "        # a regular key (index) will be converted to a hash index at first\n",
        "        h = self.get_hash(key)\n",
        "        self.arr[h] = None    "
      ],
      "metadata": {
        "id": "dnB4wkA68eGE"
      },
      "execution_count": 20,
      "outputs": []
    },
    {
      "cell_type": "code",
      "source": [
        "t = HashTable()\n",
        "t.get_hash(\"march 6\")"
      ],
      "metadata": {
        "colab": {
          "base_uri": "https://localhost:8080/"
        },
        "id": "qw2ovrZT7BsD",
        "outputId": "11cda0d5-595e-4af1-b3d4-c839ebe8dcde"
      },
      "execution_count": 21,
      "outputs": [
        {
          "output_type": "execute_result",
          "data": {
            "text/plain": [
              "9"
            ]
          },
          "metadata": {},
          "execution_count": 21
        }
      ]
    },
    {
      "cell_type": "code",
      "source": [
        "t.get_hash(\"march 17\")"
      ],
      "metadata": {
        "colab": {
          "base_uri": "https://localhost:8080/"
        },
        "id": "iV3QIRb87Zzz",
        "outputId": "cedba39c-8b26-4233-90ff-351bc939e38b"
      },
      "execution_count": 22,
      "outputs": [
        {
          "output_type": "execute_result",
          "data": {
            "text/plain": [
              "9"
            ]
          },
          "metadata": {},
          "execution_count": 22
        }
      ]
    },
    {
      "cell_type": "markdown",
      "source": [
        "These two days are giving same hash(index) values. So if we try to insert these two days, the later insertion will override the previous insertion. "
      ],
      "metadata": {
        "id": "2C5DCB5q8mwC"
      }
    },
    {
      "cell_type": "code",
      "source": [
        "t[\"march 6\"] = 120   # same hash=9 \n",
        "t[\"march 8\"] = 67\n",
        "t[\"march 9\"] = 4\n",
        "t[\"march 17\"] = 459 # same hash=9 "
      ],
      "metadata": {
        "id": "JEJ-0Dca7faD"
      },
      "execution_count": 23,
      "outputs": []
    },
    {
      "cell_type": "markdown",
      "source": [
        "Now if we want to search for value at <b>\"march 6\"</b>, it won't be found out correctly as it was overriden with the later inserted value which has the same hash (key). "
      ],
      "metadata": {
        "id": "ihzuriuW877a"
      }
    },
    {
      "cell_type": "code",
      "source": [
        "t[\"march 6\"]"
      ],
      "metadata": {
        "colab": {
          "base_uri": "https://localhost:8080/"
        },
        "id": "_mKVGmOm835F",
        "outputId": "e2101c22-7034-4cef-fab2-d1865e9bbe38"
      },
      "execution_count": 24,
      "outputs": [
        {
          "output_type": "execute_result",
          "data": {
            "text/plain": [
              "459"
            ]
          },
          "metadata": {},
          "execution_count": 24
        }
      ]
    },
    {
      "cell_type": "markdown",
      "source": [
        "## **Hash Table Collision Handling Using Chaining**"
      ],
      "metadata": {
        "id": "c01ydF6iqYWd"
      }
    },
    {
      "cell_type": "code",
      "source": [
        "class HashTable:  \n",
        "    def __init__(self):\n",
        "        self.MAX = 10\n",
        "        self.arr = [[] for i in range(self.MAX)]\n",
        "        \n",
        "    def get_hash(self, key):\n",
        "        hash = 0\n",
        "        for char in key:\n",
        "            hash += ord(char)\n",
        "        return hash % self.MAX\n",
        "    \n",
        "    def __getitem__(self, key):\n",
        "        arr_index = self.get_hash(key)\n",
        "        for kv in self.arr[arr_index]:\n",
        "            if kv[0] == key:\n",
        "                return kv[1]\n",
        "            \n",
        "    def __setitem__(self, key, val):\n",
        "        h = self.get_hash(key)\n",
        "        found = False\n",
        "        for idx, element in enumerate(self.arr[h]):\n",
        "            if len(element)==2 and element[0] == key:\n",
        "                self.arr[h][idx] = (key,val)\n",
        "                found = True\n",
        "        if not found:\n",
        "            self.arr[h].append((key,val))\n",
        "        \n",
        "    def __delitem__(self, key):\n",
        "        arr_index = self.get_hash(key)\n",
        "        for index, kv in enumerate(self.arr[arr_index]):\n",
        "            if kv[0] == key:\n",
        "                print(\"del\",index)\n",
        "                del self.arr[arr_index][index]\n",
        "        "
      ],
      "metadata": {
        "id": "P6HUSqFX9JLG"
      },
      "execution_count": 25,
      "outputs": []
    },
    {
      "cell_type": "code",
      "source": [],
      "metadata": {
        "id": "81WSneJB0q1_"
      },
      "execution_count": null,
      "outputs": []
    }
  ]
}