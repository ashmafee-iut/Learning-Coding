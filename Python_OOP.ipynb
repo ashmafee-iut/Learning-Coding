{
  "cells": [
    {
      "cell_type": "markdown",
      "metadata": {
        "id": "view-in-github",
        "colab_type": "text"
      },
      "source": [
        "<a href=\"https://colab.research.google.com/github/ashmafee-iut/Learning-Coding/blob/main/Python_OOP.ipynb\" target=\"_parent\"><img src=\"https://colab.research.google.com/assets/colab-badge.svg\" alt=\"Open In Colab\"/></a>"
      ]
    },
    {
      "cell_type": "markdown",
      "metadata": {
        "id": "C7Ep2IZKEynb"
      },
      "source": [
        "[Playlist 1 (in youtube) ](https://www.youtube.com/watch?v=ZDa-Z5JzLYM&list=PL-osiE80TeTsqhIuOqKhwlXsIBIdSeYtc)\n",
        "\n",
        "\n"
      ]
    },
    {
      "cell_type": "markdown",
      "metadata": {
        "id": "SMTXyLEiKxQS"
      },
      "source": [
        "Last Moment: 1/3.08"
      ]
    },
    {
      "cell_type": "markdown",
      "metadata": {
        "id": "bWIjFpfoGNTB"
      },
      "source": [
        "<h1>Basic OOP Features</h1>\n",
        "Object-oriented programming (OOP) is a method of structuring a program by bundling related properties and behaviors into individual objects. <b>For instance</b>, an object could represent a <b>person</b> with <i>properties</i> like a name, age, and address and <i>behaviors</i> such as walking, talking, breathing, and running. \n",
        "<br>\n",
        "Another common programming paradigm is <b><u>procedural programming</u></b>, which structures a program like a recipe in that it provides a set of steps, in the form of functions and code blocks, that flow sequentially in order to complete a task.\n",
        "<br>\n",
        "So, object-oriented programming is an approach for modeling concrete, real-world things, like cars, as well as relations between things, like companies and employees, students and teachers, and so on. OOP models real-world entities as software objects that have some data associated with them and can perform certain functions.\n",
        "<br>\n",
        "<u>Abstraction, encapsulation, inheritance, and polymorphism are four of the main principles of object-oriented programming.</u>\n",
        "<ul>\n",
        "  <li> <b>Abstraction</b> lets us selectively focus on the high-level (surface) features and abstract way the low-level details. It hides low level details but keeps it simple to the user to use it. \n",
        "  <li> <b>Inheritance</b> is about code reuse, not hierarchies. Inheritance is a way of creating a new class for using details of an existing class without modifying it. The newly formed class is a derived class (or child class). Similarly, the existing class is a base class (or parent class).\n",
        "  <li><b>Encapsulation:</b> Using OOP in Python, we can restrict access to methods and variables fo r a particuler class and restrict access for others.\n",
        " <br> It prevents outer classes from accessing and changing attributes and methods of a class. Encapsulation refers to the bundling of attributes and methods inside a single class.\n",
        " <br> In Python, we denote private attributes using underscore as the prefix i.e single _ or double __.\n",
        "  <li><b>Polymorphism</b> is an ability (in OOP) to use a common interface for multiple forms (data types).\n",
        "</ul>\n",
        "\n"
      ]
    },
    {
      "cell_type": "markdown",
      "metadata": {
        "id": "OlZhOYps9Hva"
      },
      "source": [
        "\n",
        "<h1><b>Note:</b></h1>\n",
        "<h3><b>Class and Object:</b></h3> <br> \n",
        "A class is a blueprint or template to create an object. Therefore, an object is an instance (or a copy) of a class. A class doesn’t actually contain any data while an instance contains real data. <br>\n",
        "An <b>object</b> is <b>mutable</b> if it can be <b>altered dynamically</b>. For example, <b>lists and dictionaries</b> are <b>mutable</b>, but <b>strings</b> and <b>tuples</b> are <b>immutable</b>.\n",
        "<br>\n",
        "Object has certain <b>attributes</b> represented by variables and certain behaviours represented as <b>methods</b> or functions. \n",
        "\n",
        "<b>Variable:</b><br>\n",
        "A variable is a container of data. \n",
        "There are basically three types of variables in OOP:\n",
        "<ol>\n",
        "  <li>Local variable</li>\n",
        "  <li>Instance variable</li>\n",
        "  <li>Static or Class variable</li>\n",
        "</ol> \n",
        "\n",
        "\n",
        "\n",
        "\n",
        "<b>LOCAL/PRIVATE variable:</b><br>\n",
        "This is a variable that is declared inside the body of a method.\n",
        "\n",
        "\n",
        "<b>INSTANCE variable:</b><br>\n",
        "<u>Across different objects, these variables can have different values according to its own instance.</u> They are tied to a particular object instance of the class, therefore, the contents of an instance variable are totally independent of one object instance to others. You can access an object's instance variables from an object. In some language, instance varaibles can be declared without any keyword. In some others, this kind of variable is declared in static main main() or __init__() functions [+ with <b>self</b> keyword]. \n",
        "\n",
        "<b>CLASS variable:</b><br>\n",
        "<u>A CLASS varaible is defined within a class and it is <b>inherited or shared</b> at the same way by all the instances or objects of that class.</u><br>\n",
        "It is basically a static variable that can be declared anywhere at class level with static. Across different objects, these variables can have the same values. The runtime system allocates class variables once per class regardless of the number of instances created of that class. The system allocates memory for class variables the first time it encounters the class. All instances share the same copy of the class's class variables.\n"
      ]
    },
    {
      "cell_type": "markdown",
      "source": [
        "Creating a new object from a class is called **instantiating** an object. \n",
        "<br>\n",
        "You can instantiate a new object by typing the name of the class, followed by opening and closing parentheses. For example:\n",
        "\n",
        "> class dog: <br>\n",
        "      pass\n",
        "\n",
        "The **pass keyword**. pass is often used as a placeholder indicating where code will eventually go. It allows you to run this code without Python throwing an error.\n",
        "\n",
        "> dog()<br>\n",
        "<__main__.Dog object at 0x106702d30>\n",
        "\n",
        "You now have a new Dog object at 0x106702d30. A memory address indicates where the instantiated Dog object is stored in your computer’s memory. \n",
        "\n",
        "Python class names are written in CapitalizedWords notation by convention.\n",
        "      \n",
        "\n"
      ],
      "metadata": {
        "id": "u6Xw10Iuddmc"
      }
    },
    {
      "cell_type": "markdown",
      "metadata": {
        "id": "rCEvrp-03zTP"
      },
      "source": [
        "![create_and_access_class_variable.webp](data:image/webp;base64,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)\n",
        "\n",
        "<br>\n",
        "\n",
        "\n",
        "![a 61.PNG](data:image/png;base64,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)"
      ]
    },
    {
      "cell_type": "markdown",
      "metadata": {
        "id": "VZMyUlc56tmL"
      },
      "source": [
        "<h4><b>Example of creating the variables</b></h4>"
      ]
    },
    {
      "cell_type": "markdown",
      "metadata": {
        "id": "r5bS-Jib6EgM"
      },
      "source": [
        "![a 63.PNG](data:image/png;base64,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)\n",
        "\n",
        "\n",
        "<br>\n",
        "\n",
        "\n",
        "![a 64.PNG](data:image/png;base64,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)!"
      ]
    },
    {
      "cell_type": "markdown",
      "metadata": {
        "id": "9y9cSQB2oOfg"
      },
      "source": [
        "<h3><b>Method</b></h3>\n",
        "Similarly, METHOD can be divided into two types:\n",
        "<ol>\n",
        "    <li><b>CLASS Method:</b><br>\n",
        "    <u>Class methods are usually used to access class variables. You can call these methods directly using the class name instead of creating an object of that class.</u> \n",
        "    <br>\n",
        "    In order to define a class method, you have to specify that it is a class method with the help of the <b>@classmethod</b> decorator. Class methods also take one default parameter- <b>cls</b>, which points to the class. Again, this is not mandatory to name the default parameter “cls”. But it is always better to go with the conventions\n",
        "    <br>\n",
        "    <br>\n",
        "    <br>\n",
        "    <li><b> INSTANCE Method:</b><br>\n",
        "    <u>Unless otherwise specified, a method which is  declared within a class is an instance method.</u> The purpose of instance methods is to set or get details about instances (objects), and that is why they’re known as instance methods.The instance method acts on an object's attributes. It can modify the object state by changing the value of instance variables.<br>\n",
        "    They have one default parameter- <b>self</b>, which points to an instance of the class. In order to call an instance method, you’ve to create an <b>object/instance</b> of the class. With the help of this object, you can access any instance method of the class.\n",
        "    <br>\n",
        "    <br>  \n",
        "    <br>\n",
        "    <br>\n",
        "    <li><b>STATIC Method:</b><br>\n",
        "    <u>Static methods are usually used as a utility function or when we do not want an inherited class to modify a function definition. These methods do not have any relation to the class variables and instance variables; so, are not allowed to modify the class attributes inside a static method.</u>\n",
        "    In order to define a static method, we can use the @staticmethod decorator (in a similar way we used @classmethod decorator). Unlike instance methods and class methods, we do not need to pass any special or default parameters.\n",
        "</ol>\n",
        "\n",
        "\n",
        "also can be divided into these following types:\n",
        "<ol>\n",
        "    <li> INTERFACE Method:<br>\n",
        "    <li> CONSTRUCTOR Method<br>\n",
        "    <li> IMPLEMENTATION Method<br>\n",
        "</ol>"
      ]
    },
    {
      "cell_type": "markdown",
      "metadata": {
        "id": "jcXfHwvq9Ahq"
      },
      "source": [
        "**Instance Method** <br>\n",
        "![a 65.PNG](data:image/png;base64,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)\n",
        "<br>\n",
        "<br>\n",
        "To access an instance function\n",
        "<br>\n",
        "<br>\n",
        "![a 66.PNG](data:image/png;base64,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)"
      ]
    },
    {
      "cell_type": "markdown",
      "metadata": {
        "id": "FtWTIg90M0-2"
      },
      "source": [
        "<h3>Class Method</h3>\n",
        "\n",
        "![a 67.PNG](data:image/png;base64,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)\n",
        "\n",
        "Note that we have used <b>cls</b> to access the class variable. You can give any name for this parameter, but as per the convention, the name of this parameter should be <b>cls</b>. we call our class method by using the <b>class name</b> instead of creating an object/instance of the class.\n"
      ]
    },
    {
      "cell_type": "markdown",
      "metadata": {
        "id": "fmsRwlFs4iC9"
      },
      "source": [
        "<h3>Static Method</h3>\n",
        "\n",
        "![a 68.PNG](data:image/png;base64,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)\n",
        "\n",
        "Note that, we call our static method by using the class object and the class name shown in the figure above.\n",
        "\n",
        "\n"
      ]
    },
    {
      "cell_type": "code",
      "execution_count": null,
      "metadata": {
        "id": "2-7GC4WT8qi_"
      },
      "outputs": [],
      "source": [
        "class Employee:\n",
        "  pass "
      ]
    },
    {
      "cell_type": "code",
      "execution_count": null,
      "metadata": {
        "colab": {
          "base_uri": "https://localhost:8080/"
        },
        "id": "VLvb70jf80UJ",
        "outputId": "4e0b4ffc-f604-4755-d558-bd9a2bdcc795"
      },
      "outputs": [
        {
          "name": "stdout",
          "output_type": "stream",
          "text": [
            "<__main__.Employee object at 0x7f8a84b39310>\n",
            "<__main__.Employee object at 0x7f8a84b39450>\n"
          ]
        }
      ],
      "source": [
        "emp_1 = Employee()\n",
        "emp_2 = Employee()\n",
        "\n",
        "print(emp_1)\n",
        "print(emp_2)"
      ]
    },
    {
      "cell_type": "markdown",
      "metadata": {
        "id": "jZCBpYabfs6L"
      },
      "source": [
        "__init()__ acts as a constructor to initialize an instance. We will pass the argument \"self\" to call that instance. When a new class instance is created, the instance itself is automatically passed to the **self** parameter in .__init__() "
      ]
    },
    {
      "cell_type": "code",
      "execution_count": null,
      "metadata": {
        "id": "00XGaIUzfsH3"
      },
      "outputs": [],
      "source": [
        "class Employee:\n",
        "  def __init__(self, first, last, pay):\n",
        "    self.first = first\n",
        "    self.last = last      \n",
        "    self.pay = pay\n",
        "    self.email = first + '.' + last + '@company.com'\n",
        "  def fullName(self):\n",
        "    return '{} {}'.format(self.first, self.last)\n"
      ]
    },
    {
      "cell_type": "code",
      "execution_count": null,
      "metadata": {
        "id": "VsYylRBAhU1x"
      },
      "outputs": [],
      "source": [
        "emp_1 = Employee('Rahim', 'Ahmed', 50000)\n",
        "emp_2 = Employee('Karim', 'Miah', 60000)"
      ]
    },
    {
      "cell_type": "code",
      "execution_count": null,
      "metadata": {
        "colab": {
          "base_uri": "https://localhost:8080/"
        },
        "id": "oSnkpVMZhUxc",
        "outputId": "19120db7-6ad5-45c7-e48a-d3e7c6665c1a"
      },
      "outputs": [
        {
          "name": "stdout",
          "output_type": "stream",
          "text": [
            "<__main__.Employee object at 0x7f8a84b6ff10>\n",
            "<__main__.Employee object at 0x7f8a84b6f210>\n"
          ]
        }
      ],
      "source": [
        "print(emp_1)\n",
        "print(emp_2)"
      ]
    },
    {
      "cell_type": "code",
      "execution_count": null,
      "metadata": {
        "colab": {
          "base_uri": "https://localhost:8080/"
        },
        "id": "OTcv0wnihUsz",
        "outputId": "12a360e9-fed9-472e-c825-ac6781d043dc"
      },
      "outputs": [
        {
          "name": "stdout",
          "output_type": "stream",
          "text": [
            "Rahim.Ahmed@company.com\n",
            "Karim.Miah@company.com\n",
            "Karim Miah\n"
          ]
        }
      ],
      "source": [
        "print(emp_1.email)\n",
        "print(emp_2.email)\n",
        "print(emp_2.fullName())"
      ]
    },
    {
      "cell_type": "code",
      "execution_count": null,
      "metadata": {
        "colab": {
          "base_uri": "https://localhost:8080/"
        },
        "id": "yJDwf-35hUmQ",
        "outputId": "628b3971-d2b7-4547-ff7b-c7ad8c607245"
      },
      "outputs": [
        {
          "name": "stdout",
          "output_type": "stream",
          "text": [
            "Rahim Ahmed\n"
          ]
        }
      ],
      "source": [
        "# we also call a method by its class. But at that time we have to send the instance name as an argument\n",
        "print(Employee.fullName(emp_1))"
      ]
    },
    {
      "cell_type": "markdown",
      "metadata": {
        "id": "-1wF3kHEu4ay"
      },
      "source": [
        "<h3><b>Applying CLASS variable</b></h3>\n",
        "The class itself and all class instances will receive the same copy of this variable\n",
        "\n",
        "In the instance method, we can not use/call that class varaibles directly. Either we have to use Class name or the instance (i.e., self). But, there is a twist using between Class name and Object name (i.e., instnace/self). If we change the class variable by instance, only that specific instance will be affected and that could be accessed by <b>self</b> keyword. Otherwise, if we use <b>Class name</b> to access that class variable, then the universal value will be reflcted. "
      ]
    },
    {
      "cell_type": "code",
      "execution_count": null,
      "metadata": {
        "id": "r3zG0-K2hUg7"
      },
      "outputs": [],
      "source": [
        "class Employee:\n",
        "  raise_amount = 1.04\n",
        "  num_of_employee = 0\n",
        "  def __init__(self, first, last, pay):\n",
        "    self.first = first\n",
        "    self.last = last      \n",
        "    self.pay = pay\n",
        "    self.email = first + '.' + last + '@company.com'\n",
        "    Employee.num_of_employee += 1\n",
        "\n",
        "\n",
        "  def fullName(self):\n",
        "    return '{} {}'.format(self.first, self.last)\n",
        "\n",
        "\n",
        "  def apply_raise(self):\n",
        "    self.pay = int(self.pay * Employee.raise_amount)\n",
        "    #self.pay = int(self.pay * self.raise_amount) # also this class variable can be accessed by an instance   \n",
        "\n",
        "\n",
        "############ Creating class instances ####################\n",
        "\n",
        "emp_1 = Employee('Rahim', 'Ahmed', 50000)\n",
        "emp_2 = Employee('Karim', 'Miah', 60000)"
      ]
    },
    {
      "cell_type": "markdown",
      "metadata": {
        "id": "BFl2GfKLDqZs"
      },
      "source": [
        "<b>All instances and the class itself share the same value of the class variable. And what is very rediculus that to access the class variables we can use the instances as well. It means that it will check the instance attributes at first and verify if it is present or not. If not, then it will check the class attributes.</b>    \n"
      ]
    },
    {
      "cell_type": "code",
      "execution_count": null,
      "metadata": {
        "colab": {
          "base_uri": "https://localhost:8080/"
        },
        "id": "fpiec0Q4OsnS",
        "outputId": "9c682eb2-4644-4402-bc4f-57b349d2d93e"
      },
      "outputs": [
        {
          "name": "stdout",
          "output_type": "stream",
          "text": [
            "2\n",
            "2\n",
            "2\n"
          ]
        }
      ],
      "source": [
        "print(Employee.num_of_employee)\n",
        "print(emp_1.num_of_employee)\n",
        "print(emp_2.num_of_employee)"
      ]
    },
    {
      "cell_type": "code",
      "execution_count": null,
      "metadata": {
        "colab": {
          "base_uri": "https://localhost:8080/"
        },
        "id": "lVlxtbkwhUSf",
        "outputId": "0d1fe37a-a650-49af-fb79-17751aa80131"
      },
      "outputs": [
        {
          "name": "stdout",
          "output_type": "stream",
          "text": [
            "1.04\n",
            "1.04\n",
            "1.04\n"
          ]
        }
      ],
      "source": [
        "print(Employee.raise_amount)\n",
        "print(emp_1.raise_amount)\n",
        "print(emp_2.raise_amount)"
      ]
    },
    {
      "cell_type": "code",
      "execution_count": null,
      "metadata": {
        "colab": {
          "base_uri": "https://localhost:8080/"
        },
        "id": "hBm-zIIkhUbr",
        "outputId": "ef60233e-289b-4667-c1b7-ee1bd3293098"
      },
      "outputs": [
        {
          "name": "stdout",
          "output_type": "stream",
          "text": [
            "50000\n",
            "52000\n"
          ]
        }
      ],
      "source": [
        "print(emp_1.pay)\n",
        "emp_1.apply_raise()\n",
        "print(emp_1.pay)"
      ]
    },
    {
      "cell_type": "code",
      "execution_count": null,
      "metadata": {
        "colab": {
          "base_uri": "https://localhost:8080/"
        },
        "id": "4h1BJ3P7EzNs",
        "outputId": "6600de24-d14a-40fd-c50e-2273343499bb"
      },
      "outputs": [
        {
          "name": "stdout",
          "output_type": "stream",
          "text": [
            "{'first': 'Rahim', 'last': 'Ahmed', 'pay': 52000, 'email': 'Rahim.Ahmed@company.com'}\n"
          ]
        }
      ],
      "source": [
        "print(emp_1.__dict__)"
      ]
    },
    {
      "cell_type": "code",
      "execution_count": null,
      "metadata": {
        "colab": {
          "base_uri": "https://localhost:8080/"
        },
        "id": "dTBUwINyEzLB",
        "outputId": "eda2d1d6-3c31-4102-db4b-ff862515e1f1"
      },
      "outputs": [
        {
          "name": "stdout",
          "output_type": "stream",
          "text": [
            "{'__module__': '__main__', 'raise_amount': 1.04, 'num_of_employee': 2, '__init__': <function Employee.__init__ at 0x7f8a84b54cb0>, 'fullName': <function Employee.fullName at 0x7f8a84b54b00>, 'apply_raise': <function Employee.apply_raise at 0x7f8a84b54ef0>, '__dict__': <attribute '__dict__' of 'Employee' objects>, '__weakref__': <attribute '__weakref__' of 'Employee' objects>, '__doc__': None}\n"
          ]
        }
      ],
      "source": [
        "print(Employee.__dict__)"
      ]
    },
    {
      "cell_type": "markdown",
      "metadata": {
        "id": "F244yGXoFfAP"
      },
      "source": [
        "<b>If you change the class variable from the class, it will be reflected into all instances.</b>\n"
      ]
    },
    {
      "cell_type": "code",
      "execution_count": null,
      "metadata": {
        "colab": {
          "base_uri": "https://localhost:8080/"
        },
        "id": "yJzN-hOOEzIm",
        "outputId": "9c6e232a-695a-49ea-c1c8-0bdc1fbc6818"
      },
      "outputs": [
        {
          "name": "stdout",
          "output_type": "stream",
          "text": [
            "1.05\n",
            "1.05\n",
            "1.05\n"
          ]
        }
      ],
      "source": [
        "Employee.raise_amount = 1.05\n",
        "print(Employee.raise_amount)\n",
        "print(emp_1.raise_amount)\n",
        "print(emp_2.raise_amount)"
      ]
    },
    {
      "cell_type": "markdown",
      "metadata": {
        "id": "ZCOzEycYF2VQ"
      },
      "source": [
        "<b>But If you change the class variable from any instance, it will be reflected into that instance only without affecting others.</b> Also, in this case, the class varible turned into an instance variable for that particular instance. it is the concept of <b>OVERRIDING</b> to be specific for an instance. But, if we still want to use the static calss variable, we have to access it using the <b>Class name</b> instead of using the <b>instance name</b>.   "
      ]
    },
    {
      "cell_type": "code",
      "execution_count": null,
      "metadata": {
        "colab": {
          "base_uri": "https://localhost:8080/"
        },
        "id": "d8l0wi_UEzGJ",
        "outputId": "f36b86b2-b99c-4f99-e1e1-50ab2c93c92e"
      },
      "outputs": [
        {
          "name": "stdout",
          "output_type": "stream",
          "text": [
            "1.05\n",
            "1.06\n",
            "1.05\n"
          ]
        }
      ],
      "source": [
        "# changing in an instance only without affacting the class variable \n",
        "emp_1.raise_amount = 1.06\n",
        "\n",
        "\n",
        "print(Employee.raise_amount)\n",
        "print(emp_1.raise_amount)\n",
        "print(emp_2.raise_amount)"
      ]
    },
    {
      "cell_type": "code",
      "execution_count": null,
      "metadata": {
        "colab": {
          "base_uri": "https://localhost:8080/"
        },
        "id": "J7fcNV81EzDt",
        "outputId": "ebf630e2-e488-40e0-f8d7-47dbde5952b0"
      },
      "outputs": [
        {
          "name": "stdout",
          "output_type": "stream",
          "text": [
            "{'first': 'Rahim', 'last': 'Ahmed', 'pay': 52000, 'email': 'Rahim.Ahmed@company.com', 'raise_amount': 1.06}\n"
          ]
        }
      ],
      "source": [
        "print(emp_1.__dict__)"
      ]
    },
    {
      "cell_type": "markdown",
      "metadata": {
        "id": "cYqbQzkUQCh2"
      },
      "source": [
        "<h3><b>Applying Different Methods</b></h3>\n",
        "\n",
        "\n",
        "---\n",
        "\n",
        "Instance methods are regular methods in a class. It takes the \"self\" (instance) argument autometically.  \n",
        "\n",
        "---\n",
        "\n",
        "Class methods are tagged with the decorator @classmethod to access the class variables. Here, we work with the class instead of the instance. It takes the \"cls\" (class) argument autometically. \n",
        "\n",
        "---\n",
        "Static method doesn't pass any special argument rather works as a regular function. We will include them in a class because it has a little logical connection with the class.  \n",
        "\n",
        "\n",
        "\n",
        "\n",
        "\n",
        "\n",
        "\n"
      ]
    },
    {
      "cell_type": "code",
      "execution_count": null,
      "metadata": {
        "id": "GAh_bzFHEzAY"
      },
      "outputs": [],
      "source": [
        "class Employee:\n",
        "  raise_amount = 1.04\n",
        "  num_of_employee = 0\n",
        "  def __init__(self, first, last, pay):\n",
        "    self.first = first\n",
        "    self.last = last      \n",
        "    self.pay = pay\n",
        "    self.email = first + '.' + last + '@company.com'\n",
        "    Employee.num_of_employee += 1\n",
        "\n",
        "\n",
        "  def fullName(self):\n",
        "    return '{} {}'.format(self.first, self.last)\n",
        "\n",
        "\n",
        "  def apply_raise(self):\n",
        "    self.pay = int(self.pay * Employee.raise_amount)\n",
        "    #self.pay = int(self.pay * self.raise_amount) # also this class variable can be accessed by an instance  \n",
        "\n",
        "  @classmethod\n",
        "  def set_raise_amt(cls, amount):\n",
        "    cls.raise_amount = amount\n",
        "\n",
        "\n",
        "\n",
        "############ Creating class instances ####################\n",
        "\n",
        "emp_1 = Employee('Rahim', 'Ahmed', 50000)\n",
        "emp_2 = Employee('Karim', 'Miah', 60000)"
      ]
    },
    {
      "cell_type": "code",
      "execution_count": null,
      "metadata": {
        "colab": {
          "base_uri": "https://localhost:8080/"
        },
        "id": "Ky5XNEYxEy9Q",
        "outputId": "8d8d3ddc-c458-4e3b-8752-f6172dfd9d2b"
      },
      "outputs": [
        {
          "name": "stdout",
          "output_type": "stream",
          "text": [
            "1.04\n",
            "1.04\n",
            "1.04\n"
          ]
        }
      ],
      "source": [
        "print(Employee.raise_amount)\n",
        "print(emp_1.raise_amount)\n",
        "print(emp_2.raise_amount)"
      ]
    },
    {
      "cell_type": "markdown",
      "metadata": {
        "id": "qxaVIcdRRxuM"
      },
      "source": [
        "Now we will change the class variable with **class method**"
      ]
    },
    {
      "cell_type": "code",
      "execution_count": null,
      "metadata": {
        "colab": {
          "base_uri": "https://localhost:8080/"
        },
        "id": "Fyqgl2PmEy4W",
        "outputId": "526e9e9a-7a40-4dbb-c401-61ede7318d64"
      },
      "outputs": [
        {
          "name": "stdout",
          "output_type": "stream",
          "text": [
            "1.05\n",
            "1.05\n",
            "1.05\n"
          ]
        }
      ],
      "source": [
        "Employee.set_raise_amt(1.05)\n",
        "print(Employee.raise_amount)\n",
        "print(emp_1.raise_amount)\n",
        "print(emp_2.raise_amount)"
      ]
    },
    {
      "cell_type": "markdown",
      "metadata": {
        "id": "VfiK4EAbTlmt"
      },
      "source": [
        "We can also use a class method to create alternative constructor."
      ]
    },
    {
      "cell_type": "code",
      "execution_count": null,
      "metadata": {
        "id": "NU5AX-YGEy1V"
      },
      "outputs": [],
      "source": [
        "class Employee:\n",
        "  raise_amount = 1.04\n",
        "  num_of_employee = 0\n",
        "  def __init__(self, first, last, pay):\n",
        "    self.first = first\n",
        "    self.last = last      \n",
        "    self.pay = pay\n",
        "    self.email = first + '.' + last + '@company.com'\n",
        "    Employee.num_of_employee += 1\n",
        "\n",
        "\n",
        "  def fullName(self):\n",
        "    return '{} {}'.format(self.first, self.last)\n",
        "\n",
        "\n",
        "  def apply_raise(self):\n",
        "    self.pay = int(self.pay * Employee.raise_amount)\n",
        "    #self.pay = int(self.pay * self.raise_amount) # also this class variable can be accessed by an instance  \n",
        "\n",
        "  @classmethod\n",
        "  def set_raise_amt(cls, amount):\n",
        "    cls.raise_amount = amount\n",
        "\n",
        "  @classmethod\n",
        "  def string_to_obj(cls, string):\n",
        "    first, last, pay = string.split('-')\n",
        "    return cls(first, last, pay)\n",
        "\n",
        "\n",
        "\n",
        "############ Creating class instances ####################\n",
        "\n",
        "emp_1 = Employee('Rahim', 'Ahmed', 50000)\n",
        "emp_2 = Employee('Karim', 'Miah', 60000)"
      ]
    },
    {
      "cell_type": "code",
      "execution_count": null,
      "metadata": {
        "colab": {
          "base_uri": "https://localhost:8080/"
        },
        "id": "kOi9xP6eEyyQ",
        "outputId": "1adbe3e1-faac-4dfa-c636-6d0bda55fcb8"
      },
      "outputs": [
        {
          "name": "stdout",
          "output_type": "stream",
          "text": [
            "Jobbar Rashid\n"
          ]
        }
      ],
      "source": [
        "emp_str = 'Jobbar-Rashid-50000'\n",
        "emp_3 = Employee.string_to_obj(emp_str)\n",
        "print(emp_3.fullName())"
      ]
    },
    {
      "cell_type": "markdown",
      "metadata": {
        "id": "vcsrUEciVyxK"
      },
      "source": [
        "Now we try to implement some **static methods**\n",
        "\n",
        "---\n",
        "\n",
        "It doesn't pass anything **autometically** where we have seen already instance method pass **self** and class method pass **cls**. We will pass that argument which is required to process by the method.  "
      ]
    },
    {
      "cell_type": "code",
      "execution_count": null,
      "metadata": {
        "colab": {
          "base_uri": "https://localhost:8080/"
        },
        "id": "-Gqeg94dVW14",
        "outputId": "f3a5bd22-0a32-454d-d907-00e7ebb880ec"
      },
      "outputs": [
        {
          "name": "stdout",
          "output_type": "stream",
          "text": [
            "True\n",
            "True\n",
            "True\n"
          ]
        }
      ],
      "source": [
        "class Employee:\n",
        "  raise_amount = 1.04\n",
        "  num_of_employee = 0\n",
        "  def __init__(self, first, last, pay):\n",
        "    self.first = first\n",
        "    self.last = last      \n",
        "    self.pay = pay\n",
        "    self.email = first + '.' + last + '@company.com'\n",
        "    Employee.num_of_employee += 1\n",
        "\n",
        "\n",
        "  def fullName(self):\n",
        "    return '{} {}'.format(self.first, self.last)\n",
        "\n",
        "\n",
        "  def apply_raise(self):\n",
        "    self.pay = int(self.pay * Employee.raise_amount)\n",
        "    #self.pay = int(self.pay * self.raise_amount) # also this class variable can be accessed by an instance  \n",
        "\n",
        "  @classmethod\n",
        "  def set_raise_amt(cls, amount):\n",
        "    cls.raise_amount = amount\n",
        "\n",
        "  @classmethod\n",
        "  def string_to_obj(cls, string):\n",
        "    first, last, pay = string.split('-')\n",
        "    return cls(first, last, pay)\n",
        "\n",
        "  @staticmethod\n",
        "  def is_workday(day):\n",
        "    if day.weekday() == 5 or day.weekday() == 6:\n",
        "      return False\n",
        "    return True\n",
        "    \n",
        "############ Creating class instances ####################\n",
        "\n",
        "emp_1 = Employee('Rahim', 'Ahmed', 50000)\n",
        "emp_2 = Employee('Karim', 'Miah', 60000)\n",
        "\n",
        "import datetime\n",
        "my_date = datetime.date(1992, 3, 9)\n",
        "\n",
        "print(Employee.is_workday(my_date))\n",
        "print(emp_1.is_workday(my_date))\n",
        "print(emp_1.is_workday(my_date))"
      ]
    },
    {
      "cell_type": "code",
      "execution_count": null,
      "metadata": {
        "colab": {
          "base_uri": "https://localhost:8080/"
        },
        "id": "gFRjne9hprxj",
        "outputId": "6af36ed6-a247-40c7-f08e-f7e1dffbdbc5"
      },
      "outputs": [
        {
          "data": {
            "text/plain": [
              "0"
            ]
          },
          "execution_count": 177,
          "metadata": {},
          "output_type": "execute_result"
        }
      ],
      "source": [
        "my_date.weekday() # Mon=0 and Sun=6 "
      ]
    },
    {
      "cell_type": "markdown",
      "metadata": {
        "id": "YurEvuqHBhSv"
      },
      "source": [
        "<h1><b>Handling Error</b></h1>\n",
        "<h3><b>Try and Except block</b></h3>\n",
        "try:<br>\n",
        "  &emsp; some nested code<br>\n",
        "except:<br>\n",
        "  &emsp; if error given -> print this <br>\n",
        "\n"
      ]
    },
    {
      "cell_type": "code",
      "execution_count": null,
      "metadata": {
        "colab": {
          "base_uri": "https://localhost:8080/"
        },
        "id": "vHTQ1AIf8_7b",
        "outputId": "db17df52-7ac8-4cfa-b04c-52bebc735961"
      },
      "outputs": [
        {
          "name": "stdout",
          "output_type": "stream",
          "text": [
            "1\n",
            "1\n"
          ]
        }
      ],
      "source": [
        "# in the following code, if there is an error to insert the age (e.g., trying to insert a string instead), the following codes will be halted. \n",
        "#age = int (input(\"Enter your age: \"))\n",
        "print(age)\n",
        "print(1)"
      ]
    },
    {
      "cell_type": "code",
      "execution_count": null,
      "metadata": {
        "colab": {
          "base_uri": "https://localhost:8080/"
        },
        "id": "CcNe2RDXDt-q",
        "outputId": "f423e95e-b89e-48d5-88a1-18815c803013"
      },
      "outputs": [
        {
          "name": "stdout",
          "output_type": "stream",
          "text": [
            "1\n",
            "1\n"
          ]
        }
      ],
      "source": [
        "# now error will not halt the program \n",
        "#\n",
        "#Sometimes, this \"except\" block is required to anticipate porabable errors earlier and take necessary steps \n",
        "\n",
        "try:\n",
        "  #age = int (input(\"Enter your age: \"))\n",
        "  print(age)\n",
        "  print(1)\n",
        "except:\n",
        "  print(\"ERROR\")\n"
      ]
    },
    {
      "cell_type": "markdown",
      "metadata": {
        "id": "nzroT41VIKhd"
      },
      "source": [
        "<h3><b>Add an <i>errorName</i> in the except block</b></h3>"
      ]
    },
    {
      "cell_type": "code",
      "execution_count": null,
      "metadata": {
        "colab": {
          "base_uri": "https://localhost:8080/"
        },
        "id": "EFyLAsA4GCDr",
        "outputId": "7d9067f3-2d54-4752-b964-700d56c95dd8"
      },
      "outputs": [
        {
          "name": "stdout",
          "output_type": "stream",
          "text": [
            "NameError occured\n"
          ]
        }
      ],
      "source": [
        "# some errors have their own name which could be used to detect in \"except\" block. Then we can also add a generalized \"except\" block at the end to identify other types of error. \n",
        "\n",
        "try:\n",
        "  print(Your_name)\n",
        "except NameError:\n",
        "  print(\"NameError occured\")\n",
        "except:\n",
        "  print(\"ERROR\")"
      ]
    },
    {
      "cell_type": "markdown",
      "metadata": {
        "id": "24cbsjMyJDSV"
      },
      "source": [
        "<h3><b>Add an <i>else</i> block at the last, if \"try\" block goes fine</b></h3>"
      ]
    },
    {
      "cell_type": "code",
      "execution_count": null,
      "metadata": {
        "colab": {
          "base_uri": "https://localhost:8080/"
        },
        "id": "MbFCW-8yDi5t",
        "outputId": "b1be04c6-9ee1-44e9-b5ed-2b030d0b74b0"
      },
      "outputs": [
        {
          "name": "stdout",
          "output_type": "stream",
          "text": [
            "1\n",
            "1\n",
            "my age is 1\n"
          ]
        }
      ],
      "source": [
        "#sometimes we can use \"else\" block after try and except blocks\n",
        "#\n",
        "#this \"else\" block states that if there is no error, then go with \"else\" block  \n",
        "#\n",
        "\n",
        "try:\n",
        "  #age = int (input(\"Enter your age: \"))\n",
        "  print(age)\n",
        "  print(1)\n",
        "except:\n",
        "  print(\"ERROR\")\n",
        "else:\n",
        "  print(f'my age is {age}')"
      ]
    },
    {
      "cell_type": "markdown",
      "metadata": {
        "id": "d1_SGZGdJS9C"
      },
      "source": [
        "<h3><b>Add a <i>Finally</i> block at the last, if \"try\" block goes fine</b></h3>"
      ]
    },
    {
      "cell_type": "code",
      "execution_count": null,
      "metadata": {
        "colab": {
          "base_uri": "https://localhost:8080/"
        },
        "id": "UnL0KpbFJSgM",
        "outputId": "83aa62bb-e2f9-44a4-cb92-5a1bb76471c8"
      },
      "outputs": [
        {
          "name": "stdout",
          "output_type": "stream",
          "text": [
            "1\n",
            "1\n",
            "my age is 1\n",
            "Here we are\n"
          ]
        }
      ],
      "source": [
        "#sometimes we can use \"finally\" block at the end of try and except blocks \n",
        "#\n",
        "#this \"finally\" block states that always this block will be executed either there is an error or not. \n",
        "#\n",
        "try:\n",
        "  #age = int (input(\"Enter your age: \"))\n",
        "  print(age)\n",
        "  print(1)\n",
        "except:\n",
        "  print(\"ERROR\")\n",
        "else:\n",
        "  print(f'my age is {age}')\n",
        "finally:\n",
        "  print(\"Here we are\")"
      ]
    },
    {
      "cell_type": "markdown",
      "metadata": {
        "id": "vF2jsR4JqlbY"
      },
      "source": [
        "<h1><b>Inheritence</b></h1>\n",
        "\n",
        "Inheritance is the process by which one class takes on the attributes and methods of another. Newly formed classes are called **child classes**, and the classes that child classes are derived from are called **parent classes**.\n",
        "\n",
        "Child classes can **override or extend** the attributes and methods of parent classes. In other words, child classes inherit all of the parent’s attributes and methods but can also specify attributes and methods that are unique to themselves."
      ]
    },
    {
      "cell_type": "code",
      "execution_count": 1,
      "metadata": {
        "colab": {
          "base_uri": "https://localhost:8080/"
        },
        "id": "C49qCFFWqh8i",
        "outputId": "a42792a7-e939-4590-c9ff-bab1eb1de3c2"
      },
      "outputs": [
        {
          "output_type": "stream",
          "name": "stdout",
          "text": [
            "Shitab.Ahmed@company.com\n",
            "Kitab.Miah@company.com\n"
          ]
        }
      ],
      "source": [
        "class Employee:\n",
        "  raise_amount = 1.04\n",
        "  num_of_employee = 0\n",
        "  def __init__(self, first, last, pay):\n",
        "    self.first = first\n",
        "    self.last = last      \n",
        "    self.pay = pay\n",
        "    self.email = first + '.' + last + '@company.com'\n",
        "    Employee.num_of_employee += 1\n",
        "\n",
        "\n",
        "  def fullName(self):\n",
        "    return '{} {}'.format(self.first, self.last)\n",
        "\n",
        "\n",
        "  def apply_raise(self):\n",
        "    self.pay = int(self.pay * Employee.raise_amount)\n",
        "    #self.pay = int(self.pay * self.raise_amount) # also this class variable can be accessed by an instance  \n",
        "\n",
        "############ Class Inheritance       ##################\n",
        "\n",
        "# Developer class inherited all features from the parent class Employee \n",
        "\n",
        " \n",
        "class Developer (Employee):\n",
        "  pass\n",
        "\n",
        "\n",
        "\n",
        "\n",
        "############ Creating class instances ####################\n",
        "\n",
        "emp_1 = Employee('Rahim', 'Ahmed', 50000)\n",
        "emp_2 = Employee('Karim', 'Miah', 60000)\n",
        "\n",
        "dev_1 = Developer('Shitab', 'Ahmed', 50000)\n",
        "dev_2 = Developer('Kitab', 'Miah', 60000)\n",
        "\n",
        "\n",
        "print(dev_1.email)\n",
        "print(dev_2.email)\n"
      ]
    },
    {
      "cell_type": "markdown",
      "metadata": {
        "id": "hKzOYH7mKC7B"
      },
      "source": [
        "We can use python help() function to look at the method resolution order from the child class to parent class.  "
      ]
    },
    {
      "cell_type": "code",
      "execution_count": null,
      "metadata": {
        "colab": {
          "base_uri": "https://localhost:8080/"
        },
        "id": "tG28cHDFFxeR",
        "outputId": "aee63764-757d-4a62-994d-0848babf317b"
      },
      "outputs": [
        {
          "name": "stdout",
          "output_type": "stream",
          "text": [
            "Help on class Developer in module __main__:\n",
            "\n",
            "class Developer(Employee)\n",
            " |  Developer(first, last, pay)\n",
            " |  \n",
            " |  Method resolution order:\n",
            " |      Developer\n",
            " |      Employee\n",
            " |      builtins.object\n",
            " |  \n",
            " |  Methods inherited from Employee:\n",
            " |  \n",
            " |  __init__(self, first, last, pay)\n",
            " |      Initialize self.  See help(type(self)) for accurate signature.\n",
            " |  \n",
            " |  apply_raise(self)\n",
            " |  \n",
            " |  fullName(self)\n",
            " |  \n",
            " |  ----------------------------------------------------------------------\n",
            " |  Data descriptors inherited from Employee:\n",
            " |  \n",
            " |  __dict__\n",
            " |      dictionary for instance variables (if defined)\n",
            " |  \n",
            " |  __weakref__\n",
            " |      list of weak references to the object (if defined)\n",
            " |  \n",
            " |  ----------------------------------------------------------------------\n",
            " |  Data and other attributes inherited from Employee:\n",
            " |  \n",
            " |  num_of_employee = 4\n",
            " |  \n",
            " |  raise_amount = 1.04\n",
            "\n",
            "None\n"
          ]
        }
      ],
      "source": [
        "print(help(Developer))"
      ]
    },
    {
      "cell_type": "code",
      "execution_count": null,
      "metadata": {
        "colab": {
          "background_save": true,
          "base_uri": "https://localhost:8080/"
        },
        "id": "CLWNHN65Kdcb",
        "outputId": "5d391e40-6970-43a6-e5a6-01e5b1819e37"
      },
      "outputs": [
        {
          "name": "stdout",
          "output_type": "stream",
          "text": [
            "1.04\n",
            "1.1\n",
            "1.1\n",
            "1.04\n",
            "1.04\n",
            "payment is 50000\n",
            "payment is 52000\n"
          ]
        }
      ],
      "source": [
        "class Employee:\n",
        "  raise_amount = 1.04\n",
        "  num_of_employee = 0\n",
        "  def __init__(self, first, last, pay):\n",
        "    self.first = first\n",
        "    self.last = last      \n",
        "    self.pay = pay\n",
        "    self.email = first + '.' + last + '@company.com'\n",
        "    Employee.num_of_employee += 1\n",
        "\n",
        "\n",
        "  def fullName(self):\n",
        "    return '{} {}'.format(self.first, self.last)\n",
        "\n",
        "\n",
        "  def apply_raise(self):\n",
        "    self.pay = int(self.pay * Employee.raise_amount)\n",
        "    #self.pay = int(self.pay * self.raise_amount) # also this class variable can be accessed by an instance  \n",
        "\n",
        "############ Class Inheritance       ##################\n",
        "\n",
        "# Developer class inherited all features from the parent class Employee \n",
        "\n",
        " \n",
        "class Developer (Employee):\n",
        "  raise_amount = 1.10 # overriding the parent class varaible\n",
        "                      # initiating another class variable for child class\n",
        "\n",
        "\n",
        "\n",
        "\n",
        "############ Creating class instances ####################\n",
        "\n",
        "emp_1 = Employee('Rahim', 'Ahmed', 50000)\n",
        "emp_2 = Employee('Karim', 'Miah', 60000)\n",
        "\n",
        "dev_1 = Developer('Shitab', 'Ahmed', 50000)\n",
        "dev_2 = Developer('Kitab', 'Miah', 60000)\n",
        "\n",
        "\n",
        "print(Employee.raise_amount)\n",
        "print(dev_1.raise_amount)\n",
        "print(dev_2.raise_amount)\n",
        "print(emp_1.raise_amount)\n",
        "print(emp_2.raise_amount)\n",
        "\n",
        "\n",
        "print(f'pay{dev_1.pay}')\n",
        "dev_1.apply_raise()\n",
        "print(dev_1.raise_amount)\n"
      ]
    },
    {
      "cell_type": "code",
      "execution_count": null,
      "metadata": {
        "colab": {
          "base_uri": "https://localhost:8080/"
        },
        "id": "JE9eswjyLmNI",
        "outputId": "7bf030b3-c283-4979-9e23-e37ddcc7cbff"
      },
      "outputs": [
        {
          "name": "stdout",
          "output_type": "stream",
          "text": [
            "52000\n"
          ]
        }
      ],
      "source": [
        "print(dev_1.pay)"
      ]
    },
    {
      "cell_type": "markdown",
      "source": [
        "<h1><b>Magic Function or Dunder</b></h1>\n",
        "Dunder or magic methods in Python are the methods having two prefix and suffix underscores in the method name. Dunder here means “Double Under (Underscores)”. These are commonly used for operator overloading. Few examples for magic methods are: __init__, __add__, __len__, __repr__ etc.\n",
        "<br>\n",
        "<br>\n",
        "Python’s magic method <b>__setitem__(self, key, value)</b> implements the assignment operation to <b>self[key]</b>. So, if you call <b>self[key] = value</b>, Python will call <b>self.__setitem__(key, value)</b>.\n"
      ],
      "metadata": {
        "id": "D9a7GLNj2j9S"
      }
    },
    {
      "cell_type": "markdown",
      "source": [
        "# **Encapsulation**\n",
        "In Python, we denote private attributes using underscore as the prefix i.e single _ or double __\n",
        "\n",
        "Putting a double underscore (__) before a variable name makes it a **private variable**. If we try to modify the private variable outside of the class, this modification won't be possible. Rather, we have to use setter method (instance method) to update a private variable."
      ],
      "metadata": {
        "id": "2JQ00mIQ9JYP"
      }
    },
    {
      "cell_type": "code",
      "execution_count": 1,
      "metadata": {
        "id": "cGBtwqPmMjkU",
        "colab": {
          "base_uri": "https://localhost:8080/"
        },
        "outputId": "857d0a42-8534-45c8-d261-94d8e2808f1c"
      },
      "outputs": [
        {
          "output_type": "stream",
          "name": "stdout",
          "text": [
            "Selling Price: 900\n",
            "Selling Price: 900\n",
            "Selling Price: 1000\n"
          ]
        }
      ],
      "source": [
        "class Computer:\n",
        "\n",
        "    def __init__(self):\n",
        "        self.__maxprice = 900 # __maxprice is a private variable to Computer class \n",
        "\n",
        "    def sell(self):\n",
        "        print(\"Selling Price: {}\".format(self.__maxprice))\n",
        "\n",
        "    def setMaxPrice(self, price):\n",
        "        self.__maxprice = price\n",
        "\n",
        "c = Computer()\n",
        "c.sell()\n",
        "\n",
        "# change the price\n",
        "c.__maxprice = 1000 # as it is a private variable, it can't be updated here.\n",
        "c.sell()\n",
        "\n",
        "# using setter function\n",
        "c.setMaxPrice(1000) # rather, we have to use setter method (instance method) to update a private variable. \n",
        "c.sell()"
      ]
    },
    {
      "cell_type": "markdown",
      "source": [
        "# **Polymorphism** \n",
        "It simply means more than one form to use. That is, the same entity (method or operator or object) can perform different functions in different scenarios. sub-class's entity may work differently from the super-class's entity. Also, the working procedure for different sub-classes' same inherited entities must work differently. This is the polymorhic feature of objects.  \n",
        "\n"
      ],
      "metadata": {
        "id": "B4-oK30GA1q8"
      }
    },
    {
      "cell_type": "code",
      "source": [
        "class Polygon:\n",
        "    # method to render a shape\n",
        "    def render(self):\n",
        "        print(\"Rendering Polygon...\")\n",
        "    def area(self, edge):\n",
        "        return (edge ** 2)\n",
        "\n",
        "\n",
        "class Square(Polygon): # inheriting Polygon class\n",
        "    # renders Square\n",
        "    def render(self):\n",
        "        print(\"Rendering Square...\") # render method override the parent's render method\n",
        "    def area(self, edge):\n",
        "        print(\"area of Square: ...\", super().area(edge))\n",
        "\n",
        "class Circle(Polygon):\n",
        "    # renders circle\n",
        "    def render(self):\n",
        "        print(\"Rendering Circle...\")  # render method override the parent's render method\n",
        "    def area(self, radius):\n",
        "        print(\"area of Circle: ...\", super().area(radius)*3.1416)\n",
        "\n",
        "\n",
        "# create an object of Square\n",
        "s1 = Square()\n",
        "s1.render()\n",
        "\n",
        "# create an object of Circle\n",
        "c1 = Circle()\n",
        "c1.render()"
      ],
      "metadata": {
        "colab": {
          "base_uri": "https://localhost:8080/"
        },
        "id": "np4XRnys9IEY",
        "outputId": "9c6900f4-4430-421f-e1ab-52eedfc2a5ca"
      },
      "execution_count": 4,
      "outputs": [
        {
          "output_type": "stream",
          "name": "stdout",
          "text": [
            "Rendering Square...\n",
            "Rendering Circle...\n"
          ]
        }
      ]
    },
    {
      "cell_type": "code",
      "source": [
        "s1.area(5)\n",
        "c1.area(5)"
      ],
      "metadata": {
        "colab": {
          "base_uri": "https://localhost:8080/"
        },
        "id": "Y0T5RifgBrNQ",
        "outputId": "76cedb37-3f3d-4645-dd24-a5a5222440c7"
      },
      "execution_count": 5,
      "outputs": [
        {
          "output_type": "stream",
          "name": "stdout",
          "text": [
            "area of Square: ... 25\n",
            "area of Circle: ... 78.53999999999999\n"
          ]
        }
      ]
    },
    {
      "cell_type": "code",
      "source": [],
      "metadata": {
        "id": "hD3n41SJ4KHj"
      },
      "execution_count": null,
      "outputs": []
    }
  ],
  "metadata": {
    "colab": {
      "provenance": [],
      "authorship_tag": "ABX9TyO0BPDLkJkUO1LqGGPd3VB7",
      "include_colab_link": true
    },
    "kernelspec": {
      "display_name": "Python 3",
      "name": "python3"
    },
    "language_info": {
      "name": "python"
    }
  },
  "nbformat": 4,
  "nbformat_minor": 0
}