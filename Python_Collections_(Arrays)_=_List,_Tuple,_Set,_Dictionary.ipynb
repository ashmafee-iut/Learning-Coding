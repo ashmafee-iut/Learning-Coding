{
  "nbformat": 4,
  "nbformat_minor": 0,
  "metadata": {
    "colab": {
      "provenance": [],
      "authorship_tag": "ABX9TyMFg2orcsQF4x6R7k7026uz",
      "include_colab_link": true
    },
    "kernelspec": {
      "name": "python3",
      "display_name": "Python 3"
    },
    "language_info": {
      "name": "python"
    }
  },
  "cells": [
    {
      "cell_type": "markdown",
      "metadata": {
        "id": "view-in-github",
        "colab_type": "text"
      },
      "source": [
        "<a href=\"https://colab.research.google.com/github/ashmafee-iut/Learning-Coding/blob/main/Python_Collections_(Arrays)_%3D_List%2C_Tuple%2C_Set%2C_Dictionary.ipynb\" target=\"_parent\"><img src=\"https://colab.research.google.com/assets/colab-badge.svg\" alt=\"Open In Colab\"/></a>"
      ]
    },
    {
      "cell_type": "markdown",
      "source": [
        "# **Python Collections (Arrays) - List, Tuple, Set, Dictionary**"
      ],
      "metadata": {
        "id": "MaO32ncg3_87"
      }
    },
    {
      "cell_type": "markdown",
      "source": [
        "# **Tuple**\n",
        "<br>\n",
        "<b>mytuple</b>  = (\"apple\", \"banana\", \"cherry\") <br><br>\n",
        "<b>Tuples</b> are used to store multiple items in a single variable. <b>Tuple</b> is one of 4 built-in data types in Python used to store collections of data, the other 3 are <b>List</b>, <b>Set</b>, and <b>Dictionary</b>, all with different qualities and usage.\n",
        "<br>\n",
        "\n",
        "*   A tuple is a collection which is **ordered** and **unchangeable**.\n",
        "*   Tuples are written with round brackets - **tuple1** = (a,b,c).\n",
        "*   Since tuples are indexed, they can have items with the same value: **tuple1** = (a,a) \n",
        "*   To create a tuple with **only one item**, you have to add a **comma** after the item, otherwise Python will not recognize it as a tuple.: myList = [\"Bran\",11,3.14,33,\"Stark\",22,33,11] = (a,)\n",
        "*   A tuple can contain different data types: **tuple1** = (\"abc\", 34, True, 40, \"male\")\n",
        "\n",
        "\n",
        " - "
      ],
      "metadata": {
        "id": "ckMu9tUkzsFe"
      }
    },
    {
      "cell_type": "code",
      "source": [
        "tuple1 = (\"apple\", \"banana\", \"cherry\")\n",
        "tuple2 = (1, 5, 7, 9, 3)\n",
        "tuple3 = (True, False, False)"
      ],
      "metadata": {
        "id": "Df7laEjrzry_"
      },
      "execution_count": 1,
      "outputs": []
    },
    {
      "cell_type": "code",
      "execution_count": null,
      "metadata": {
        "id": "jTvoJrV6zohd"
      },
      "outputs": [],
      "source": []
    },
    {
      "cell_type": "markdown",
      "source": [
        "\n",
        "# **List**\n",
        "<br>\n",
        "\n",
        "**myList** = [\"Bran\",11,3.14,33,\"Stark\",22,33,11] <br><br>\n",
        "\n",
        "<b>Lists</b> are ordered sequences that can hold a variety of object types. In other words, a list is a collection of elements which is ordered and changeable. Python Lists are just like **dynamically sized** arrays\n",
        "<br>\n",
        "<br>\n",
        "We can compare lists in Python to arrays in other programming languages.   <b>But</b>, there’s one major difference Arrays contain elements of the same data types, whereas Python lists can contain items of different types like Integers, Strings, as well as Objects.\n",
        "<br>\n",
        "<br>\n",
        "A single list may contain data types like strings, integers, floating point numbers etc.\n",
        "<br>\n",
        "<br>\n",
        "\n",
        "*   A List is a collection which is **ordered** and **changeable**.\n",
        "*   All the elements in a list are enclosed within ‘**square brackets**’, and every element in it are separated by a ‘**comma**’.  **list1** = [\"Geeks\", \"for\", \"Geeks\"]\n",
        "*   Since Lists are indexed, they can have items with the same (**duplicate**) value: **list1** = [a,a]\n",
        "*   Lists are also **mutable**, which means, they can be altered after creation.\n",
        "*   Lists support **indexing** and **slicing**, just like strings. In Python it is possible to access a section of items from the list using the slicing operator **[start:end]**, not just a single item. \n",
        "*   In Python, **negative sequence indexes** represent positions from the end of the array. Instead of having to compute the offset as in **List[len(List)-3]**, it is enough to just write **List[-3]**. Negative indexing means beginning from the end, -1 refers to the last item, -2 refers to the second-last item, etc.\n",
        "\n",
        "\n",
        "<br>\n",
        "<br>\n",
        "\n"
      ],
      "metadata": {
        "id": "-ehncla53cT0"
      }
    },
    {
      "cell_type": "code",
      "source": [
        "myList = [\"Bran\",11,3.14,33,\"Stark\",22,33,11]\n",
        " \n",
        "print(myList)"
      ],
      "metadata": {
        "colab": {
          "base_uri": "https://localhost:8080/"
        },
        "id": "t8Ys8_R_Bgry",
        "outputId": "25945031-1fd6-429f-b3cb-851f27d3d198"
      },
      "execution_count": 2,
      "outputs": [
        {
          "output_type": "stream",
          "name": "stdout",
          "text": [
            "['Bran', 11, 3.14, 33, 'Stark', 22, 33, 11]\n"
          ]
        }
      ]
    },
    {
      "cell_type": "code",
      "source": [
        "# Creating a List\n",
        "List = []\n",
        "print(\"Blank List: \")\n",
        "print(List)\n",
        " \n",
        "# Creating a List of numbers\n",
        "List = [10, 20, 14]\n",
        "print(\"\\nList of numbers: \")\n",
        "print(List)\n",
        " \n",
        "# Creating a List of strings and accessing\n",
        "# using index\n",
        "List = [\"Geeks\", \"For\", \"Geeks\"]\n",
        "print(\"\\nList Items: \")\n",
        "print(List[0])\n",
        "print(List[2])"
      ],
      "metadata": {
        "colab": {
          "base_uri": "https://localhost:8080/"
        },
        "id": "ueMOKTyyFrsj",
        "outputId": "eb426107-2507-47a2-f21d-acfaa4f29caa"
      },
      "execution_count": 8,
      "outputs": [
        {
          "output_type": "stream",
          "name": "stdout",
          "text": [
            "Blank List: \n",
            "[]\n",
            "\n",
            "List of numbers: \n",
            "[10, 20, 14]\n",
            "\n",
            "List Items: \n",
            "Geeks\n",
            "Geeks\n"
          ]
        }
      ]
    },
    {
      "cell_type": "code",
      "source": [
        "\n",
        "# Creating a List with\n",
        "# the use of Numbers\n",
        "# (Having duplicate values)\n",
        "List = [1, 2, 4, 4, 3, 3, 3, 6, 5]\n",
        "print(\"\\nList with the use of Numbers: \")\n",
        "print(List)\n",
        " \n",
        "# Creating a List with\n",
        "# mixed type of values\n",
        "# (Having numbers and strings)\n",
        "List = [1, 2, 'Geeks', 4, 'For', 6, 'Geeks']\n",
        "print(\"\\nList with the use of Mixed Values: \")\n",
        "print(List)"
      ],
      "metadata": {
        "colab": {
          "base_uri": "https://localhost:8080/"
        },
        "id": "Rlq02-MSF4p2",
        "outputId": "fa8b1b34-6f3e-43ad-aaf9-82dd12418495"
      },
      "execution_count": 9,
      "outputs": [
        {
          "output_type": "stream",
          "name": "stdout",
          "text": [
            "\n",
            "List with the use of Numbers: \n",
            "[1, 2, 4, 4, 3, 3, 3, 6, 5]\n",
            "\n",
            "List with the use of Mixed Values: \n",
            "[1, 2, 'Geeks', 4, 'For', 6, 'Geeks']\n"
          ]
        }
      ]
    },
    {
      "cell_type": "code",
      "source": [
        "\n",
        "List = [1, 2, 'Geeks', 4, 'For', 6, 'Geeks']\n",
        " \n",
        "# accessing an element using\n",
        "# negative indexing\n",
        "print(\"Accessing element using negative indexing\")\n",
        " \n",
        "# print the last element of list\n",
        "print(List[-1])\n",
        " \n",
        "# print the third last element of list\n",
        "print(List[-3])"
      ],
      "metadata": {
        "id": "IX5aEoa-GAoi"
      },
      "execution_count": null,
      "outputs": []
    },
    {
      "cell_type": "markdown",
      "source": [
        "**Add Elements into a List:**\n",
        "There are three ways in which you can Remove elements from List:\n",
        "\n",
        " - Using the **append()** method\n",
        " - Using the list object’s **extend()** method\n",
        " - Using the **insert()** method"
      ],
      "metadata": {
        "id": "HROuq_oFHSi-"
      }
    },
    {
      "cell_type": "markdown",
      "source": [
        "**append()**\n",
        "\n",
        " - The append() method adds an item at the **end** of the list. "
      ],
      "metadata": {
        "id": "LbPtXCslHdND"
      }
    },
    {
      "cell_type": "code",
      "source": [
        "numbers = [21, 34, 54, 12]\n",
        "\n",
        "print(\"Before Append:\", numbers)\n",
        "\n",
        "# using append method\n",
        "numbers.append(32)\n",
        "\n",
        "print(\"After Append:\", numbers)"
      ],
      "metadata": {
        "colab": {
          "base_uri": "https://localhost:8080/"
        },
        "id": "vaNs-LiVHnLH",
        "outputId": "f86d411d-7eb3-4bfb-a2f9-7463d99bb0a0"
      },
      "execution_count": 10,
      "outputs": [
        {
          "output_type": "stream",
          "name": "stdout",
          "text": [
            "Before Append: [21, 34, 54, 12]\n",
            "After Append: [21, 34, 54, 12, 32]\n"
          ]
        }
      ]
    },
    {
      "cell_type": "markdown",
      "source": [
        "**extend()**\n",
        "\n",
        " - We use the extend() method to add all items of one list to another. "
      ],
      "metadata": {
        "id": "aYZh8wWFHyQH"
      }
    },
    {
      "cell_type": "code",
      "source": [
        "prime_numbers = [2, 3, 5]\n",
        "print(\"List1:\", prime_numbers)\n",
        "\n",
        "even_numbers = [4, 6, 8]\n",
        "print(\"List2:\", even_numbers)\n",
        "\n",
        "# join two lists\n",
        "prime_numbers.extend(even_numbers)\n",
        "\n",
        "print(\"List after append:\", prime_numbers) "
      ],
      "metadata": {
        "colab": {
          "base_uri": "https://localhost:8080/"
        },
        "id": "CJ_55-M1H8Sz",
        "outputId": "b3862101-ab19-4ee1-fe8c-00b9222f0958"
      },
      "execution_count": 11,
      "outputs": [
        {
          "output_type": "stream",
          "name": "stdout",
          "text": [
            "List1: [2, 3, 5]\n",
            "List2: [4, 6, 8]\n",
            "List after append: [2, 3, 5, 4, 6, 8]\n"
          ]
        }
      ]
    },
    {
      "cell_type": "markdown",
      "source": [
        "**insert()**\n",
        " - Unlike append() which takes only one argument, the **insert()** method requires **two arguments(position, value)**."
      ],
      "metadata": {
        "id": "g-SEufXLLrDZ"
      }
    },
    {
      "cell_type": "code",
      "source": [
        "# Python program to demonstrate\n",
        "# Addition of elements in a List\n",
        "  \n",
        "# Creating a List\n",
        "List = [1,2,3,4]\n",
        "print(\"Initial List: \")\n",
        "print(List)\n",
        " \n",
        "# Addition of Element at\n",
        "# specific Position\n",
        "# (using Insert Method)\n",
        "List.insert(3, 12)\n",
        "List.insert(0, 'Geeks')\n",
        "print(\"\\nList after performing Insert Operation: \")\n",
        "print(List)"
      ],
      "metadata": {
        "colab": {
          "base_uri": "https://localhost:8080/"
        },
        "id": "vV_JxUG7L2PS",
        "outputId": "fbea121c-ded8-4062-d8e9-ddfcfa430959"
      },
      "execution_count": 17,
      "outputs": [
        {
          "output_type": "stream",
          "name": "stdout",
          "text": [
            "Initial List: \n",
            "[1, 2, 3, 4]\n",
            "\n",
            "List after performing Insert Operation: \n",
            "['Geeks', 1, 2, 3, 12, 4]\n"
          ]
        }
      ]
    },
    {
      "cell_type": "markdown",
      "source": [
        "**Remove Elements from a List:**\n",
        "There are three ways in which you can Remove elements from List:\n",
        "\n",
        " - Using the **remove()** method\n",
        " - Using the list object’s **pop()** method\n",
        " - Using the **del** operator"
      ],
      "metadata": {
        "id": "7o5tDfX9BmBt"
      }
    },
    {
      "cell_type": "markdown",
      "source": [
        "**remove()** \n",
        " - When you use this method, you will need to specify the particular item that is to be removed. Note that, if there are multiple occurrences of the item specified, then its first occurrence will be removed from the list.  We can consider this method as “**removal by item’s value**”. If the particular item to be removed is not found, then a **ValueError** is raised."
      ],
      "metadata": {
        "id": "bbcmq_MuCD5s"
      }
    },
    {
      "cell_type": "code",
      "source": [
        "myList = [\"Bran\",11,22,33,\"Stark\",22,33,11]\n",
        " \n",
        "myList.remove(22)\n",
        " \n",
        "myList"
      ],
      "metadata": {
        "colab": {
          "base_uri": "https://localhost:8080/"
        },
        "id": "bYLwyJrnBhIg",
        "outputId": "688f51da-21dc-42ea-a023-79a25547d3bb"
      },
      "execution_count": 3,
      "outputs": [
        {
          "output_type": "execute_result",
          "data": {
            "text/plain": [
              "['Bran', 11, 33, 'Stark', 22, 33, 11]"
            ]
          },
          "metadata": {},
          "execution_count": 3
        }
      ]
    },
    {
      "cell_type": "markdown",
      "source": [
        "**pop()** \n",
        " - This method removes an item or an element from the list, and returns it. The **difference** between this method and the remove() method is that, <u>we should specify the item to be removed in the remove() method</u>. But, <u>when using the pop(), we specify the **index** of the item as the argument.</u>. So, it pops out the item to be returned at the specified index. If the particular item to be removed is not found, then an **IndexError** is raised. "
      ],
      "metadata": {
        "id": "Ct6CGzDvCdYJ"
      }
    },
    {
      "cell_type": "code",
      "source": [
        "myList = [\"Bran\",11,22,33,\"Stark\",22,33,11]\n",
        " \n",
        "myList.pop(1)"
      ],
      "metadata": {
        "colab": {
          "base_uri": "https://localhost:8080/"
        },
        "id": "mEtmllVkBhGF",
        "outputId": "c9cfcf51-3503-4a39-f8aa-6348f16ba415"
      },
      "execution_count": 4,
      "outputs": [
        {
          "output_type": "execute_result",
          "data": {
            "text/plain": [
              "11"
            ]
          },
          "metadata": {},
          "execution_count": 4
        }
      ]
    },
    {
      "cell_type": "code",
      "source": [
        "myList.pop(1)"
      ],
      "metadata": {
        "colab": {
          "base_uri": "https://localhost:8080/"
        },
        "id": "yKcRqhARBhCt",
        "outputId": "038fe536-0709-4657-f451-7fed9bc484b6"
      },
      "execution_count": 5,
      "outputs": [
        {
          "output_type": "execute_result",
          "data": {
            "text/plain": [
              "22"
            ]
          },
          "metadata": {},
          "execution_count": 5
        }
      ]
    },
    {
      "cell_type": "markdown",
      "source": [
        "**del operator** \n",
        " -  This operator is similar to the List object’s **pop()** method with one important difference. The del operator removes the item or an element at the **specified index location** from the list, but the removed item is **not returned**, as it is with the pop() method.\n",
        " - The operator also supports removing **a range of items** in the list.\n",
        " - This operator, just like the pop() method, raises an **IndexError**, when the index or the indices specified are out of range."
      ],
      "metadata": {
        "id": "H1dj-ntkDc6E"
      }
    },
    {
      "cell_type": "code",
      "source": [
        "myList = [\"Bran\",11,22,33,\"Stark\",22,33,11]\n",
        " \n",
        "del myList[2]\n",
        " \n",
        "myList"
      ],
      "metadata": {
        "colab": {
          "base_uri": "https://localhost:8080/"
        },
        "id": "MNzZ7SMeBg-z",
        "outputId": "90e545fe-693a-4cd3-940d-5d80c71cc4b3"
      },
      "execution_count": 6,
      "outputs": [
        {
          "output_type": "execute_result",
          "data": {
            "text/plain": [
              "['Bran', 11, 33, 'Stark', 22, 33, 11]"
            ]
          },
          "metadata": {},
          "execution_count": 6
        }
      ]
    },
    {
      "cell_type": "code",
      "source": [
        "del myList[2:4]\n",
        " \n",
        "myList"
      ],
      "metadata": {
        "colab": {
          "base_uri": "https://localhost:8080/"
        },
        "id": "HaTFSiMVBg4y",
        "outputId": "c30c8577-70ee-4009-8842-79d502fb214c"
      },
      "execution_count": 7,
      "outputs": [
        {
          "output_type": "execute_result",
          "data": {
            "text/plain": [
              "['Bran', 11, 22, 33, 11]"
            ]
          },
          "metadata": {},
          "execution_count": 7
        }
      ]
    },
    {
      "cell_type": "markdown",
      "source": [
        "**Iterating through a List**\n",
        " - We can use the **for loop** to iterate over the elements of a list. "
      ],
      "metadata": {
        "id": "zOkMVKf0IlWx"
      }
    },
    {
      "cell_type": "code",
      "source": [
        "languages = ['Python', 'Swift', 'C++']\n",
        "\n",
        "# iterating through the list\n",
        "for language in languages:\n",
        "    print(language)"
      ],
      "metadata": {
        "colab": {
          "base_uri": "https://localhost:8080/"
        },
        "id": "55dkT1OnEG6Q",
        "outputId": "28c4d635-ed16-4ae8-9d77-71897ea295c7"
      },
      "execution_count": 12,
      "outputs": [
        {
          "output_type": "stream",
          "name": "stdout",
          "text": [
            "Python\n",
            "Swift\n",
            "C++\n"
          ]
        }
      ]
    },
    {
      "cell_type": "markdown",
      "source": [
        "**Check if an Item Exists in the Python List**\n",
        " - We use the **in** keyword to check if an item exists in the list or not. "
      ],
      "metadata": {
        "id": "JTvLti3pIyTz"
      }
    },
    {
      "cell_type": "code",
      "source": [
        "languages = ['Python', 'Swift', 'C++']\n",
        "\n",
        "print('C' in languages)    # False\n",
        "print('Python' in languages)    # True"
      ],
      "metadata": {
        "colab": {
          "base_uri": "https://localhost:8080/"
        },
        "id": "3qc-UPNzInOW",
        "outputId": "2db7d9a2-ce2e-4779-bec2-2e8d4662f8c8"
      },
      "execution_count": 13,
      "outputs": [
        {
          "output_type": "stream",
          "name": "stdout",
          "text": [
            "False\n",
            "True\n"
          ]
        }
      ]
    },
    {
      "cell_type": "markdown",
      "source": [
        "**Python List Length**\n",
        " - In Python, we use the **len()** method to find the number of elements present in a list. "
      ],
      "metadata": {
        "id": "fAXF2WCRI87l"
      }
    },
    {
      "cell_type": "code",
      "source": [
        "languages = ['Python', 'Swift', 'C++']\n",
        "\n",
        "print(\"List: \", languages)\n",
        "\n",
        "print(\"Total Elements: \", len(languages))    # 3"
      ],
      "metadata": {
        "colab": {
          "base_uri": "https://localhost:8080/"
        },
        "id": "0vzOoEn4InLO",
        "outputId": "f5f5eca9-9cb6-4127-e6c1-2ed0d682a05c"
      },
      "execution_count": 14,
      "outputs": [
        {
          "output_type": "stream",
          "name": "stdout",
          "text": [
            "List:  ['Python', 'Swift', 'C++']\n",
            "Total Elements:  3\n"
          ]
        }
      ]
    },
    {
      "cell_type": "markdown",
      "source": [
        "**Python List Comprehension**\n",
        " - List comprehension is a **concise** and elegant way to create lists.\n",
        " - A list comprehension consists of an expression followed by the **for statement** <u>inside square brackets</u>.\n",
        " - newList = [ **expression**(element) **for** element **in** oldList **if condition** ]"
      ],
      "metadata": {
        "id": "fHPj4MhrJUA7"
      }
    },
    {
      "cell_type": "code",
      "source": [
        "numbers = [number*number for number in range(1, 6)]\n",
        "\n",
        "print(numbers)    \n",
        "\n",
        "# Output: [1, 4, 9, 16, 25]"
      ],
      "metadata": {
        "colab": {
          "base_uri": "https://localhost:8080/"
        },
        "id": "faHeWZ0PInIc",
        "outputId": "dfa2fe7f-000b-44ef-ede3-0158377a4abd"
      },
      "execution_count": 15,
      "outputs": [
        {
          "output_type": "stream",
          "name": "stdout",
          "text": [
            "[1, 4, 9, 16, 25]\n"
          ]
        }
      ]
    },
    {
      "cell_type": "markdown",
      "source": [
        "**Taking Input of a Python List**\n",
        " - We can take the input of a list of elements as string, integer, float, etc. **But the default one is a string**."
      ],
      "metadata": {
        "id": "TdAecqSaKwpE"
      }
    },
    {
      "cell_type": "code",
      "source": [
        "# Python program to take space\n",
        "# separated input as a string\n",
        "# split and store it to a list\n",
        "# and print the string list\n",
        " \n",
        "# input the list as string\n",
        "string = input(\"Enter elements (Space-Separated): \")\n",
        " \n",
        "# split the strings and store it to a list\n",
        "lst = string.split() \n",
        "print('The list is:', lst)   # printing the list"
      ],
      "metadata": {
        "colab": {
          "base_uri": "https://localhost:8080/"
        },
        "id": "aRxDASO9ImmU",
        "outputId": "3ab58f3b-246d-4d86-fde4-2cdd6a89b407"
      },
      "execution_count": 16,
      "outputs": [
        {
          "output_type": "stream",
          "name": "stdout",
          "text": [
            "Enter elements (Space-Separated): a b c d e f\n",
            "The list is: ['a', 'b', 'c', 'd', 'e', 'f']\n"
          ]
        }
      ]
    },
    {
      "cell_type": "code",
      "source": [],
      "metadata": {
        "id": "shZDwt2PLAiE"
      },
      "execution_count": null,
      "outputs": []
    },
    {
      "cell_type": "code",
      "source": [],
      "metadata": {
        "id": "mKwWLBzcLAfL"
      },
      "execution_count": null,
      "outputs": []
    },
    {
      "cell_type": "code",
      "source": [],
      "metadata": {
        "id": "RZ2vTA2KLAbe"
      },
      "execution_count": null,
      "outputs": []
    },
    {
      "cell_type": "code",
      "source": [],
      "metadata": {
        "id": "c6V7N97yLAWH"
      },
      "execution_count": null,
      "outputs": []
    },
    {
      "cell_type": "code",
      "source": [],
      "metadata": {
        "id": "ss-M0qp5LARq"
      },
      "execution_count": null,
      "outputs": []
    },
    {
      "cell_type": "code",
      "source": [],
      "metadata": {
        "id": "ScmA6CWCLAO4"
      },
      "execution_count": null,
      "outputs": []
    },
    {
      "cell_type": "code",
      "source": [],
      "metadata": {
        "id": "st4WEm6nLAMA"
      },
      "execution_count": null,
      "outputs": []
    },
    {
      "cell_type": "code",
      "source": [],
      "metadata": {
        "id": "gDmTRMTuLAJI"
      },
      "execution_count": null,
      "outputs": []
    },
    {
      "cell_type": "code",
      "source": [],
      "metadata": {
        "id": "VzaNexw-LAFp"
      },
      "execution_count": null,
      "outputs": []
    },
    {
      "cell_type": "code",
      "source": [],
      "metadata": {
        "id": "5B0CCm4eLACI"
      },
      "execution_count": null,
      "outputs": []
    },
    {
      "cell_type": "code",
      "source": [],
      "metadata": {
        "id": "iDRJuDpvK7jo"
      },
      "execution_count": null,
      "outputs": []
    }
  ]
}