{
  "nbformat": 4,
  "nbformat_minor": 0,
  "metadata": {
    "colab": {
      "provenance": [],
      "authorship_tag": "ABX9TyPtfJqt0X3UrTxha5C7iuaN",
      "include_colab_link": true
    },
    "kernelspec": {
      "name": "python3",
      "display_name": "Python 3"
    },
    "language_info": {
      "name": "python"
    }
  },
  "cells": [
    {
      "cell_type": "markdown",
      "metadata": {
        "id": "view-in-github",
        "colab_type": "text"
      },
      "source": [
        "<a href=\"https://colab.research.google.com/github/ashmafee-iut/Learning-Coding/blob/main/Yield_Keyword.ipynb\" target=\"_parent\"><img src=\"https://colab.research.google.com/assets/colab-badge.svg\" alt=\"Open In Colab\"/></a>"
      ]
    },
    {
      "cell_type": "markdown",
      "source": [
        "**yield** keyword is a utility in Python, which can be used to replace return statements that you use in normal functions in Python. It is generally used in generator functions. The **yield** statement returns **a generator object** to the one who calls the function which contains yield, instead of simply returning a value. \n",
        "<br>\n",
        "<br>\n",
        "When you call a function that has a yield statement, as soon as a yield is encountered, the execution of the function halts and returns a generator iterator object instead of simply returning a value.\n",
        "<br>\n",
        "<br>\n",
        "If you want to get the values stored inside the generator object, you need to iterate over it. You can iterate over it using for loops or special functions like next()."
      ],
      "metadata": {
        "id": "20zUTahjHib5"
      }
    },
    {
      "cell_type": "code",
      "execution_count": null,
      "metadata": {
        "id": "w4RuGYmeGXF9"
      },
      "outputs": [],
      "source": [
        "def gen_func(x):\n",
        "  for i in range(x):\n",
        "    yield i"
      ]
    },
    {
      "cell_type": "code",
      "source": [
        "gen_func(5)"
      ],
      "metadata": {
        "colab": {
          "base_uri": "https://localhost:8080/"
        },
        "id": "oXBoWOjpHHAa",
        "outputId": "55188607-62db-4524-849e-8b3ae7c11db5"
      },
      "execution_count": null,
      "outputs": [
        {
          "output_type": "execute_result",
          "data": {
            "text/plain": [
              "<generator object gen_func at 0x7fcacb865510>"
            ]
          },
          "metadata": {},
          "execution_count": 2
        }
      ]
    },
    {
      "cell_type": "code",
      "source": [
        "def fun_generator():\n",
        "    yield \"Hello world!!\"\n",
        "    yield \"Geeksforgeeks\"\n",
        " \n",
        " \n",
        "obj = fun_generator()\n",
        " \n",
        "print(type(obj))\n",
        " \n",
        "print(next(obj))\n",
        "print(next(obj))"
      ],
      "metadata": {
        "colab": {
          "base_uri": "https://localhost:8080/"
        },
        "id": "I2_5SWBlOEHG",
        "outputId": "8408cf3d-8b92-4f18-e68f-b8cb2fed5d08"
      },
      "execution_count": null,
      "outputs": [
        {
          "output_type": "stream",
          "name": "stdout",
          "text": [
            "<class 'generator'>\n",
            "Hello world!!\n",
            "Geeksforgeeks\n"
          ]
        }
      ]
    },
    {
      "cell_type": "markdown",
      "source": [
        "The main difference between them is, the return statement terminates the execution of the function. Whereas, the yield statement only pauses the execution of the function. \n",
        "<br>\n",
        "Another difference is return statements are never executed. whereas, yield statements are executed when the function resumes its execution.\n",
        "\n",
        "**Advantages of yield:**\n",
        "\n",
        " - Using yield keyword is highly memory efficient, since the execution happens only when the caller iterates over the object.\n",
        " - As the variables states are saved, we can pause and resume from the same point, thus saving time.\n",
        "\n",
        "**Disadvantages of yield:**\n",
        "\n",
        " - Sometimes it becomes hard to understand the flow of code due to multiple times of value return from the function generator.\n",
        " - Calling of generator functions must be handled properly, else might cause errors in program."
      ],
      "metadata": {
        "id": "fsrn1_nbNdtQ"
      }
    },
    {
      "cell_type": "markdown",
      "source": [
        "# **Difference between return and yield**"
      ],
      "metadata": {
        "id": "DmXtm5cdJHTz"
      }
    },
    {
      "cell_type": "code",
      "source": [
        "def plain_old_func():\n",
        "     my_list = [1, 2, 3]\n",
        "     for i in my_list:\n",
        "            return i * 2\n",
        "\n"
      ],
      "metadata": {
        "id": "so3tsr4SHMGG"
      },
      "execution_count": null,
      "outputs": []
    },
    {
      "cell_type": "code",
      "source": [
        "plain_old_func()"
      ],
      "metadata": {
        "colab": {
          "base_uri": "https://localhost:8080/"
        },
        "id": "osw5-gqyJZH6",
        "outputId": "8178b6be-b20b-41ae-c3f4-e594985e0db1"
      },
      "execution_count": null,
      "outputs": [
        {
          "output_type": "execute_result",
          "data": {
            "text/plain": [
              "2"
            ]
          },
          "metadata": {},
          "execution_count": 4
        }
      ]
    },
    {
      "cell_type": "markdown",
      "source": [
        "Notice the function execution stopped at the first return from the for loop.\n",
        "<br>\n",
        "<br>\n",
        "<br>\n",
        "But if we use yield, it will halt and can iterated repeatedly. Because it is not terminating the execution rather retyrning an iterable object "
      ],
      "metadata": {
        "id": "le-AbjnSJcX8"
      }
    },
    {
      "cell_type": "code",
      "source": [
        "def fancy_generator():\n",
        "     my_list = [1, 2, 3]\n",
        "     for i in my_list:\n",
        "             yield i * 2"
      ],
      "metadata": {
        "id": "3JUhtLNxJZq7"
      },
      "execution_count": null,
      "outputs": []
    },
    {
      "cell_type": "code",
      "source": [
        "mygen = fancy_generator()"
      ],
      "metadata": {
        "id": "8Av3aj_AKGfp"
      },
      "execution_count": null,
      "outputs": []
    },
    {
      "cell_type": "markdown",
      "source": [
        "## **you can use the generator objects only once**\n",
        "[READ MORE](https://www.simplilearn.com/tutorials/python-tutorial/yield-in-python)"
      ],
      "metadata": {
        "id": "6z5T9RxzLzus"
      }
    },
    {
      "cell_type": "code",
      "source": [
        "#you can use the generator objects only once\n",
        "print(list(mygen))"
      ],
      "metadata": {
        "colab": {
          "base_uri": "https://localhost:8080/"
        },
        "id": "fN7e10NbKKz4",
        "outputId": "884d95e3-cff5-4cd1-c970-be3154e2c331"
      },
      "execution_count": null,
      "outputs": [
        {
          "output_type": "stream",
          "name": "stdout",
          "text": [
            "[2, 4, 6]\n"
          ]
        }
      ]
    },
    {
      "cell_type": "code",
      "source": [
        "#you can use the generator objects only once\n",
        "for i in mygen:\n",
        "  print(i, end = \" \")"
      ],
      "metadata": {
        "colab": {
          "base_uri": "https://localhost:8080/"
        },
        "id": "0w98tna1KLXI",
        "outputId": "cf69b35d-d7d4-4138-9fb6-9e06fb820a75"
      },
      "execution_count": null,
      "outputs": [
        {
          "output_type": "stream",
          "name": "stdout",
          "text": [
            "2 4 6 "
          ]
        }
      ]
    },
    {
      "cell_type": "code",
      "source": [
        "# Normally, print()[the print function] ends with a newline. Passing the whitespace to the end parameter (end = \" \") indicates that the end character has to be identified by whitespace and not a newline.\n",
        "for i in range(5):\n",
        "    print(i, end = \" \")"
      ],
      "metadata": {
        "colab": {
          "base_uri": "https://localhost:8080/"
        },
        "id": "ne0vrO_YKVPI",
        "outputId": "9cafdf02-3ac7-40af-d443-d74927aca492"
      },
      "execution_count": null,
      "outputs": [
        {
          "output_type": "stream",
          "name": "stdout",
          "text": [
            "0 1 2 3 4 "
          ]
        }
      ]
    },
    {
      "cell_type": "code",
      "source": [],
      "metadata": {
        "id": "ObZjvXPwOfh-"
      },
      "execution_count": null,
      "outputs": []
    }
  ]
}