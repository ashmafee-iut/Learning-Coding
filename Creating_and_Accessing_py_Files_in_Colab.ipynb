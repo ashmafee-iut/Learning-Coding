{
  "nbformat": 4,
  "nbformat_minor": 0,
  "metadata": {
    "colab": {
      "provenance": [],
      "authorship_tag": "ABX9TyM9QiSQV/4WGRSCip4WQnoR",
      "include_colab_link": true
    },
    "kernelspec": {
      "name": "python3",
      "display_name": "Python 3"
    },
    "language_info": {
      "name": "python"
    }
  },
  "cells": [
    {
      "cell_type": "markdown",
      "metadata": {
        "id": "view-in-github",
        "colab_type": "text"
      },
      "source": [
        "<a href=\"https://colab.research.google.com/github/ashmafee-iut/Learning-Coding/blob/main/Creating_and_Accessing_py_Files_in_Colab.ipynb\" target=\"_parent\"><img src=\"https://colab.research.google.com/assets/colab-badge.svg\" alt=\"Open In Colab\"/></a>"
      ]
    },
    {
      "cell_type": "markdown",
      "source": [
        "[For more about import python scripts](https://towardsdatascience.com/importing-python-functions-from-other-scripts-8769ca65a3da)"
      ],
      "metadata": {
        "id": "gEQSvLQiLPeN"
      }
    },
    {
      "cell_type": "code",
      "execution_count": null,
      "metadata": {
        "colab": {
          "base_uri": "https://localhost:8080/",
          "height": 35
        },
        "id": "TmQDADeMwemT",
        "outputId": "f3014087-d35e-4d3e-fa41-22451ab5f834"
      },
      "outputs": [
        {
          "output_type": "execute_result",
          "data": {
            "text/plain": [
              "'/'"
            ],
            "application/vnd.google.colaboratory.intrinsic+json": {
              "type": "string"
            }
          },
          "metadata": {},
          "execution_count": 37
        }
      ],
      "source": [
        "pwd"
      ]
    },
    {
      "cell_type": "markdown",
      "source": [
        "**\"/content\"** is the **default folder** where my google colab notework is stored and works.   "
      ],
      "metadata": {
        "id": "wjb-cxe0wuct"
      }
    },
    {
      "cell_type": "code",
      "source": [
        "!mkdir my_project"
      ],
      "metadata": {
        "id": "RYuKObT7wm1G"
      },
      "execution_count": null,
      "outputs": []
    },
    {
      "cell_type": "code",
      "source": [
        "def state (a):\n",
        "  x = 3*a +2\n",
        "  return x"
      ],
      "metadata": {
        "id": "8AZpIsgsx9cE"
      },
      "execution_count": null,
      "outputs": []
    },
    {
      "cell_type": "code",
      "source": [
        "state(2)"
      ],
      "metadata": {
        "colab": {
          "base_uri": "https://localhost:8080/"
        },
        "id": "JrrIps3wyO7e",
        "outputId": "51697cbc-3ce7-43e7-f9b6-b36598e8b77c"
      },
      "execution_count": null,
      "outputs": [
        {
          "output_type": "execute_result",
          "data": {
            "text/plain": [
              "8"
            ]
          },
          "metadata": {},
          "execution_count": 4
        }
      ]
    },
    {
      "cell_type": "code",
      "source": [
        "!cd my_project"
      ],
      "metadata": {
        "id": "XeukU38vyQaO"
      },
      "execution_count": null,
      "outputs": []
    },
    {
      "cell_type": "code",
      "source": [
        "!pwd"
      ],
      "metadata": {
        "colab": {
          "base_uri": "https://localhost:8080/"
        },
        "id": "S_EiVuQNyvSN",
        "outputId": "028872f6-5296-4838-effa-58ef2c02f1e6"
      },
      "execution_count": null,
      "outputs": [
        {
          "output_type": "stream",
          "name": "stdout",
          "text": [
            "/content\n"
          ]
        }
      ]
    },
    {
      "cell_type": "markdown",
      "source": [
        "# **First case: Uploading .py File and Access it later**"
      ],
      "metadata": {
        "id": "ZQKwSu7-jjFe"
      }
    },
    {
      "cell_type": "code",
      "source": [
        "from google.colab import files\n",
        "upload = files.upload()\n"
      ],
      "metadata": {
        "colab": {
          "base_uri": "https://localhost:8080/",
          "height": 73
        },
        "id": "Q9CYOR5QyxB9",
        "outputId": "a93bd87b-a359-41c2-955d-61bd40f641d3"
      },
      "execution_count": null,
      "outputs": [
        {
          "output_type": "display_data",
          "data": {
            "text/plain": [
              "<IPython.core.display.HTML object>"
            ],
            "text/html": [
              "\n",
              "     <input type=\"file\" id=\"files-990480a3-3236-4468-83b1-a5254a1c49f6\" name=\"files[]\" multiple disabled\n",
              "        style=\"border:none\" />\n",
              "     <output id=\"result-990480a3-3236-4468-83b1-a5254a1c49f6\">\n",
              "      Upload widget is only available when the cell has been executed in the\n",
              "      current browser session. Please rerun this cell to enable.\n",
              "      </output>\n",
              "      <script>// Copyright 2017 Google LLC\n",
              "//\n",
              "// Licensed under the Apache License, Version 2.0 (the \"License\");\n",
              "// you may not use this file except in compliance with the License.\n",
              "// You may obtain a copy of the License at\n",
              "//\n",
              "//      http://www.apache.org/licenses/LICENSE-2.0\n",
              "//\n",
              "// Unless required by applicable law or agreed to in writing, software\n",
              "// distributed under the License is distributed on an \"AS IS\" BASIS,\n",
              "// WITHOUT WARRANTIES OR CONDITIONS OF ANY KIND, either express or implied.\n",
              "// See the License for the specific language governing permissions and\n",
              "// limitations under the License.\n",
              "\n",
              "/**\n",
              " * @fileoverview Helpers for google.colab Python module.\n",
              " */\n",
              "(function(scope) {\n",
              "function span(text, styleAttributes = {}) {\n",
              "  const element = document.createElement('span');\n",
              "  element.textContent = text;\n",
              "  for (const key of Object.keys(styleAttributes)) {\n",
              "    element.style[key] = styleAttributes[key];\n",
              "  }\n",
              "  return element;\n",
              "}\n",
              "\n",
              "// Max number of bytes which will be uploaded at a time.\n",
              "const MAX_PAYLOAD_SIZE = 100 * 1024;\n",
              "\n",
              "function _uploadFiles(inputId, outputId) {\n",
              "  const steps = uploadFilesStep(inputId, outputId);\n",
              "  const outputElement = document.getElementById(outputId);\n",
              "  // Cache steps on the outputElement to make it available for the next call\n",
              "  // to uploadFilesContinue from Python.\n",
              "  outputElement.steps = steps;\n",
              "\n",
              "  return _uploadFilesContinue(outputId);\n",
              "}\n",
              "\n",
              "// This is roughly an async generator (not supported in the browser yet),\n",
              "// where there are multiple asynchronous steps and the Python side is going\n",
              "// to poll for completion of each step.\n",
              "// This uses a Promise to block the python side on completion of each step,\n",
              "// then passes the result of the previous step as the input to the next step.\n",
              "function _uploadFilesContinue(outputId) {\n",
              "  const outputElement = document.getElementById(outputId);\n",
              "  const steps = outputElement.steps;\n",
              "\n",
              "  const next = steps.next(outputElement.lastPromiseValue);\n",
              "  return Promise.resolve(next.value.promise).then((value) => {\n",
              "    // Cache the last promise value to make it available to the next\n",
              "    // step of the generator.\n",
              "    outputElement.lastPromiseValue = value;\n",
              "    return next.value.response;\n",
              "  });\n",
              "}\n",
              "\n",
              "/**\n",
              " * Generator function which is called between each async step of the upload\n",
              " * process.\n",
              " * @param {string} inputId Element ID of the input file picker element.\n",
              " * @param {string} outputId Element ID of the output display.\n",
              " * @return {!Iterable<!Object>} Iterable of next steps.\n",
              " */\n",
              "function* uploadFilesStep(inputId, outputId) {\n",
              "  const inputElement = document.getElementById(inputId);\n",
              "  inputElement.disabled = false;\n",
              "\n",
              "  const outputElement = document.getElementById(outputId);\n",
              "  outputElement.innerHTML = '';\n",
              "\n",
              "  const pickedPromise = new Promise((resolve) => {\n",
              "    inputElement.addEventListener('change', (e) => {\n",
              "      resolve(e.target.files);\n",
              "    });\n",
              "  });\n",
              "\n",
              "  const cancel = document.createElement('button');\n",
              "  inputElement.parentElement.appendChild(cancel);\n",
              "  cancel.textContent = 'Cancel upload';\n",
              "  const cancelPromise = new Promise((resolve) => {\n",
              "    cancel.onclick = () => {\n",
              "      resolve(null);\n",
              "    };\n",
              "  });\n",
              "\n",
              "  // Wait for the user to pick the files.\n",
              "  const files = yield {\n",
              "    promise: Promise.race([pickedPromise, cancelPromise]),\n",
              "    response: {\n",
              "      action: 'starting',\n",
              "    }\n",
              "  };\n",
              "\n",
              "  cancel.remove();\n",
              "\n",
              "  // Disable the input element since further picks are not allowed.\n",
              "  inputElement.disabled = true;\n",
              "\n",
              "  if (!files) {\n",
              "    return {\n",
              "      response: {\n",
              "        action: 'complete',\n",
              "      }\n",
              "    };\n",
              "  }\n",
              "\n",
              "  for (const file of files) {\n",
              "    const li = document.createElement('li');\n",
              "    li.append(span(file.name, {fontWeight: 'bold'}));\n",
              "    li.append(span(\n",
              "        `(${file.type || 'n/a'}) - ${file.size} bytes, ` +\n",
              "        `last modified: ${\n",
              "            file.lastModifiedDate ? file.lastModifiedDate.toLocaleDateString() :\n",
              "                                    'n/a'} - `));\n",
              "    const percent = span('0% done');\n",
              "    li.appendChild(percent);\n",
              "\n",
              "    outputElement.appendChild(li);\n",
              "\n",
              "    const fileDataPromise = new Promise((resolve) => {\n",
              "      const reader = new FileReader();\n",
              "      reader.onload = (e) => {\n",
              "        resolve(e.target.result);\n",
              "      };\n",
              "      reader.readAsArrayBuffer(file);\n",
              "    });\n",
              "    // Wait for the data to be ready.\n",
              "    let fileData = yield {\n",
              "      promise: fileDataPromise,\n",
              "      response: {\n",
              "        action: 'continue',\n",
              "      }\n",
              "    };\n",
              "\n",
              "    // Use a chunked sending to avoid message size limits. See b/62115660.\n",
              "    let position = 0;\n",
              "    do {\n",
              "      const length = Math.min(fileData.byteLength - position, MAX_PAYLOAD_SIZE);\n",
              "      const chunk = new Uint8Array(fileData, position, length);\n",
              "      position += length;\n",
              "\n",
              "      const base64 = btoa(String.fromCharCode.apply(null, chunk));\n",
              "      yield {\n",
              "        response: {\n",
              "          action: 'append',\n",
              "          file: file.name,\n",
              "          data: base64,\n",
              "        },\n",
              "      };\n",
              "\n",
              "      let percentDone = fileData.byteLength === 0 ?\n",
              "          100 :\n",
              "          Math.round((position / fileData.byteLength) * 100);\n",
              "      percent.textContent = `${percentDone}% done`;\n",
              "\n",
              "    } while (position < fileData.byteLength);\n",
              "  }\n",
              "\n",
              "  // All done.\n",
              "  yield {\n",
              "    response: {\n",
              "      action: 'complete',\n",
              "    }\n",
              "  };\n",
              "}\n",
              "\n",
              "scope.google = scope.google || {};\n",
              "scope.google.colab = scope.google.colab || {};\n",
              "scope.google.colab._files = {\n",
              "  _uploadFiles,\n",
              "  _uploadFilesContinue,\n",
              "};\n",
              "})(self);\n",
              "</script> "
            ]
          },
          "metadata": {}
        },
        {
          "output_type": "stream",
          "name": "stdout",
          "text": [
            "Saving ex1.py to ex1.py\n"
          ]
        }
      ]
    },
    {
      "cell_type": "code",
      "source": [
        "cd .."
      ],
      "metadata": {
        "id": "Sj9vpJ3Oy8Jt",
        "colab": {
          "base_uri": "https://localhost:8080/"
        },
        "outputId": "f8a3a564-54de-4e28-cfef-2357213dbe26"
      },
      "execution_count": null,
      "outputs": [
        {
          "output_type": "stream",
          "name": "stdout",
          "text": [
            "/\n"
          ]
        }
      ]
    },
    {
      "cell_type": "code",
      "source": [
        "cd my_project\n"
      ],
      "metadata": {
        "colab": {
          "base_uri": "https://localhost:8080/"
        },
        "id": "598gxkGskrjh",
        "outputId": "b6d4ce4d-b572-4b2c-ad88-e7e5a2c3bb78"
      },
      "execution_count": null,
      "outputs": [
        {
          "output_type": "stream",
          "name": "stdout",
          "text": [
            "[Errno 2] No such file or directory: 'my_project'\n",
            "/\n"
          ]
        }
      ]
    },
    {
      "cell_type": "markdown",
      "source": [
        "**Access the .py file which is in the same folder**\n",
        "\n",
        "You don't need to specify **.py** while importing modules. Python knows your modules are Python code only. So remove .py while importing modules in Python.\n"
      ],
      "metadata": {
        "id": "i6VOsYqikBs8"
      }
    },
    {
      "cell_type": "code",
      "source": [
        "# when the .py file is in the same folder\n",
        "\n",
        "# from the python file import the method \n",
        "from ex1 import state\n",
        "state(5)"
      ],
      "metadata": {
        "colab": {
          "base_uri": "https://localhost:8080/"
        },
        "id": "QRt8lVMQmMmp",
        "outputId": "6fb5d55c-0878-43a2-9a6b-82748c11772c"
      },
      "execution_count": null,
      "outputs": [
        {
          "output_type": "execute_result",
          "data": {
            "text/plain": [
              "17"
            ]
          },
          "metadata": {},
          "execution_count": 27
        }
      ]
    },
    {
      "cell_type": "markdown",
      "source": [
        "**Access the .py file which is in another folder**"
      ],
      "metadata": {
        "id": "tbUktC_KkMGj"
      }
    },
    {
      "cell_type": "code",
      "source": [
        "# when the .py file is in another folder\n",
        "import sys\n",
        "sys.path.insert(0,'/content/my_project')\n",
        "\n",
        "\n",
        "from ex1 import state\n",
        "state(5)"
      ],
      "metadata": {
        "colab": {
          "base_uri": "https://localhost:8080/"
        },
        "id": "_BrKA1ogmY_4",
        "outputId": "03a41c53-c5f4-4ce4-969f-3f9ee4729834"
      },
      "execution_count": null,
      "outputs": [
        {
          "output_type": "execute_result",
          "data": {
            "text/plain": [
              "17"
            ]
          },
          "metadata": {},
          "execution_count": 11
        }
      ]
    },
    {
      "cell_type": "markdown",
      "source": [
        "# **First case: Creating.py File with a magic function (%%writefile) and Access it later**"
      ],
      "metadata": {
        "id": "2L-S6ASQkTQ0"
      }
    },
    {
      "cell_type": "code",
      "source": [
        "!pwd"
      ],
      "metadata": {
        "colab": {
          "base_uri": "https://localhost:8080/"
        },
        "id": "wPta0HuFnXX2",
        "outputId": "aa8711cc-89f1-4bfc-cc54-78a3c7fd3ce5"
      },
      "execution_count": null,
      "outputs": [
        {
          "output_type": "stream",
          "name": "stdout",
          "text": [
            "/\n"
          ]
        }
      ]
    },
    {
      "cell_type": "code",
      "source": [
        "%%writefile ex2.py\n",
        "def add (a, b):\n",
        "  return a+b\n",
        "\n"
      ],
      "metadata": {
        "colab": {
          "base_uri": "https://localhost:8080/"
        },
        "id": "5pU10QZ2lmwI",
        "outputId": "adcfbe36-cf46-4527-b86f-d39fc360ed2a"
      },
      "execution_count": null,
      "outputs": [
        {
          "output_type": "stream",
          "name": "stdout",
          "text": [
            "Writing ex2.py\n"
          ]
        }
      ]
    },
    {
      "cell_type": "code",
      "source": [
        "from ex2 import add\n",
        "add(5,6)"
      ],
      "metadata": {
        "colab": {
          "base_uri": "https://localhost:8080/"
        },
        "id": "tdGjll8dl7s2",
        "outputId": "fac94680-d395-4aa7-bedb-531c385668ec"
      },
      "execution_count": null,
      "outputs": [
        {
          "output_type": "execute_result",
          "data": {
            "text/plain": [
              "11"
            ]
          },
          "metadata": {},
          "execution_count": 14
        }
      ]
    },
    {
      "cell_type": "markdown",
      "source": [
        "Write another simple .py script to execute"
      ],
      "metadata": {
        "id": "jWNvortgmVeL"
      }
    },
    {
      "cell_type": "code",
      "source": [
        "%%writefile ex3.py\n",
        "print(\"My name is COLAB\")\n",
        "a = 5*100\n",
        "print(f'{a} times love for COLAB')"
      ],
      "metadata": {
        "colab": {
          "base_uri": "https://localhost:8080/"
        },
        "id": "ed2yXQqMmI8F",
        "outputId": "ba4f3a61-e814-4d2e-adfa-04c6f6dd886a"
      },
      "execution_count": null,
      "outputs": [
        {
          "output_type": "stream",
          "name": "stdout",
          "text": [
            "Writing ex3.py\n"
          ]
        }
      ]
    },
    {
      "cell_type": "markdown",
      "source": [
        "Now execute that .py script from colab following its actual path"
      ],
      "metadata": {
        "id": "nLjWcOyCm1aY"
      }
    },
    {
      "cell_type": "code",
      "source": [
        "!python /content/ex3.py"
      ],
      "metadata": {
        "colab": {
          "base_uri": "https://localhost:8080/"
        },
        "id": "l_Ur-P4_mn6k",
        "outputId": "0a5feeb6-0d9d-48cf-a4d2-07466045151a"
      },
      "execution_count": null,
      "outputs": [
        {
          "output_type": "stream",
          "name": "stdout",
          "text": [
            "python3: can't open file '/content/ex3.py': [Errno 2] No such file or directory\n"
          ]
        }
      ]
    },
    {
      "cell_type": "markdown",
      "source": [
        "Import a .py file from google drive"
      ],
      "metadata": {
        "id": "sGldbcNPoMXL"
      }
    },
    {
      "cell_type": "code",
      "source": [
        "from google.colab import drive\n",
        "drive.mount('/content/my_drive') \n"
      ],
      "metadata": {
        "colab": {
          "base_uri": "https://localhost:8080/"
        },
        "id": "aj42Il1xnDVk",
        "outputId": "27dc1e21-d5e6-46e3-dedc-bdc87b04444c"
      },
      "execution_count": null,
      "outputs": [
        {
          "output_type": "stream",
          "name": "stdout",
          "text": [
            "Mounted at /content/my_drive\n"
          ]
        }
      ]
    },
    {
      "cell_type": "markdown",
      "source": [
        "If python path doesnot work to be executed, then rename the as a string\n",
        "<br>like:<br>\n",
        "!python \"path\"\n"
      ],
      "metadata": {
        "id": "67cSztbgrvXJ"
      }
    },
    {
      "cell_type": "code",
      "source": [
        "!python /content/my_drive/MyDrive/ex1.py"
      ],
      "metadata": {
        "colab": {
          "base_uri": "https://localhost:8080/"
        },
        "id": "otgbD46Jog6f",
        "outputId": "5109ccd8-0e34-4791-9ae7-c15867cd9486"
      },
      "execution_count": null,
      "outputs": [
        {
          "output_type": "stream",
          "name": "stdout",
          "text": [
            "we are from another planet\n",
            "Hello from colab\n"
          ]
        }
      ]
    },
    {
      "cell_type": "code",
      "source": [
        "# when the .py file is in another folder\n",
        "import sys\n",
        "sys.path.insert(0,'/content/my_drive/MyDrive')\n",
        "\n",
        "\n",
        "from ex1 import state\n",
        "state(5)"
      ],
      "metadata": {
        "colab": {
          "base_uri": "https://localhost:8080/"
        },
        "id": "rw5FdWwJqWK7",
        "outputId": "74a51cf1-3044-4a69-821b-2aaef5e58e52"
      },
      "execution_count": null,
      "outputs": [
        {
          "output_type": "execute_result",
          "data": {
            "text/plain": [
              "17"
            ]
          },
          "metadata": {},
          "execution_count": 19
        }
      ]
    },
    {
      "cell_type": "markdown",
      "source": [
        "**Importing .py (python script) from  google drive**\n",
        "\n",
        " - at first we will copy the script in the working directory\n",
        "     - If there is any space in the path, we have to use a escape character (a black-slash (\\\\)) before the space character to recognize it.\n",
        "\n"
      ],
      "metadata": {
        "id": "-0E9tR2BUPNb"
      }
    },
    {
      "cell_type": "code",
      "source": [
        "!cp /content/my_drive/MyDrive/Colab\\ Notebooks/root.ipynb /content\n",
        "\n",
        "# it is not required anymore.... I have created the script here by myself"
      ],
      "metadata": {
        "id": "_ibH3BZMq0a-"
      },
      "execution_count": null,
      "outputs": []
    },
    {
      "cell_type": "code",
      "source": [
        "%%writefile root1.py\n",
        "\n",
        "def sqroot(x):\n",
        "  return x ** .5\n",
        "\n",
        "\n",
        "def square(x):\n",
        "  return x ** 2\n",
        "\n",
        "\n",
        "def cube(x):\n",
        "  return x ** 3\n",
        "\n",
        "def n_root(x, n):\n",
        "  return x ** n"
      ],
      "metadata": {
        "colab": {
          "base_uri": "https://localhost:8080/"
        },
        "id": "YXfyTrABWd0q",
        "outputId": "81c67d56-c424-4045-cd30-debf066fe2e2"
      },
      "execution_count": null,
      "outputs": [
        {
          "output_type": "stream",
          "name": "stdout",
          "text": [
            "Overwriting root1.py\n"
          ]
        }
      ]
    },
    {
      "cell_type": "code",
      "source": [],
      "metadata": {
        "id": "ALj2N4JFIJcE"
      },
      "execution_count": null,
      "outputs": []
    },
    {
      "cell_type": "markdown",
      "source": [
        "If we want to delete any imported module, use the del operator:\n",
        "\n",
        "> **del module**\n",
        "\n"
      ],
      "metadata": {
        "id": "3ZBbooEcLfUj"
      }
    },
    {
      "cell_type": "code",
      "source": [
        "import root1\n",
        "\n",
        "# if I want to delete it\n",
        "# del root"
      ],
      "metadata": {
        "id": "5QvtR3dQVImW"
      },
      "execution_count": null,
      "outputs": []
    },
    {
      "cell_type": "code",
      "source": [
        "print(root1.sqroot(4))\n",
        "print(root1.square(4))\n",
        "print(root1.cube(4))\n",
        "print(root1.n_root(4, 5))"
      ],
      "metadata": {
        "colab": {
          "base_uri": "https://localhost:8080/"
        },
        "id": "VsOaM93GVNqW",
        "outputId": "33fb8df9-d1cc-446e-fe19-472af941477f"
      },
      "execution_count": null,
      "outputs": [
        {
          "output_type": "stream",
          "name": "stdout",
          "text": [
            "2.0\n",
            "16\n",
            "64\n",
            "1024\n"
          ]
        }
      ]
    },
    {
      "cell_type": "code",
      "source": [
        "from root1 import square\n",
        "square(5)"
      ],
      "metadata": {
        "colab": {
          "base_uri": "https://localhost:8080/"
        },
        "id": "gOVk0aJpJM5i",
        "outputId": "1844d95d-8fe8-4740-a12d-23816b707bf0"
      },
      "execution_count": null,
      "outputs": [
        {
          "output_type": "execute_result",
          "data": {
            "text/plain": [
              "25"
            ]
          },
          "metadata": {},
          "execution_count": 30
        }
      ]
    },
    {
      "cell_type": "code",
      "source": [
        " %%writefile /content/my_project/calculator.py\n",
        "\n",
        "def add(x, y):\n",
        "  return x + y\n",
        "\n",
        "def subtract(x, y):\n",
        "  return x - y\n",
        "\n",
        "def multiplication(x, y):\n",
        "  return x * y\n",
        "\n",
        "def division(x, y):\n",
        "  return x / y"
      ],
      "metadata": {
        "id": "2_qYip_MTCGE",
        "colab": {
          "base_uri": "https://localhost:8080/"
        },
        "outputId": "cd7e865c-ca0d-4942-e206-b4fb96bb7d98"
      },
      "execution_count": null,
      "outputs": [
        {
          "output_type": "stream",
          "name": "stdout",
          "text": [
            "Overwriting /content/my_project/calculator.py\n"
          ]
        }
      ]
    },
    {
      "cell_type": "code",
      "source": [
        "!ls"
      ],
      "metadata": {
        "colab": {
          "base_uri": "https://localhost:8080/"
        },
        "id": "yQ2fJGSJKAW2",
        "outputId": "fb8a7029-1f2e-4fe5-91ab-7b3a895b6fe8"
      },
      "execution_count": null,
      "outputs": [
        {
          "output_type": "stream",
          "name": "stdout",
          "text": [
            "bin\t etc\t lib32\t\t\t   opt\t\troot1.py  tmp\n",
            "boot\t ex2.py  lib64\t\t\t   proc\t\trun\t  tools\n",
            "content  ex3.py  media\t\t\t   __pycache__\tsbin\t  usr\n",
            "datalab  home\t mnt\t\t\t   python-apt\tsrv\t  var\n",
            "dev\t lib\t NGC-DL-CONTAINER-LICENSE  root\t\tsys\n"
          ]
        }
      ]
    },
    {
      "cell_type": "markdown",
      "source": [
        "\n"
      ],
      "metadata": {
        "id": "ygzoP3s5KYOb"
      }
    },
    {
      "cell_type": "code",
      "source": [
        "import my_project.calculator as cal"
      ],
      "metadata": {
        "id": "_yMF2bJZI3EF"
      },
      "execution_count": null,
      "outputs": []
    },
    {
      "cell_type": "code",
      "source": [
        "print(cal.add(4,5))\n",
        "print(cal.subtract(4,5))\n",
        "print(cal.multiplication(4,5))\n",
        "print(cal.division(4,5))"
      ],
      "metadata": {
        "id": "ZkCOOBYaTK92",
        "colab": {
          "base_uri": "https://localhost:8080/"
        },
        "outputId": "c4e6b748-2f41-425b-9e0a-67466fdce6a7"
      },
      "execution_count": null,
      "outputs": [
        {
          "output_type": "stream",
          "name": "stdout",
          "text": [
            "9\n",
            "-1\n",
            "20\n",
            "0.8\n"
          ]
        }
      ]
    },
    {
      "cell_type": "code",
      "source": [
        "from my_project.calculator import add\n",
        "add(4,5)"
      ],
      "metadata": {
        "id": "m0EysrrWTMOv",
        "colab": {
          "base_uri": "https://localhost:8080/"
        },
        "outputId": "785db4ad-c6a0-4eeb-8684-32802815cf92"
      },
      "execution_count": null,
      "outputs": [
        {
          "output_type": "execute_result",
          "data": {
            "text/plain": [
              "9"
            ]
          },
          "metadata": {},
          "execution_count": 45
        }
      ]
    },
    {
      "cell_type": "code",
      "source": [
        "import ex1\n",
        "state(5)"
      ],
      "metadata": {
        "id": "qKluPjMvTLhF",
        "colab": {
          "base_uri": "https://localhost:8080/"
        },
        "outputId": "ecf02363-3c09-4fb0-c0b3-f27cfedf9971"
      },
      "execution_count": null,
      "outputs": [
        {
          "output_type": "execute_result",
          "data": {
            "text/plain": [
              "17"
            ]
          },
          "metadata": {},
          "execution_count": 48
        }
      ]
    },
    {
      "cell_type": "code",
      "source": [],
      "metadata": {
        "id": "1M_0aA6xOpPw"
      },
      "execution_count": null,
      "outputs": []
    },
    {
      "cell_type": "markdown",
      "source": [
        "**Importing module from a notebook**<br>\n",
        "It is problemetic. Try to solve it\n",
        "[link text](https://www.youtube.com/watch?v=sJFHCQPxclw)\n"
      ],
      "metadata": {
        "id": "2nHi2iQLOqJR"
      }
    },
    {
      "cell_type": "code",
      "source": [
        "!cp /content/my_drive/MyDrive/Colab\\ Notebooks/root.ipynb /content\n"
      ],
      "metadata": {
        "id": "UtVcy_QXOnjZ"
      },
      "execution_count": null,
      "outputs": []
    },
    {
      "cell_type": "code",
      "source": [
        "!pip install import_ipynb\n",
        "import import_ipynb"
      ],
      "metadata": {
        "colab": {
          "base_uri": "https://localhost:8080/"
        },
        "id": "hXWdnT97PRrg",
        "outputId": "8393192f-16da-42ea-926e-71c8a8e3052c"
      },
      "execution_count": null,
      "outputs": [
        {
          "output_type": "stream",
          "name": "stdout",
          "text": [
            "Looking in indexes: https://pypi.org/simple, https://us-python.pkg.dev/colab-wheels/public/simple/\n",
            "Requirement already satisfied: import_ipynb in /usr/local/lib/python3.8/dist-packages (0.1.4)\n",
            "Requirement already satisfied: IPython in /usr/local/lib/python3.8/dist-packages (from import_ipynb) (7.9.0)\n",
            "Requirement already satisfied: nbformat in /usr/local/lib/python3.8/dist-packages (from import_ipynb) (5.7.0)\n",
            "Requirement already satisfied: pexpect in /usr/local/lib/python3.8/dist-packages (from IPython->import_ipynb) (4.8.0)\n",
            "Requirement already satisfied: traitlets>=4.2 in /usr/local/lib/python3.8/dist-packages (from IPython->import_ipynb) (5.6.0)\n",
            "Requirement already satisfied: decorator in /usr/local/lib/python3.8/dist-packages (from IPython->import_ipynb) (4.4.2)\n",
            "Requirement already satisfied: pygments in /usr/local/lib/python3.8/dist-packages (from IPython->import_ipynb) (2.6.1)\n",
            "Requirement already satisfied: setuptools>=18.5 in /usr/local/lib/python3.8/dist-packages (from IPython->import_ipynb) (57.4.0)\n",
            "Requirement already satisfied: jedi>=0.10 in /usr/local/lib/python3.8/dist-packages (from IPython->import_ipynb) (0.18.2)\n",
            "Requirement already satisfied: pickleshare in /usr/local/lib/python3.8/dist-packages (from IPython->import_ipynb) (0.7.5)\n",
            "Requirement already satisfied: backcall in /usr/local/lib/python3.8/dist-packages (from IPython->import_ipynb) (0.2.0)\n",
            "Requirement already satisfied: prompt-toolkit<2.1.0,>=2.0.0 in /usr/local/lib/python3.8/dist-packages (from IPython->import_ipynb) (2.0.10)\n",
            "Requirement already satisfied: parso<0.9.0,>=0.8.0 in /usr/local/lib/python3.8/dist-packages (from jedi>=0.10->IPython->import_ipynb) (0.8.3)\n",
            "Requirement already satisfied: six>=1.9.0 in /usr/local/lib/python3.8/dist-packages (from prompt-toolkit<2.1.0,>=2.0.0->IPython->import_ipynb) (1.15.0)\n",
            "Requirement already satisfied: wcwidth in /usr/local/lib/python3.8/dist-packages (from prompt-toolkit<2.1.0,>=2.0.0->IPython->import_ipynb) (0.2.5)\n",
            "Requirement already satisfied: jupyter-core in /usr/local/lib/python3.8/dist-packages (from nbformat->import_ipynb) (5.1.0)\n",
            "Requirement already satisfied: fastjsonschema in /usr/local/lib/python3.8/dist-packages (from nbformat->import_ipynb) (2.16.2)\n",
            "Requirement already satisfied: jsonschema>=2.6 in /usr/local/lib/python3.8/dist-packages (from nbformat->import_ipynb) (4.3.3)\n",
            "Requirement already satisfied: attrs>=17.4.0 in /usr/local/lib/python3.8/dist-packages (from jsonschema>=2.6->nbformat->import_ipynb) (22.1.0)\n",
            "Requirement already satisfied: pyrsistent!=0.17.0,!=0.17.1,!=0.17.2,>=0.14.0 in /usr/local/lib/python3.8/dist-packages (from jsonschema>=2.6->nbformat->import_ipynb) (0.19.2)\n",
            "Requirement already satisfied: importlib-resources>=1.4.0 in /usr/local/lib/python3.8/dist-packages (from jsonschema>=2.6->nbformat->import_ipynb) (5.10.0)\n",
            "Requirement already satisfied: zipp>=3.1.0 in /usr/local/lib/python3.8/dist-packages (from importlib-resources>=1.4.0->jsonschema>=2.6->nbformat->import_ipynb) (3.11.0)\n",
            "Requirement already satisfied: platformdirs>=2.5 in /usr/local/lib/python3.8/dist-packages (from jupyter-core->nbformat->import_ipynb) (2.5.4)\n",
            "Requirement already satisfied: ptyprocess>=0.5 in /usr/local/lib/python3.8/dist-packages (from pexpect->IPython->import_ipynb) (0.7.0)\n"
          ]
        }
      ]
    },
    {
      "cell_type": "code",
      "source": [
        "import root"
      ],
      "metadata": {
        "id": "jBSnq_4gMWK4"
      },
      "execution_count": null,
      "outputs": []
    },
    {
      "cell_type": "code",
      "source": [
        "root.sqroot(5)"
      ],
      "metadata": {
        "colab": {
          "base_uri": "https://localhost:8080/",
          "height": 165
        },
        "id": "7Sf1XA1AMuLr",
        "outputId": "fca6fc1e-9fed-41eb-8214-4d9cbc853915"
      },
      "execution_count": null,
      "outputs": [
        {
          "output_type": "error",
          "ename": "AttributeError",
          "evalue": "ignored",
          "traceback": [
            "\u001b[0;31m---------------------------------------------------------------------------\u001b[0m",
            "\u001b[0;31mAttributeError\u001b[0m                            Traceback (most recent call last)",
            "\u001b[0;32m<ipython-input-72-975f9890edb8>\u001b[0m in \u001b[0;36m<module>\u001b[0;34m\u001b[0m\n\u001b[0;32m----> 1\u001b[0;31m \u001b[0mroot\u001b[0m\u001b[0;34m.\u001b[0m\u001b[0msqroot\u001b[0m\u001b[0;34m(\u001b[0m\u001b[0;36m5\u001b[0m\u001b[0;34m)\u001b[0m\u001b[0;34m\u001b[0m\u001b[0;34m\u001b[0m\u001b[0m\n\u001b[0m",
            "\u001b[0;31mAttributeError\u001b[0m: module 'root' has no attribute 'sqroot'"
          ]
        }
      ]
    },
    {
      "cell_type": "code",
      "source": [],
      "metadata": {
        "id": "oBMUXoqrA0TL"
      },
      "execution_count": null,
      "outputs": []
    },
    {
      "cell_type": "code",
      "source": [],
      "metadata": {
        "id": "7a-ch4LmA0G2"
      },
      "execution_count": null,
      "outputs": []
    },
    {
      "cell_type": "code",
      "source": [],
      "metadata": {
        "id": "t2LV3V-JAz_l"
      },
      "execution_count": null,
      "outputs": []
    },
    {
      "cell_type": "markdown",
      "source": [
        "# **Import class from another script/module** "
      ],
      "metadata": {
        "id": "kSIzmFtZA0zE"
      }
    },
    {
      "cell_type": "code",
      "source": [
        "%%writefile MyFile.py\n",
        "\n",
        "class Square:\n",
        "   def __init__(self,val):\n",
        "      self.val=val\n",
        "   def getVal(self):\n",
        "      return self.val*self.val"
      ],
      "metadata": {
        "id": "RoFlOm47MzBW",
        "colab": {
          "base_uri": "https://localhost:8080/"
        },
        "outputId": "80031631-e197-4cfb-c0b3-d1dca1c8f642"
      },
      "execution_count": null,
      "outputs": [
        {
          "output_type": "stream",
          "name": "stdout",
          "text": [
            "Overwriting MyFile.py\n"
          ]
        }
      ]
    },
    {
      "cell_type": "code",
      "source": [
        "from MyFile import Square\n",
        " \n",
        "newClass = Square(5)\n",
        "val = newClass.getVal()\n",
        " \n",
        "print(val)"
      ],
      "metadata": {
        "colab": {
          "base_uri": "https://localhost:8080/"
        },
        "id": "t3FM4BafBBGy",
        "outputId": "957a99c8-f487-49c8-b50e-c1abe7582426"
      },
      "execution_count": null,
      "outputs": [
        {
          "output_type": "stream",
          "name": "stdout",
          "text": [
            "25\n"
          ]
        }
      ]
    },
    {
      "cell_type": "markdown",
      "source": [
        "Call multiple classes "
      ],
      "metadata": {
        "id": "8YKc7t14BVxc"
      }
    },
    {
      "cell_type": "code",
      "source": [
        "%%writefile MyFile.py\n",
        "\n",
        "\n",
        "class Square:\n",
        "   def __init__(self,val):\n",
        "      self.val=val\n",
        "   def getVal(self):\n",
        "      return self.val*self.val\n",
        " \n",
        " \n",
        "class Add_Sub:\n",
        "   def add(self, a, b):\n",
        "      return a + b\n",
        "   def sub(self, a, b):\n",
        "      return a - b"
      ],
      "metadata": {
        "colab": {
          "base_uri": "https://localhost:8080/"
        },
        "id": "2Og45SbQBNJL",
        "outputId": "68ed0802-1888-4479-d77a-5a7426d59cfa"
      },
      "execution_count": null,
      "outputs": [
        {
          "output_type": "stream",
          "name": "stdout",
          "text": [
            "Overwriting MyFile.py\n"
          ]
        }
      ]
    },
    {
      "cell_type": "code",
      "source": [
        "#del MyFile\n",
        "import MyFile\n",
        "# creating object for Square class\n",
        "object1 = MyFile.Square(5)\n",
        "print(f\"From class Square: {object1.getVal()}\")\n",
        "# creating object for Add_Sub class\n",
        "object2 = MyFile.Add_Sub()\n",
        "print(f\"From class Add_Sub: Addition {object2.add(2,3)}\")\n",
        "print(f\"From class Add_Sub: Subtraction {object2.sub(2,3)}\")\n",
        " "
      ],
      "metadata": {
        "colab": {
          "base_uri": "https://localhost:8080/"
        },
        "id": "8IPW3MphBeWJ",
        "outputId": "31226867-dea5-439b-bf9f-b3d1aa3d14a5"
      },
      "execution_count": null,
      "outputs": [
        {
          "output_type": "stream",
          "name": "stdout",
          "text": [
            "From class Square: 25\n",
            "From class Add_Sub: Addition 5\n",
            "From class Add_Sub: Subtraction -1\n"
          ]
        }
      ]
    },
    {
      "cell_type": "code",
      "source": [
        "print(dir(MyFile))"
      ],
      "metadata": {
        "colab": {
          "base_uri": "https://localhost:8080/"
        },
        "id": "Ka3McULPBhU5",
        "outputId": "da9a93c9-b45e-4452-d2d2-b3c03267e6d5"
      },
      "execution_count": null,
      "outputs": [
        {
          "output_type": "stream",
          "name": "stdout",
          "text": [
            "['Square', '__builtins__', '__cached__', '__doc__', '__file__', '__loader__', '__name__', '__package__', '__spec__']\n"
          ]
        }
      ]
    },
    {
      "cell_type": "code",
      "source": [
        "%%writefile module.py\n",
        "\n",
        "class GFG:\n",
        "      \n",
        "    # methods\n",
        "    def add(self, a, b):\n",
        "        return a + b\n",
        "    def sub(self, a, b):\n",
        "        return a - b\n",
        "  \n",
        "# explicit function      \n",
        "def method():\n",
        "    print(\"GFG\")"
      ],
      "metadata": {
        "colab": {
          "base_uri": "https://localhost:8080/"
        },
        "id": "Eh_ORSdhB3Bn",
        "outputId": "602c9289-40be-41ed-fdf0-0bee99e24dda"
      },
      "execution_count": null,
      "outputs": [
        {
          "output_type": "stream",
          "name": "stdout",
          "text": [
            "Overwriting module.py\n"
          ]
        }
      ]
    },
    {
      "cell_type": "code",
      "source": [
        "import module\n",
        "   \n",
        "# Created a class object\n",
        "object = module.GFG()\n",
        "   \n",
        "# Calling and printing class methods\n",
        "print(object.add(15,5))\n",
        "print(object.sub(15,5))\n",
        "   \n",
        "# Calling the function\n",
        "module.method()"
      ],
      "metadata": {
        "colab": {
          "base_uri": "https://localhost:8080/"
        },
        "id": "42y8O5YMFNwY",
        "outputId": "e490abf6-8134-4182-9745-e91b56ca0e49"
      },
      "execution_count": null,
      "outputs": [
        {
          "output_type": "stream",
          "name": "stdout",
          "text": [
            "20\n",
            "10\n",
            "GFG\n"
          ]
        }
      ]
    },
    {
      "cell_type": "code",
      "source": [],
      "metadata": {
        "id": "TJHswpeNFPuf"
      },
      "execution_count": null,
      "outputs": []
    }
  ]
}